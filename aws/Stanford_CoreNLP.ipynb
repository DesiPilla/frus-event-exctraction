{
 "cells": [
  {
   "cell_type": "code",
   "execution_count": 1,
   "metadata": {},
   "outputs": [],
   "source": [
    "import os, sys\n",
    "\n",
    "import time\n",
    "start_time = time.time()\n",
    "\n",
    "import io\n",
    "import re\n",
    "import json\n",
    "import boto3\n",
    "import pickle\n",
    "import stanza\n",
    "import logging\n",
    "import pandas as pd\n",
    "from pymongo import MongoClient"
   ]
  },
  {
   "cell_type": "code",
   "execution_count": 2,
   "metadata": {},
   "outputs": [
    {
     "name": "stderr",
     "output_type": "stream",
     "text": [
      "CRITICAL:root:Configure s3...\n"
     ]
    }
   ],
   "source": [
    "os.environ[\"bucket\"] = 'frus-corenlp'\n",
    "\n",
    "# Configure s3 client and resource\n",
    "logging.critical(\"Configure s3...\")\n",
    "bucket = os.environ[\"bucket\"]\n",
    "# s3 = boto3.client('s3', aws_access_key_id=aws_id, aws_secret_access_key=aws_secret_key)\n",
    "# s3_resource = boto3.resource('s3', aws_access_key_id=aws_id, aws_secret_access_key=aws_secret_key)\n",
    "\n",
    "s3 = boto3.client('s3')\n",
    "s3_resource = boto3.resource('s3')"
   ]
  },
  {
   "cell_type": "code",
   "execution_count": 3,
   "metadata": {},
   "outputs": [],
   "source": [
    "# stanza.download('en', '.') # download English model"
   ]
  },
  {
   "cell_type": "code",
   "execution_count": 4,
   "metadata": {},
   "outputs": [],
   "source": [
    "# stanza.install_corenlp()"
   ]
  },
  {
   "cell_type": "code",
   "execution_count": 5,
   "metadata": {},
   "outputs": [],
   "source": [
    "# nlp = stanza.Pipeline('en', '.')"
   ]
  },
  {
   "cell_type": "code",
   "execution_count": null,
   "metadata": {},
   "outputs": [],
   "source": []
  },
  {
   "cell_type": "code",
   "execution_count": null,
   "metadata": {},
   "outputs": [],
   "source": []
  },
  {
   "cell_type": "code",
   "execution_count": 23,
   "metadata": {},
   "outputs": [],
   "source": [
    "def func(a):\n",
    "    print(a)\n",
    "    return 1"
   ]
  },
  {
   "cell_type": "code",
   "execution_count": 24,
   "metadata": {},
   "outputs": [],
   "source": [
    "def get_batch(b):\n",
    "    key = \"dataframes/batch-{:04d}.csv\".format(b)\n",
    "    data = s3_resource.Object(\"frus-corenlp\", key).get()['Body'].read()\n",
    "    df = pd.read_csv(io.BytesIO(data)).iloc[:, 1:]\n",
    "    return df"
   ]
  },
  {
   "cell_type": "code",
   "execution_count": 38,
   "metadata": {},
   "outputs": [
    {
     "name": "stdout",
     "output_type": "stream",
     "text": [
      "8\n"
     ]
    }
   ],
   "source": [
    "from itertools import count\n",
    "from multiprocess import Process, Pool\n",
    "\n",
    "import multiprocessing as mp\n",
    "import handler\n",
    "\n",
    "num_workers = mp.cpu_count() \n",
    "print(num_workers)"
   ]
  },
  {
   "cell_type": "code",
   "execution_count": 39,
   "metadata": {},
   "outputs": [
    {
     "data": {
      "text/plain": [
       "[<Process name='Process-17' pid=20148 parent=7952 started>,\n",
       " <Process name='Process-18' pid=13428 parent=7952 started>]"
      ]
     },
     "execution_count": 39,
     "metadata": {},
     "output_type": "execute_result"
    }
   ],
   "source": [
    "timeout = 120\n",
    "context = {}\n",
    "was = {}\n",
    "to_parse = {}\n",
    "\n",
    "num_threads = 2 #mp.cpu_count() \n",
    "ps = [None] * num_threads\n",
    "results = [None] * num_threads\n",
    "for b in range(2, len(ps)+2):\n",
    "    key = \"dataframes/batch-{:04d}.csv\".format(b)\n",
    "    event = {\"key\": key, \"timeout\":timeout}\n",
    "\n",
    "    ps[b-2] = Process(target=handler.handler, args=(event,))\n",
    "    ps[b-2].start()\n",
    "    was[b] = 'all'\n",
    "    to_parse[b] = 6466\n",
    "\n",
    "last_time = time.time()\n",
    "\n",
    "# for b in range(len(ps)):\n",
    "#     ps[b].join(timeout=timeout+10)\n",
    "ps"
   ]
  },
  {
   "cell_type": "code",
   "execution_count": 40,
   "metadata": {},
   "outputs": [
    {
     "data": {
      "text/plain": [
       "[<Process name='Process-17' pid=20148 parent=7952 started>,\n",
       " <Process name='Process-18' pid=13428 parent=7952 started>]"
      ]
     },
     "execution_count": 40,
     "metadata": {},
     "output_type": "execute_result"
    }
   ],
   "source": [
    "ps"
   ]
  },
  {
   "cell_type": "code",
   "execution_count": 20,
   "metadata": {},
   "outputs": [
    {
     "name": "stdout",
     "output_type": "stream",
     "text": [
      "[<Process name='Process-7' pid=18752 parent=7952 started>, <Process name='Process-8' pid=18840 parent=7952 started>]\n",
      "\n",
      "It has been 0.74 minutes since invoking the Lambda functions.\n",
      "Batch    2:  6466 (all last) 6466\n",
      "Batch    3:  6466 (all last) 6466\n"
     ]
    }
   ],
   "source": [
    "[print(ps[i]) for i in range(2, len(ps)+2)]\n",
    "\n",
    "print(\"\\nIt has been {:.2f} minutes since invoking the Lambda functions.\".format((time.time() - last_time) / 60))\n",
    "for b in range(2, len(ps)+2):\n",
    "    df = get_batch(b)\n",
    "    if 'parsed' not in df.columns:\n",
    "        df['parsed'] = None\n",
    "    print('Batch {0:4,}:  {1:3} ({2:3} last) {3:3}'.format(b, df.parsed.isnull().sum(), was[b], to_parse[b]))\n",
    "    was[b] = df.parsed.isnull().sum()"
   ]
  },
  {
   "cell_type": "code",
   "execution_count": 21,
   "metadata": {},
   "outputs": [
    {
     "data": {
      "text/html": [
       "<div>\n",
       "<style scoped>\n",
       "    .dataframe tbody tr th:only-of-type {\n",
       "        vertical-align: middle;\n",
       "    }\n",
       "\n",
       "    .dataframe tbody tr th {\n",
       "        vertical-align: top;\n",
       "    }\n",
       "\n",
       "    .dataframe thead th {\n",
       "        text-align: right;\n",
       "    }\n",
       "</style>\n",
       "<table border=\"1\" class=\"dataframe\">\n",
       "  <thead>\n",
       "    <tr style=\"text-align: right;\">\n",
       "      <th></th>\n",
       "      <th>id</th>\n",
       "      <th>id.1</th>\n",
       "      <th>text</th>\n",
       "      <th>title</th>\n",
       "      <th>url</th>\n",
       "      <th>date</th>\n",
       "      <th>website</th>\n",
       "      <th>language</th>\n",
       "      <th>decade</th>\n",
       "      <th>num_words</th>\n",
       "      <th>num_capitalized_words</th>\n",
       "      <th>perc_capitalized_words</th>\n",
       "      <th>batch</th>\n",
       "    </tr>\n",
       "  </thead>\n",
       "  <tbody>\n",
       "    <tr>\n",
       "      <th>0</th>\n",
       "      <td>2</td>\n",
       "      <td>2</td>\n",
       "      <td>The Consul General at Salisbury ( Sims ) to th...</td>\n",
       "      <td>[3] The Consul General at Salisbury ( Sims ) t...</td>\n",
       "      <td>3</td>\n",
       "      <td>1952-03-18</td>\n",
       "      <td>Truman</td>\n",
       "      <td>English</td>\n",
       "      <td>1950</td>\n",
       "      <td>2530</td>\n",
       "      <td>306</td>\n",
       "      <td>0.120949</td>\n",
       "      <td>2</td>\n",
       "    </tr>\n",
       "    <tr>\n",
       "      <th>1</th>\n",
       "      <td>52</td>\n",
       "      <td>52</td>\n",
       "      <td>Memorandum of Conversation, by the Director, O...</td>\n",
       "      <td>[193] Memorandum of Conversation, by the Direc...</td>\n",
       "      <td>55</td>\n",
       "      <td>1953-03-24</td>\n",
       "      <td>Truman</td>\n",
       "      <td>English</td>\n",
       "      <td>1950</td>\n",
       "      <td>1121</td>\n",
       "      <td>171</td>\n",
       "      <td>0.152542</td>\n",
       "      <td>2</td>\n",
       "    </tr>\n",
       "    <tr>\n",
       "      <th>2</th>\n",
       "      <td>102</td>\n",
       "      <td>102</td>\n",
       "      <td>Memorandum of Conversation, by Alexander J. Da...</td>\n",
       "      <td>[246] Memorandum of Conversation, by Alexander...</td>\n",
       "      <td>105</td>\n",
       "      <td>1954-10-29</td>\n",
       "      <td>Truman</td>\n",
       "      <td>English</td>\n",
       "      <td>1950</td>\n",
       "      <td>1327</td>\n",
       "      <td>247</td>\n",
       "      <td>0.186134</td>\n",
       "      <td>2</td>\n",
       "    </tr>\n",
       "    <tr>\n",
       "      <th>3</th>\n",
       "      <td>152</td>\n",
       "      <td>152</td>\n",
       "      <td>The Secretary of State to the Legation in Liby...</td>\n",
       "      <td>[299] The Secretary of State to the Legation i...</td>\n",
       "      <td>155</td>\n",
       "      <td>1954-08-24</td>\n",
       "      <td>Truman</td>\n",
       "      <td>English</td>\n",
       "      <td>1950</td>\n",
       "      <td>556</td>\n",
       "      <td>61</td>\n",
       "      <td>0.109712</td>\n",
       "      <td>2</td>\n",
       "    </tr>\n",
       "    <tr>\n",
       "      <th>4</th>\n",
       "      <td>202</td>\n",
       "      <td>202</td>\n",
       "      <td>The Secretary of State to the United States Mi...</td>\n",
       "      <td>[357] The Secretary of State to the United Sta...</td>\n",
       "      <td>205</td>\n",
       "      <td>1954-12-11</td>\n",
       "      <td>Truman</td>\n",
       "      <td>English</td>\n",
       "      <td>1950</td>\n",
       "      <td>311</td>\n",
       "      <td>46</td>\n",
       "      <td>0.147910</td>\n",
       "      <td>2</td>\n",
       "    </tr>\n",
       "    <tr>\n",
       "      <th>...</th>\n",
       "      <td>...</td>\n",
       "      <td>...</td>\n",
       "      <td>...</td>\n",
       "      <td>...</td>\n",
       "      <td>...</td>\n",
       "      <td>...</td>\n",
       "      <td>...</td>\n",
       "      <td>...</td>\n",
       "      <td>...</td>\n",
       "      <td>...</td>\n",
       "      <td>...</td>\n",
       "      <td>...</td>\n",
       "      <td>...</td>\n",
       "    </tr>\n",
       "    <tr>\n",
       "      <th>6461</th>\n",
       "      <td>323052</td>\n",
       "      <td>323052</td>\n",
       "      <td>104. Memorandum From Secretary of State Rogers...</td>\n",
       "      <td>104. Memorandum From Secretary of State Rogers...</td>\n",
       "      <td>178055</td>\n",
       "      <td>1970-11-24</td>\n",
       "      <td>Nixon-Ford</td>\n",
       "      <td>English</td>\n",
       "      <td>1970</td>\n",
       "      <td>926</td>\n",
       "      <td>151</td>\n",
       "      <td>0.163067</td>\n",
       "      <td>2</td>\n",
       "    </tr>\n",
       "    <tr>\n",
       "      <th>6462</th>\n",
       "      <td>323102</td>\n",
       "      <td>323102</td>\n",
       "      <td>250. Memorandum From A. Denis Clift of the Nat...</td>\n",
       "      <td>250. Memorandum From A. Denis Clift of the Nat...</td>\n",
       "      <td>178555</td>\n",
       "      <td>1972-08-28</td>\n",
       "      <td>Nixon-Ford</td>\n",
       "      <td>English</td>\n",
       "      <td>1970</td>\n",
       "      <td>695</td>\n",
       "      <td>132</td>\n",
       "      <td>0.189928</td>\n",
       "      <td>2</td>\n",
       "    </tr>\n",
       "    <tr>\n",
       "      <th>6463</th>\n",
       "      <td>323152</td>\n",
       "      <td>323152</td>\n",
       "      <td>33. Memorandum From Acting Secretary of State ...</td>\n",
       "      <td>33. Memorandum From Acting Secretary of State ...</td>\n",
       "      <td>321918</td>\n",
       "      <td>1969-08-16</td>\n",
       "      <td>Nixon-Ford</td>\n",
       "      <td>English</td>\n",
       "      <td>1960</td>\n",
       "      <td>963</td>\n",
       "      <td>180</td>\n",
       "      <td>0.186916</td>\n",
       "      <td>2</td>\n",
       "    </tr>\n",
       "    <tr>\n",
       "      <th>6464</th>\n",
       "      <td>323202</td>\n",
       "      <td>323202</td>\n",
       "      <td>87. Memorandum From the Assistant Director, Ne...</td>\n",
       "      <td>87. Memorandum From the Assistant Director, Ne...</td>\n",
       "      <td>84359</td>\n",
       "      <td>1970-01-01</td>\n",
       "      <td>Nixon-Ford</td>\n",
       "      <td>English</td>\n",
       "      <td>1970</td>\n",
       "      <td>641</td>\n",
       "      <td>83</td>\n",
       "      <td>0.129485</td>\n",
       "      <td>2</td>\n",
       "    </tr>\n",
       "    <tr>\n",
       "      <th>6465</th>\n",
       "      <td>323252</td>\n",
       "      <td>323252</td>\n",
       "      <td>143. Memorandum From the Deputy Assistant Secr...</td>\n",
       "      <td>143. Memorandum From the Deputy Assistant Secr...</td>\n",
       "      <td>138665</td>\n",
       "      <td>1971-07-27</td>\n",
       "      <td>Nixon-Ford</td>\n",
       "      <td>English</td>\n",
       "      <td>1970</td>\n",
       "      <td>713</td>\n",
       "      <td>131</td>\n",
       "      <td>0.183731</td>\n",
       "      <td>2</td>\n",
       "    </tr>\n",
       "  </tbody>\n",
       "</table>\n",
       "<p>6466 rows × 13 columns</p>\n",
       "</div>"
      ],
      "text/plain": [
       "          id    id.1                                               text  \\\n",
       "0          2       2  The Consul General at Salisbury ( Sims ) to th...   \n",
       "1         52      52  Memorandum of Conversation, by the Director, O...   \n",
       "2        102     102  Memorandum of Conversation, by Alexander J. Da...   \n",
       "3        152     152  The Secretary of State to the Legation in Liby...   \n",
       "4        202     202  The Secretary of State to the United States Mi...   \n",
       "...      ...     ...                                                ...   \n",
       "6461  323052  323052  104. Memorandum From Secretary of State Rogers...   \n",
       "6462  323102  323102  250. Memorandum From A. Denis Clift of the Nat...   \n",
       "6463  323152  323152  33. Memorandum From Acting Secretary of State ...   \n",
       "6464  323202  323202  87. Memorandum From the Assistant Director, Ne...   \n",
       "6465  323252  323252  143. Memorandum From the Deputy Assistant Secr...   \n",
       "\n",
       "                                                  title     url        date  \\\n",
       "0     [3] The Consul General at Salisbury ( Sims ) t...       3  1952-03-18   \n",
       "1     [193] Memorandum of Conversation, by the Direc...      55  1953-03-24   \n",
       "2     [246] Memorandum of Conversation, by Alexander...     105  1954-10-29   \n",
       "3     [299] The Secretary of State to the Legation i...     155  1954-08-24   \n",
       "4     [357] The Secretary of State to the United Sta...     205  1954-12-11   \n",
       "...                                                 ...     ...         ...   \n",
       "6461  104. Memorandum From Secretary of State Rogers...  178055  1970-11-24   \n",
       "6462  250. Memorandum From A. Denis Clift of the Nat...  178555  1972-08-28   \n",
       "6463  33. Memorandum From Acting Secretary of State ...  321918  1969-08-16   \n",
       "6464  87. Memorandum From the Assistant Director, Ne...   84359  1970-01-01   \n",
       "6465  143. Memorandum From the Deputy Assistant Secr...  138665  1971-07-27   \n",
       "\n",
       "         website language  decade  num_words  num_capitalized_words  \\\n",
       "0         Truman  English    1950       2530                    306   \n",
       "1         Truman  English    1950       1121                    171   \n",
       "2         Truman  English    1950       1327                    247   \n",
       "3         Truman  English    1950        556                     61   \n",
       "4         Truman  English    1950        311                     46   \n",
       "...          ...      ...     ...        ...                    ...   \n",
       "6461  Nixon-Ford  English    1970        926                    151   \n",
       "6462  Nixon-Ford  English    1970        695                    132   \n",
       "6463  Nixon-Ford  English    1960        963                    180   \n",
       "6464  Nixon-Ford  English    1970        641                     83   \n",
       "6465  Nixon-Ford  English    1970        713                    131   \n",
       "\n",
       "      perc_capitalized_words  batch  \n",
       "0                   0.120949      2  \n",
       "1                   0.152542      2  \n",
       "2                   0.186134      2  \n",
       "3                   0.109712      2  \n",
       "4                   0.147910      2  \n",
       "...                      ...    ...  \n",
       "6461                0.163067      2  \n",
       "6462                0.189928      2  \n",
       "6463                0.186916      2  \n",
       "6464                0.129485      2  \n",
       "6465                0.183731      2  \n",
       "\n",
       "[6466 rows x 13 columns]"
      ]
     },
     "execution_count": 21,
     "metadata": {},
     "output_type": "execute_result"
    }
   ],
   "source": [
    "get_batch(2)"
   ]
  },
  {
   "cell_type": "code",
   "execution_count": null,
   "metadata": {},
   "outputs": [],
   "source": []
  },
  {
   "cell_type": "code",
   "execution_count": null,
   "metadata": {},
   "outputs": [],
   "source": []
  },
  {
   "cell_type": "code",
   "execution_count": null,
   "metadata": {},
   "outputs": [],
   "source": []
  },
  {
   "cell_type": "code",
   "execution_count": null,
   "metadata": {},
   "outputs": [
    {
     "name": "stdout",
     "output_type": "stream",
     "text": [
      "[{'key': 'dataframes/batch-0002.csv', 'timeout': 300}, {'key': 'dataframes/batch-0003.csv', 'timeout': 300}, {'key': 'dataframes/batch-0004.csv', 'timeout': 300}, {'key': 'dataframes/batch-0005.csv', 'timeout': 300}, {'key': 'dataframes/batch-0006.csv', 'timeout': 300}, {'key': 'dataframes/batch-0007.csv', 'timeout': 300}, {'key': 'dataframes/batch-0008.csv', 'timeout': 300}, {'key': 'dataframes/batch-0009.csv', 'timeout': 300}]\n"
     ]
    }
   ],
   "source": [
    "num_threads = mp.cpu_count()\n",
    "timeout = 300\n",
    "data = [{\"key\": \"dataframes/batch-{:04d}.csv\".format(b), \"timeout\":timeout} for b in range(2, num_threads+2)]\n",
    "print(data)\n",
    "\n",
    "pool = Pool(num_threads)\n",
    "results = pool.map(handler.handler, data)\n",
    "results"
   ]
  },
  {
   "cell_type": "code",
   "execution_count": 42,
   "metadata": {},
   "outputs": [
    {
     "name": "stdout",
     "output_type": "stream",
     "text": [
      "It has been 0.65 minutes since invoking the Lambda functions.\n",
      "Batch    2:  6452 (6452 last) all\n",
      "Batch    3:  6453 (6453 last) all\n"
     ]
    }
   ],
   "source": [
    "print(\"It has been {:.2f} minutes since invoking the Lambda functions.\".format((time.time() - last_time) / 60))\n",
    "for b in range(2, len(ps)+2):\n",
    "    df = get_batch(b)\n",
    "    if 'parsed' not in df.columns:\n",
    "        df['parsed'] = None\n",
    "    print('Batch {0:4,}:  {1:3} ({2:3} last) {3:3}'.format(b, df.parsed.isnull().sum(), was[b], to_parse[b]))\n",
    "    was[b] = df.parsed.isnull().sum()"
   ]
  },
  {
   "cell_type": "code",
   "execution_count": 84,
   "metadata": {},
   "outputs": [
    {
     "data": {
      "text/plain": [
       "[1, 1]"
      ]
     },
     "execution_count": 84,
     "metadata": {},
     "output_type": "execute_result"
    }
   ],
   "source": [
    "results"
   ]
  }
 ],
 "metadata": {
  "kernelspec": {
   "display_name": "Python 3",
   "language": "python",
   "name": "python3"
  },
  "language_info": {
   "codemirror_mode": {
    "name": "ipython",
    "version": 3
   },
   "file_extension": ".py",
   "mimetype": "text/x-python",
   "name": "python",
   "nbconvert_exporter": "python",
   "pygments_lexer": "ipython3",
   "version": "3.8.3"
  }
 },
 "nbformat": 4,
 "nbformat_minor": 4
}

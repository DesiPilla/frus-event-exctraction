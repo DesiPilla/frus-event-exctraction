{
 "cells": [
  {
   "cell_type": "markdown",
   "metadata": {
    "id": "AvPvHTsmCDKZ"
   },
   "source": [
    "# Set up environment"
   ]
  },
  {
   "cell_type": "code",
   "execution_count": 1,
   "metadata": {
    "colab": {
     "base_uri": "https://localhost:8080/"
    },
    "id": "S66Mayq2HO_X",
    "outputId": "b05a2e45-2b74-4ae6-906b-fefbdd7ac545"
   },
   "outputs": [
    {
     "name": "stdout",
     "output_type": "stream",
     "text": [
      "Requirement already satisfied: boto3 in c:\\users\\desid\\anaconda3\\lib\\site-packages (1.9.191)\n",
      "Requirement already satisfied: jmespath<1.0.0,>=0.7.1 in c:\\users\\desid\\anaconda3\\lib\\site-packages (from boto3) (0.10.0)\n",
      "Requirement already satisfied: s3transfer<0.3.0,>=0.2.0 in c:\\users\\desid\\anaconda3\\lib\\site-packages (from boto3) (0.2.1)\n",
      "Requirement already satisfied: botocore<1.13.0,>=1.12.191 in c:\\users\\desid\\anaconda3\\lib\\site-packages (from boto3) (1.12.191)\n",
      "Requirement already satisfied: urllib3<1.26,>=1.20 in c:\\users\\desid\\anaconda3\\lib\\site-packages (from botocore<1.13.0,>=1.12.191->boto3) (1.24.3)\n",
      "Requirement already satisfied: python-dateutil<3.0.0,>=2.1 in c:\\users\\desid\\anaconda3\\lib\\site-packages (from botocore<1.13.0,>=1.12.191->boto3) (2.8.1)\n",
      "Requirement already satisfied: docutils>=0.10 in c:\\users\\desid\\anaconda3\\lib\\site-packages (from botocore<1.13.0,>=1.12.191->boto3) (0.16)\n",
      "Requirement already satisfied: six>=1.5 in c:\\users\\desid\\anaconda3\\lib\\site-packages (from python-dateutil<3.0.0,>=2.1->botocore<1.13.0,>=1.12.191->boto3) (1.12.0)\n"
     ]
    }
   ],
   "source": [
    "!pip install boto3\n",
    "\n",
    "import io\n",
    "import os\n",
    "import re\n",
    "import json\n",
    "import time\n",
    "import boto3\n",
    "import pprint\n",
    "import numpy as np\n",
    "import pandas as pd\n",
    "import matplotlib.pyplot as plt\n",
    "\n",
    "import pymongo\n",
    "from pymongo import MongoClient"
   ]
  },
  {
   "cell_type": "code",
   "execution_count": 2,
   "metadata": {
    "colab": {
     "base_uri": "https://localhost:8080/"
    },
    "id": "HaQA7s8RHTp8",
    "outputId": "9043ae4a-c055-4044-be69-42fe18c8fe45"
   },
   "outputs": [
    {
     "name": "stdout",
     "output_type": "stream",
     "text": [
      "/content/drive/.shortcut-targets-by-id/128/FRUS\n"
     ]
    }
   ],
   "source": [
    "cd '/content/drive/My Drive/FRUS/'"
   ]
  },
  {
   "cell_type": "markdown",
   "metadata": {
    "id": "bpgnXETE_q1s"
   },
   "source": [
    "**Locate AWS credentials and start EC2 instance**"
   ]
  },
  {
   "cell_type": "code",
   "execution_count": 2,
   "metadata": {
    "id": "ufnJEm9wAupg"
   },
   "outputs": [],
   "source": [
    "aws_id, aws_secret_key = pd.read_csv('DesiPilla_accessKeys.csv').values[0]"
   ]
  },
  {
   "cell_type": "code",
   "execution_count": 3,
   "metadata": {
    "id": "ohZQJa81Z8zN"
   },
   "outputs": [],
   "source": [
    "# Configure s3 resources\n",
    "bucket = \"frus-corenlp\"\n",
    "s3 = boto3.client('s3', aws_access_key_id=aws_id, aws_secret_access_key=aws_secret_key)\n",
    "s3_resource = boto3.resource('s3', aws_access_key_id=aws_id, aws_secret_access_key=aws_secret_key)\n",
    "\n",
    "# Configure Lambda client\n",
    "lambda_client = boto3.client('lambda', 'us-east-1', aws_access_key_id=aws_id, aws_secret_access_key=aws_secret_key)\n",
    "\n",
    "# Configure SQS client\n",
    "sqs = boto3.client('sqs', 'us-east-1', aws_access_key_id=aws_id, aws_secret_access_key=aws_secret_key)\n",
    "queue_url = \"https://sqs.us-east-1.amazonaws.com/654288102859/frus-unparsed\""
   ]
  },
  {
   "cell_type": "code",
   "execution_count": 4,
   "metadata": {
    "colab": {
     "base_uri": "https://localhost:8080/"
    },
    "id": "-7kMRixq_tv9",
    "outputId": "9e8394bd-9e55-436f-cfb6-184d3b3405a5"
   },
   "outputs": [
    {
     "data": {
      "text/plain": [
       "{'Code': 16, 'Name': 'running'}"
      ]
     },
     "execution_count": 4,
     "metadata": {},
     "output_type": "execute_result"
    }
   ],
   "source": [
    "instance_id = 'i-02d5c9566a7b7c3de'\n",
    "ec2 = boto3.resource('ec2', \n",
    "                     'us-east-1',\n",
    "                     aws_access_key_id=aws_id, \n",
    "                     aws_secret_access_key=aws_secret_key)\n",
    "\n",
    "instance = ec2.Instance(instance_id)\n",
    "instance.state"
   ]
  },
  {
   "cell_type": "code",
   "execution_count": 6,
   "metadata": {
    "colab": {
     "base_uri": "https://localhost:8080/"
    },
    "id": "MqRgcfDfACUZ",
    "outputId": "e008d0ed-9652-4731-98ff-c3569bc4c01d"
   },
   "outputs": [
    {
     "name": "stdout",
     "output_type": "stream",
     "text": [
      "Initializing...\n",
      "\t0 seconds elapsed... (pending)\n",
      "\t5 seconds elapsed... (pending)\n",
      "\t10 seconds elapsed... (pending)\n",
      "\t15 seconds elapsed... (pending)\n",
      "\t20 seconds elapsed... (pending)\n",
      "\t25 seconds elapsed... (pending)\n",
      "\t30 seconds elapsed... (pending)\n",
      "\t35 seconds elapsed... (pending)\n",
      "The EC2 instance is now running.\n"
     ]
    }
   ],
   "source": [
    "instance.start()\n",
    "print('Initializing...')\n",
    "i = 0\n",
    "while instance.state['Name'] != 'running':\n",
    "    print('\\t{} seconds elapsed... ({})'.format(i, instance.state['Name']))\n",
    "    time.sleep(5)\n",
    "    i += 5\n",
    "    instance = ec2.Instance(instance_id)\n",
    "print('The EC2 instance is now running.')"
   ]
  },
  {
   "cell_type": "markdown",
   "metadata": {
    "id": "udfTsNljMH8O"
   },
   "source": [
    "**SSH into the MongoDB located on the EC2 instance**"
   ]
  },
  {
   "cell_type": "code",
   "execution_count": null,
   "metadata": {
    "colab": {
     "base_uri": "https://localhost:8080/",
     "height": 35
    },
    "id": "nAADY9YoDR_I",
    "outputId": "5425df75-cf14-47f7-8314-e584425d1f6e"
   },
   "outputs": [
    {
     "name": "stdout",
     "output_type": "stream",
     "text": [
      "104.154.205.204"
     ]
    }
   ],
   "source": [
    "# Print current IP address\n",
    "!curl ipecho.net/plain"
   ]
  },
  {
   "cell_type": "code",
   "execution_count": null,
   "metadata": {
    "id": "su5whgpZBu7v"
   },
   "outputs": [],
   "source": [
    "mongo = MongoClient('mongodb://52.71.228.156:27017/')   # AWS\n",
    "# mongo = MongoClient('mongodb://68.84.71.242:27017/FRUS')      # Desi's Laptop\n",
    "mongo.list_database_names()"
   ]
  },
  {
   "cell_type": "markdown",
   "metadata": {
    "id": "-Wgu8yvFMOsn"
   },
   "source": [
    "**Select or create a database named `FRUS`**"
   ]
  },
  {
   "cell_type": "code",
   "execution_count": null,
   "metadata": {
    "colab": {
     "base_uri": "https://localhost:8080/",
     "height": 35
    },
    "id": "kLKk4VL9FY7E",
    "outputId": "36250502-0714-45ae-dd06-9c48bdad6c69"
   },
   "outputs": [
    {
     "data": {
      "text/plain": [
       "['ParsedDocs', 'Taft']"
      ]
     },
     "execution_count": 24,
     "metadata": {
      "tags": []
     },
     "output_type": "execute_result"
    }
   ],
   "source": [
    "db = mongo.FRUS\n",
    "db.list_collection_names()"
   ]
  },
  {
   "cell_type": "code",
   "execution_count": null,
   "metadata": {
    "id": "zcuZgJm1bfud"
   },
   "outputs": [],
   "source": [
    "collection = db.ParsedDocs"
   ]
  },
  {
   "cell_type": "markdown",
   "metadata": {
    "id": "ii1c7SVAyffg"
   },
   "source": [
    "# Taft Collection"
   ]
  },
  {
   "cell_type": "markdown",
   "metadata": {
    "id": "21ACQ_A5MfAZ"
   },
   "source": [
    "**Take the preprared data and convert it to a JSON file**"
   ]
  },
  {
   "cell_type": "code",
   "execution_count": null,
   "metadata": {
    "id": "GHs8A_VMHSv_"
   },
   "outputs": [],
   "source": [
    "def prepare_collection(path=None, df=None):\n",
    "    if path:\n",
    "        df = pd.read_csv(path).rename(columns={'website':'source', 'text':'content'})\n",
    "\n",
    "    df['stanford'] = 0\n",
    "    df['_id'] = df.id\n",
    "    return df.to_dict('records')"
   ]
  },
  {
   "cell_type": "code",
   "execution_count": null,
   "metadata": {
    "colab": {
     "base_uri": "https://localhost:8080/",
     "height": 453
    },
    "id": "XASbjdk3CqfJ",
    "outputId": "228c4e74-9392-4811-a875-5d899ff24482"
   },
   "outputs": [
    {
     "data": {
      "text/plain": [
       "[{'Unnamed: 0': 106432,\n",
       "  'context': 'The Ambassador in France ( Herrick ) to the Secretary of State American Embassy , Paris , July 28, 1914, 4 p.m. [ Received 7:30 p.m. ] [Telegram] To be communicated to the President: Situation in Europe is regarded here as the gravest in history. It is apprehended that civilization is threatened by demoralization which would follow a general conflagration. Demonstrations made against war here last night by laboring classes; it is said to be the first instance of its kind in France. It is felt that if Germany once mobilizes no backward step will be taken. France has strong reliance on her army but it is not giving way to undue excitement. There is faith and reliance on our high ideals and purposes, so that I believe expression from our nation would have great weight in this crisis. My opinion is encouraged at reception given utterances of British Minister for Foreign Affairs. I believe that a strong plea for delay and moderation from the President of the United States would meet with the respect and approval of Europe and  urge the prompt consideration of this question. This suggestion is consistent with our plea for arbitration treaties and attitude toward world affairs generally. I would not appear officious but deem it my duty to make this expression to you. Herrick',\n",
       "  'date': '1914-07-28',\n",
       "  'decade': 1910,\n",
       "  'language': 'English',\n",
       "  'num_capitalized_words': 25,\n",
       "  'num_words': 221,\n",
       "  'perc_capitalized_words': 0.11312217194570134,\n",
       "  'source': 'Taft',\n",
       "  'stanford': 0,\n",
       "  'title': '[33] The Ambassador in France ( Herrick ) to the Secretary of State',\n",
       "  'url': 12314},\n",
       " {'Unnamed: 0': 106433,\n",
       "  'context': 'The Secretary of State to the Ambassador in Great Britain ( Page ) Department of State , Washington , July 28, 1914, 11:44 p.m. [Telegram] Is there in your opinion any likelihood that the good offices of the United States if offered under Article 3 of the Hague convention would be acceptable or serve any high purpose in the present crisis? Bryan',\n",
       "  'date': '1914-07-28',\n",
       "  'decade': 1910,\n",
       "  'language': 'English',\n",
       "  'num_capitalized_words': 17,\n",
       "  'num_words': 62,\n",
       "  'perc_capitalized_words': 0.27419354838709675,\n",
       "  'source': 'Taft',\n",
       "  'stanford': 0,\n",
       "  'title': '[34] The Secretary of State to the Ambassador in Great Britain ( Page )',\n",
       "  'url': 210044}]"
      ]
     },
     "execution_count": 33,
     "metadata": {
      "tags": []
     },
     "output_type": "execute_result"
    }
   ],
   "source": [
    "taft_collection = prepare_collection('Raw Data/Combined Data/taft_df.csv')\n",
    "taft_collection[:2]"
   ]
  },
  {
   "cell_type": "markdown",
   "metadata": {
    "id": "MgSTCdaSMoQm"
   },
   "source": [
    "**Add the JSON file to the MongoDB as a collection**"
   ]
  },
  {
   "cell_type": "code",
   "execution_count": null,
   "metadata": {
    "colab": {
     "base_uri": "https://localhost:8080/",
     "height": 35
    },
    "id": "dq6HAqd5DW-P",
    "outputId": "28748d92-3fdb-4f90-9307-a7d4e256616f"
   },
   "outputs": [
    {
     "name": "stdout",
     "output_type": "stream",
     "text": [
      "Data has been exported to MongoDB server.\n"
     ]
    }
   ],
   "source": [
    "db.Taft.insert_many(taft_collection, ordered=False)\n",
    "print(\"Data has been exported to MongoDB server.\")"
   ]
  },
  {
   "cell_type": "code",
   "execution_count": null,
   "metadata": {
    "colab": {
     "base_uri": "https://localhost:8080/",
     "height": 35
    },
    "id": "1N7ESNe-DzS6",
    "outputId": "e4ababb2-a703-4077-dee2-8f038b8625ee"
   },
   "outputs": [
    {
     "data": {
      "text/plain": [
       "['Taft']"
      ]
     },
     "execution_count": 35,
     "metadata": {
      "tags": []
     },
     "output_type": "execute_result"
    }
   ],
   "source": [
    "db.list_collection_names()"
   ]
  },
  {
   "cell_type": "markdown",
   "metadata": {
    "id": "rgfUAClEyh14"
   },
   "source": [
    "# All Presidents"
   ]
  },
  {
   "cell_type": "markdown",
   "metadata": {
    "id": "eO4B0eKPyxQ0"
   },
   "source": [
    "**Take the preprared data and convert it to a JSON file**"
   ]
  },
  {
   "cell_type": "code",
   "execution_count": null,
   "metadata": {
    "colab": {
     "base_uri": "https://localhost:8080/",
     "height": 453
    },
    "id": "BlFlylC1ym_O",
    "outputId": "6cc0bf34-c86e-4dba-9ea8-e947d41ae8a5"
   },
   "outputs": [
    {
     "data": {
      "text/plain": [
       "[{'Unnamed: 0': 0,\n",
       "  'context': 'Memorandum of Conversation, by the Officer in Charge of West, Central, and East Africa Affairs ( Feld ) [ Washington ,] February 20, 1952 . Participants: Ford Foundation—Mr. Carl B. Spaeth Mr. John Howard Mr. Howard Tolley AF —Mr. Bourgerie Mr. Feld Mr. Meier DRN —Mr. Brown NEA/P —Mr. Fisk Mrs. Sloan Messrs. Spaeth , Howard and Tolley of the Ford Foundation came to the Department on Wednesday, February 20, 1952, to discuss in general terms the Foundation’s interest in extending its overseas activities to Africa. Mr. Bourgerie began the discussion by pointing out that, due to political considerations and suspicion of American motives, it appeared unlikely that much could be done in Portuguese possessions, and perhaps to a somewhat lesser extent, in Belgian and French possessions, although in each case for slightly different reasons. Broadly the Portuguese have not favored our sending American government or private experts to Angola and Mozambique for fear of the effect of their presence on the native populations, and it was for this reason that the Portuguese were not particularly interested in technical assistance programs. The French have also been suspicious of Point 4, and although they have accepted a considerable amount of ECA assistance in their African territories, they have been extremely  reluctant to give the United States credit publicly in these territories for this assistance. The political situation in French North Africa is such that American technical assistance programs are not particularly desired. The Belgians feel they do not need American technical assistance for the Congo and have already done more than almost any other government in Africa to provide vocational training, public health facilities, etc. in the Congo. They have, however, requested ECA aid and World Bank loans . This leaves only the independent countries, namely, Libya (which has virtually no resources and needs every kind of help, public and private), Ethiopia, Liberia, the Internat’l. Zone of Tangier, where the French cannot interfere with outside efforts, and the British territories, particularly British West Africa (the Gold Coast and Nigeria) and, to a lesser extent, British Central Africa (the Rhodesias and Nyasaland), and East Africa (Kenya, Uganda and Tanganyika). In Ethiopia, Liberia and Libya we have Point 4 programs but there are many opportunities for further assistance from private sources. Mr. Bourgerie then specified certain general fields of activity which the Departmental officers concerned believed the Foundation should consider if it decided to extend assistance to the more promising and receptive African countries. Among these, Mr. Bourgerie mentioned vocational training, especially at the lower level, community programs for urban and rural populations, the great need for elementary and secondary schools throughout Africa, the need to support research institutions, especially in the British territories and Liberia, where research institutions exist but in most cases are completely inadequate in staff and funds to do the important work required. In response to Mr. Bourgerie ’s suggestion Mr. Spaeth then proceeded to outline the type of activities in which the Ford Foundation has been engaged in South Asia (India, Pakistan, Afghanistan) and gave some indications of the Foundation’s general policies in these areas. He stated that the Foundation was supporting in India a wide scale program of agricultural extension at the village level, a woman’s college in Pakistan, a community project for untouchables at Delhi, a project to train industrial workers in Pakistan, etc. The Foundation is also generally interested in community development work in South Asia, as well as in the Students’ Exchange Program everywhere, especially in technical and vocational fields. The Foundation is now on the point of sending a team to the Middle East to survey the countries in that area with the idea of undertaking projects similar to those in South Asia, but, looking ahead, it also wants to find out what it can do in Africa. It is convinced of the urgency of getting started in all these areas as soon as possible in view of the political and social tensions which recent events clearly indicate  have been building up against the West, and which are spreading in Africa, having already erupted in French North Africa. Mr. Spaeth mentioned in this connection that whenever the Foundation’s officials discussed programs in various parts of the world they were constantly asked, “What do you have in mind for Africa?” Mr. Spaeth also indicated the relationship of the Foundation’s activities to governmental programs, such as Point 4, MSA , etc. He stated that generally the Foundation does not normally wish to duplicate or to be too closely involved in the work already being undertaken by these programs in such areas as South Asia, the Near East and Africa; however, it judges individual projects on their merits. In certain instances in India the Foundation has provided assistance to projects in which the American and Indian Governments are also participating. Mr. Spaeth explained that although the Foundation normally does not provide funds for the purchase of capital equipment, the construction of buildings to house projects, etc., it will do so if necessary to assist in bringing worthwhile projects to fruition. He cited instances in India where the Foundation has in fact assisted by providing funds for capital expenditure. In response to a question from Mr. Howard regarding the work of the Educational Exchange Program, Mrs. Sloan outlined in considerable detail the system now in effect with regard to West African students in the United States and indicated that these students are now being carefully selected to receive a certain type of education in the United States with certain definite job requirements in mind in their home territories after they have finished their studies abroad. The jobs are usually connected with the development schemes of the countries concerned, namely, the Gold Coast, Nigeria, and, to a lesser extent, Liberia and Sierra Leone. Mrs. Sloan defended the procedure of bringing West African students to the United States for advanced technical training on the grounds that the countries from which these students come are desperate for specialists and that these specialists, once trained, will be able to assist greatly in the development of technicians at a somewhat lower level when they return to their home countries. In the discussion that followed, the Departmental officers present described to the Foundation representatives the special needs and requirements of various African territories, it being generally agreed that the approach that the Foundation was taking in other areas, such as South Asia and the Near East, was a sound one for Africa as well. The Departmental officers indicated that developments in Africa were such that persons trained in vocational and in technical fields and in community development in its broader aspects could be fully utilized throughout Africa and would be in a position to make an important contribution to the development of their respective territories. However,  it was pointed out that the contribution the Foundation could make in these particular fields would probably be limited in certain of the African territories because of sensitivities involving political and other considerations. At the conclusion of the meeting it was agreed that the Department would supply the Foundation with a statement which would outline in somewhat greater detail the types of activity and the countries of Africa in which the Foundation could make the most suitable contribution. 2 A statement of the sort described here has not been found in Department of State files. <U+21A9>',\n",
       "  'date': '1952-02-20',\n",
       "  'decade': 1950,\n",
       "  'language': 'English',\n",
       "  'num_capitalized_words': 186,\n",
       "  'num_words': 1232,\n",
       "  'perc_capitalized_words': 0.15097402597402598,\n",
       "  'source': 'Truman',\n",
       "  'stanford': 0,\n",
       "  'title': '[1] Memorandum of Conversation, by the Officer in Charge of West, Central, and East Africa Affairs ( Feld )',\n",
       "  'url': 1},\n",
       " {'Unnamed: 0': 1,\n",
       "  'context': 'The Ambassador in the Union of South Africa ( Gallman ) to the Department of State Capetown , March 14, 1952—4 p.m. secret 32. Part one. I feel that three-day conf held Capetown eleventh, twelfth, thirteenth ( Deptel 191, March 3 1 ), with participation diplomatic and consular officers from Union, Salisbury and Lourenco Marques was highly constructive and threw much light on principal problems confronting this area. All participants contributed ably with candor and keen sense appreciation situation southern Africa. 2 I opened conf stressing need for perfecting plan for maximum interchange info and coordination work. I referred to importance attached to mission here as stressed in Dept discussions preliminary to my departure last Sept and that our needs for funds, personnel and  facilities cld only be appreciated in Wash on basis of our giving Dept full picture of conditions under which we are working. All participating officers ably presented problems confronting Amer interests in their respective fields and outlined manner in which others cld assist. Cols Davis and Bland portrayed scope and effects political intrusion into South Africa armed forces. Parsons emphasized need for additional courier services, more frequent visits of officers between consular establishments, respects in which reporting from subordinate consulates cld support and strengthen reporting supervisory consulate general, effect of delayed assignment personnel on operating efficiency his office and steps taken for guidance to subordinate consulates. Sims covered underlying forces supporting opposing federation, complexity Rhodesian racial problems, need for assignment roving regional officer primarily concerned with native problem south of Sahara, need for econ officer commensurate with importance US Attaches to Rhodesian strategic minerals and area receptivity to constructive USIE program. Lamm stressed need for periodic visit mineral’s officer Johannesburg, complexity Mozambique racial and transport problems. Stone dealt with difficulties lack Amer secretary and funds for maintenance custody govt-owned properties, and need for more central location USIE library accessible Cape coloreds. Seddicum pictured Indian conflict with natives and Europeans, Communism in Indian organizations and European-Indian opposition implementation group areas act in natal. Robison dealt with port congestion and important Amer capital investment, particularly in motor industry, Port Elizabeth. Session on admin and consular questions approved centralization three protectorates in Johannesburg district, survey US leased facilities Capetown by Cairo security officer, and guard detail for Chancery security, in absence suitable quarters Pretoria and Capetown. Sweeney penetratingly analyzed conflict between Afrikaner and Black African nationalism with impact on Africa south of Sahara and susceptibility resulting tensions to Commie intrusion. He elaborated need for collating info previously submitted on native problem from entire area south of Sahara through research project, assignment specially qualified roving officer on native problem within this area and policy planning staff guidance to meet potential eventualities, stressing lack contact with native and non-European leaders throughout area. Birch analyzed major aspects South Africa industrialization and limitations posed by inadequacies of water, transport, skilled labor, capital, and emphasized Union’s efforts achieve greater national self-sufficiency.  He praised consular contributions to requirements and econ reports. Chartrand reviewed scope, targets, effectiveness USIE exchange persons and info programs and needs for USIE program Durban mobile unit, suitable office Johannesburg and support for USIE program Salisbury. Frisbie described utilization individual strategic materials in war effort and impact thereon if South Africa sources not available, and need for potential mineral survey Rhodesias and additional personnel and funds to cover extensive area assigned. Full report fols by air. 3 Part two. Fol constitutes summary conf recommendations: 1. Assignment qualified officer with [apparent garble] experience cover native affairs with special attention devoted rising nationalism throughout area south Sahara. Such officer wld coordinate present loose coverage this all-important subj. He wld have roving assignment and headquarters shld be centrally located. Preparatory such assignment Dept undertake basic research study African nationalism this area as guide. Furthermore, that policy planning staff provide field guidance this subj. 2. More adequate funds, deputy and Amer clerk be provided enable mineral’s officer discharge increased responsibilities in adjacent areas and Union in view growing importance strategic minerals these areas. 3. Assignment labor attaché and additional junior econ officers for Emb and Salisbury in view increased activity and importance to US of labor and econ fields. 4. Strengthening security Chancery premises Pretoria and Capetown, including assignment security guard detail. Security ConGen Capetown requires assignment Amer clerk. 5. Improvements to USIE physical facilities Johannesburg, Capetown and Durban and appointment librarian Capetown. Extension USIE facilities to Rhodesias. 6. Adequate courier service requires establishment courier based Johannesburg to service Union, Lourenco Marques and Salisbury plus increased service from Paris and Cairo to three trips monthly on which couriers wld proceed only to Johannesburg. Also provision for more frequent travel for Emb and Consular officers within area to supplement regular courier service. 7. Deterioration govt owned properties requires sending FBO rep to Union soonest for purposes survey and rehabilitation properties. 8. Authorizing central fiscal office Johannesburg make suballotments fiscal year basis of funds for operating expenses consular establishments. 9. Reapportionment consular districts to include all high commission territories under ConGen Johannesburg.  As Dept will see from full report of conf, sometime wld be needed adequately to analyze and evaluate wealth of info made available and to formulate suggestions based on it. Because of nature of much that was brought out in this conf, I strongly favor holding another conf within six or seven months. Breadth of discussions accentuated need expanding scope future confs to representation from all offices south Sahara. We all regretted no one from Dept able to attend and hope Dept will be represented next conf. Gallman Not printed; in it the Department approved the dates and agenda for the proposed consular conference at Capetown and suggested a few additional points for discussion at the conference. (120.4345A/2–1152) <U+21A9> The conference was formally designated the Consular and Administrative Conference at Capetown, Union of South Africa, Mar. 11–13, 1952. The following officers participated in the conference: Waldemar J. Gallman , Ambassador to the Union of South Africa Col. John J. Davis , Military Attaché at the Embassy in the Union of South Africa (Pretoria) Col. E. A. Bland , Jr., Air Attaché at the Embassy in the Union of South Africa (Pretoria) Marselis C. Parsons , Jr., Supervisory Consul General, Johannesburg Harold Sims , Consul General, Salisbury Donald W. Lamm , Consul, Lourenco Marques John F. Stone , Consul General, Capetown Paul C. Seddicum , Consul, Durban Harold D. Robison , Consul, Port Elizabeth Joseph Sweeney , Attaché at the Embassy in the Union of South Africa (Capetown) John A. Birch , Commercial Attaché at the Embassy in the Union of South Africa (Capetown) Chester R. Chartrand , Public Affairs Officer, Pretoria Bryan R. Frisbie , Minerals Officer, Johannesburg David A. Robertson , First Secretary of Embassy, Pretoria <U+21A9> The full report of the Capetown conference was transmitted to the Department as despatch 90, Apr. 18, 1952, from Capetown. The report comprised 106 pages. (120.4345A/4–1852) <U+21A9>',\n",
       "  'date': '1952-03-14',\n",
       "  'decade': 1950,\n",
       "  'language': 'English',\n",
       "  'num_capitalized_words': 202,\n",
       "  'num_words': 1152,\n",
       "  'perc_capitalized_words': 0.1753472222222222,\n",
       "  'source': 'Truman',\n",
       "  'stanford': 0,\n",
       "  'title': '[2] The Ambassador in the Union of South Africa ( Gallman ) to the Department of State',\n",
       "  'url': 2}]"
      ]
     },
     "execution_count": 36,
     "metadata": {
      "tags": []
     },
     "output_type": "execute_result"
    }
   ],
   "source": [
    "all_presidents_collection = prepare_collection('Raw Data/Combined Data/all_presidents_df.csv')\n",
    "all_presidents_collection[:2]"
   ]
  },
  {
   "cell_type": "markdown",
   "metadata": {
    "id": "wo6mG037y02y"
   },
   "source": [
    "**Add the JSON file to the MongoDB as a collection**"
   ]
  },
  {
   "cell_type": "code",
   "execution_count": null,
   "metadata": {
    "colab": {
     "base_uri": "https://localhost:8080/",
     "height": 35
    },
    "id": "iFLJri5YynaN",
    "outputId": "64f3feba-0de8-48ce-fc3b-a2489e9a0128"
   },
   "outputs": [
    {
     "name": "stdout",
     "output_type": "stream",
     "text": [
      "Data has been exported to MongoDB server.\n"
     ]
    }
   ],
   "source": [
    "db.AllPresidents.insert_many(all_presidents_collection, ordered=False)\n",
    "print(\"Data has been exported to MongoDB server.\")"
   ]
  },
  {
   "cell_type": "code",
   "execution_count": null,
   "metadata": {
    "colab": {
     "base_uri": "https://localhost:8080/",
     "height": 35
    },
    "id": "ixD6fLPsynQ9",
    "outputId": "2b0471fa-2661-4266-caeb-80176065759b"
   },
   "outputs": [
    {
     "data": {
      "text/plain": [
       "['AllPresidents', 'Taft']"
      ]
     },
     "execution_count": 38,
     "metadata": {
      "tags": []
     },
     "output_type": "execute_result"
    }
   ],
   "source": [
    "db.list_collection_names()"
   ]
  },
  {
   "cell_type": "markdown",
   "metadata": {
    "id": "tVca79nO3-qG"
   },
   "source": [
    "# Run Query"
   ]
  },
  {
   "cell_type": "code",
   "execution_count": null,
   "metadata": {
    "colab": {
     "base_uri": "https://localhost:8080/",
     "height": 641
    },
    "id": "sNG7BmEQym5V",
    "outputId": "49b51b1a-44c9-4de2-89f7-47bb7008e964"
   },
   "outputs": [
    {
     "name": "stdout",
     "output_type": "stream",
     "text": [
      "{'Unnamed: 0': 106432,\n",
      " '_id': ObjectId('5f70ba97660ef055f82f2ad0'),\n",
      " 'context': 'The Ambassador in France ( Herrick ) to the Secretary of State '\n",
      "            'American Embassy , Paris , July 28, 1914, 4 p.m. [ Received 7:30 '\n",
      "            'p.m. ] [Telegram] To be communicated to the President: Situation '\n",
      "            'in Europe is regarded here as the gravest in history. It is '\n",
      "            'apprehended that civilization is threatened by demoralization '\n",
      "            'which would follow a general conflagration. Demonstrations made '\n",
      "            'against war here last night by laboring classes; it is said to be '\n",
      "            'the first instance of its kind in France. It is felt that if '\n",
      "            'Germany once mobilizes no backward step will be taken. France has '\n",
      "            'strong reliance on her army but it is not giving way to undue '\n",
      "            'excitement. There is faith and reliance on our high ideals and '\n",
      "            'purposes, so that I believe expression from our nation would have '\n",
      "            'great weight in this crisis. My opinion is encouraged at '\n",
      "            'reception given utterances of British Minister for Foreign '\n",
      "            'Affairs. I believe that a strong plea for delay and moderation '\n",
      "            'from the President of the United States would meet with the '\n",
      "            'respect and approval of Europe and  urge the prompt consideration '\n",
      "            'of this question. This suggestion is consistent with our plea for '\n",
      "            'arbitration treaties and attitude toward world affairs generally. '\n",
      "            'I would not appear officious but deem it my duty to make this '\n",
      "            'expression to you. Herrick',\n",
      " 'date': '1914-07-28',\n",
      " 'decade': 1910,\n",
      " 'language': 'English',\n",
      " 'num_capitalized_words': 25,\n",
      " 'num_words': 221,\n",
      " 'perc_capitalized_words': 0.11312217194570134,\n",
      " 'source': 'Taft',\n",
      " 'stanford': 0,\n",
      " 'title': '[33] The Ambassador in France ( Herrick ) to the Secretary of State',\n",
      " 'url': 12314}\n",
      "\n",
      "\n",
      "6,209 total documents found.\n"
     ]
    }
   ],
   "source": [
    "collection = db.AllPresidents\n",
    "query = {'source':'Taft'}\n",
    "found = collection.find(query)\n",
    "\n",
    "for doc in found[:1]:\n",
    "    pprint.pprint(doc)\n",
    "\n",
    "print(\"\\n\\n{:,} total documents found.\".format(collection.count_documents(query)))"
   ]
  },
  {
   "cell_type": "markdown",
   "metadata": {
    "id": "YmXUOKkXB8LU"
   },
   "source": [
    "# Shut down EC2 instance"
   ]
  },
  {
   "cell_type": "code",
   "execution_count": 13,
   "metadata": {
    "colab": {
     "base_uri": "https://localhost:8080/"
    },
    "id": "M9gVImQLZYSL",
    "outputId": "59f700a5-2527-4963-dd5e-4edbc22235e1"
   },
   "outputs": [
    {
     "data": {
      "text/plain": [
       "{'Code': 16, 'Name': 'running'}"
      ]
     },
     "execution_count": 13,
     "metadata": {
      "tags": []
     },
     "output_type": "execute_result"
    }
   ],
   "source": [
    "instance.state"
   ]
  },
  {
   "cell_type": "code",
   "execution_count": null,
   "metadata": {
    "colab": {
     "base_uri": "https://localhost:8080/"
    },
    "id": "a0vbzNot_IM3",
    "outputId": "f04ca493-29dd-455d-ada0-509762b563ed"
   },
   "outputs": [
    {
     "name": "stdout",
     "output_type": "stream",
     "text": [
      "Stopping...\n",
      "\t0 seconds elapsed... (stopping)\n",
      "\t5 seconds elapsed... (stopping)\n",
      "\t10 seconds elapsed... (stopping)\n"
     ]
    }
   ],
   "source": [
    "instance.stop()\n",
    "print('Stopping...')\n",
    "i = 0\n",
    "while instance.state['Name'] != 'stopped':\n",
    "    print('\\t{} seconds elapsed... ({})'.format(i, instance.state['Name']))\n",
    "    time.sleep(5)\n",
    "    i += 5\n",
    "    instance = ec2.Instance(instance_id)\n",
    "print('The EC2 instance has been stopped.')"
   ]
  },
  {
   "cell_type": "markdown",
   "metadata": {
    "id": "ueJt3N6LZIw3"
   },
   "source": [
    "# Stanza\n",
    "\n",
    "Go to https://stanfordnlp.github.io/stanza/depparse.html for dependency parsing to look like Stanford CoreNLP"
   ]
  },
  {
   "cell_type": "code",
   "execution_count": null,
   "metadata": {
    "colab": {
     "base_uri": "https://localhost:8080/"
    },
    "id": "9D874QrIowI0",
    "outputId": "eff427d0-2aee-4ba7-af66-a1b8d417bb9c"
   },
   "outputs": [
    {
     "name": "stdout",
     "output_type": "stream",
     "text": [
      "Requirement already satisfied: stanza in /usr/local/lib/python3.6/dist-packages (1.1.1)\n",
      "Requirement already satisfied: protobuf in /usr/local/lib/python3.6/dist-packages (from stanza) (3.12.4)\n",
      "Requirement already satisfied: tqdm in /usr/local/lib/python3.6/dist-packages (from stanza) (4.41.1)\n",
      "Requirement already satisfied: numpy in /usr/local/lib/python3.6/dist-packages (from stanza) (1.18.5)\n",
      "Requirement already satisfied: requests in /usr/local/lib/python3.6/dist-packages (from stanza) (2.23.0)\n",
      "Requirement already satisfied: torch>=1.3.0 in /usr/local/lib/python3.6/dist-packages (from stanza) (1.7.0+cu101)\n",
      "Requirement already satisfied: setuptools in /usr/local/lib/python3.6/dist-packages (from protobuf->stanza) (50.3.2)\n",
      "Requirement already satisfied: six>=1.9 in /usr/local/lib/python3.6/dist-packages (from protobuf->stanza) (1.15.0)\n",
      "Requirement already satisfied: urllib3!=1.25.0,!=1.25.1,<1.26,>=1.21.1 in /usr/local/lib/python3.6/dist-packages (from requests->stanza) (1.25.11)\n",
      "Requirement already satisfied: certifi>=2017.4.17 in /usr/local/lib/python3.6/dist-packages (from requests->stanza) (2020.6.20)\n",
      "Requirement already satisfied: idna<3,>=2.5 in /usr/local/lib/python3.6/dist-packages (from requests->stanza) (2.10)\n",
      "Requirement already satisfied: chardet<4,>=3.0.2 in /usr/local/lib/python3.6/dist-packages (from requests->stanza) (3.0.4)\n",
      "Requirement already satisfied: future in /usr/local/lib/python3.6/dist-packages (from torch>=1.3.0->stanza) (0.16.0)\n",
      "Requirement already satisfied: dataclasses in /usr/local/lib/python3.6/dist-packages (from torch>=1.3.0->stanza) (0.7)\n",
      "Requirement already satisfied: typing-extensions in /usr/local/lib/python3.6/dist-packages (from torch>=1.3.0->stanza) (3.7.4.3)\n"
     ]
    },
    {
     "name": "stderr",
     "output_type": "stream",
     "text": [
      "/content/drive/.shortcut-targets-by-id/128/FRUS/requests/__init__.py:91: RequestsDependencyWarning: urllib3 (1.26.2) or chardet (3.0.4) doesn't match a supported version!\n",
      "  RequestsDependencyWarning)\n"
     ]
    }
   ],
   "source": [
    "# Install stanza; note that the prefix \"!\" is not needed if you are running in a terminal\n",
    "!pip install stanza\n",
    "\n",
    "# Import stanza\n",
    "import stanza"
   ]
  },
  {
   "cell_type": "code",
   "execution_count": null,
   "metadata": {
    "id": "tGA73uZDufky"
   },
   "outputs": [],
   "source": [
    "#stanza.download('en', '.') # download English model"
   ]
  },
  {
   "cell_type": "code",
   "execution_count": null,
   "metadata": {
    "id": "B5TEHHMISUkj"
   },
   "outputs": [],
   "source": [
    "#stanza.install_corenlp()"
   ]
  },
  {
   "cell_type": "code",
   "execution_count": null,
   "metadata": {
    "colab": {
     "base_uri": "https://localhost:8080/"
    },
    "id": "Xvh99X11EpoL",
    "outputId": "616aa84f-4d8c-45b4-936f-26f3ef39c45d"
   },
   "outputs": [
    {
     "name": "stderr",
     "output_type": "stream",
     "text": [
      "WARNING:stanza:Can not find mwt: default from official model list. Ignoring it.\n",
      "INFO:stanza:Loading these models for language: en (English):\n",
      "=========================\n",
      "| Processor | Package   |\n",
      "-------------------------\n",
      "| tokenize  | ewt       |\n",
      "| pos       | ewt       |\n",
      "| lemma     | ewt       |\n",
      "| depparse  | ewt       |\n",
      "| ner       | ontonotes |\n",
      "=========================\n",
      "\n",
      "INFO:stanza:Use device: cpu\n",
      "INFO:stanza:Loading: tokenize\n",
      "INFO:stanza:Loading: pos\n",
      "INFO:stanza:Loading: lemma\n",
      "INFO:stanza:Loading: depparse\n",
      "INFO:stanza:Loading: ner\n",
      "INFO:stanza:Done loading processors!\n"
     ]
    }
   ],
   "source": [
    "nlp = stanza.Pipeline('en', '.', processors=\"tokenize, pos, lemma, ner, depparse\") # initialize English neural pipeline"
   ]
  },
  {
   "cell_type": "code",
   "execution_count": null,
   "metadata": {
    "id": "i1vdmhgs2_zl"
   },
   "outputs": [],
   "source": [
    "text = '''Javanese Grand Waffalo Shinzo Abesson has asked the colonial vizarate to look into the alleged spying activities on the\n",
    "Javanese tribes and companies raised by the Wikileaks website in telephone talks with colonial vizar Joel Bowden\n",
    "Wednesday, local media reported . On September 2, 2015, Lorien dopplemats confirmed the European Disunion has extended the sanctions imposed on Mordor\n",
    "and Harad, citizens supporting pro-Elf separatists in Eastern Mordor, for a further six months .'''\n",
    "\n",
    "parsed = nlp(text)\n",
    "sentence = parsed.sentences[0]"
   ]
  },
  {
   "cell_type": "code",
   "execution_count": null,
   "metadata": {
    "id": "NLaAXpQLx79V"
   },
   "outputs": [],
   "source": [
    "parse_results = [sentence.to_dict() for sentence in parsed.sentences]\n",
    "dep_strs = [sentence.dependencies_string() for sentence in parsed.sentences]"
   ]
  },
  {
   "cell_type": "code",
   "execution_count": null,
   "metadata": {
    "id": "yn_RLn3Swjjl"
   },
   "outputs": [],
   "source": [
    "message = {\n",
    "    \"parse_results\": json.dumps(parse_results),\n",
    "    \"dependency_strings\": json.dumps(dep_strs),\n",
    "}"
   ]
  },
  {
   "cell_type": "code",
   "execution_count": null,
   "metadata": {
    "id": "5AolrSUOx1UZ"
   },
   "outputs": [],
   "source": [
    "def parse(doc):\n",
    "    # Get document info\n",
    "    text = doc[\"text\"]\n",
    "    doc_id = doc[\"url\"]\n",
    "    source = doc[\"website\"]\n",
    "\n",
    "    # Only keep the first 3,000 words\n",
    "    if doc.num_words > 3000:\n",
    "        text = ' '.join(text.split(' ')[:3000])\n",
    "\n",
    "    # Parse document text\n",
    "    parsed = nlp(text)\n",
    "\n",
    "    # Isolate sentence results and dependency strings\n",
    "    parse_results = [sentence.to_dict() for sentence in parsed.sentences]\n",
    "    dep_strs = [sentence.dependencies_string() for sentence in parsed.sentences]\n",
    "\n",
    "    # Construct message\n",
    "    message = {\n",
    "        \"parse_results\": json.dumps(parse_results),\n",
    "        \"dependency_strings\": json.dumps(dep_strs),\n",
    "    }\n",
    "\n",
    "    return message"
   ]
  },
  {
   "cell_type": "code",
   "execution_count": null,
   "metadata": {
    "colab": {
     "base_uri": "https://localhost:8080/"
    },
    "id": "jNaHM9Hpr2oU",
    "outputId": "1a06b09e-9574-46cb-f9fe-0978b40e903d"
   },
   "outputs": [
    {
     "name": "stdout",
     "output_type": "stream",
     "text": [
      "text                      The Ambassador in Austria-Hungary ( Penfield )...\n",
      "title                     [35] The Ambassador in Austria-Hungary ( Penfi...\n",
      "url                                                                  310043\n",
      "date                                                             1914-07-28\n",
      "website                                                                Taft\n",
      "language                                                            English\n",
      "decade                                                                 1910\n",
      "num_words                                                               191\n",
      "num_capitalized_words                                                    48\n",
      "perc_capitalized_words                                             0.251309\n",
      "Name: 2, dtype: object\n"
     ]
    }
   ],
   "source": [
    "# Load a document\n",
    "df = pd.read_csv('Raw Data/Combined Data/taft_df.csv').iloc[:, 1:]\n",
    "doc = df.iloc[2]"
   ]
  },
  {
   "cell_type": "code",
   "execution_count": null,
   "metadata": {
    "id": "pmup43kar2li"
   },
   "outputs": [],
   "source": [
    "message = parse(doc)"
   ]
  },
  {
   "cell_type": "code",
   "execution_count": null,
   "metadata": {
    "id": "sbbtKxm90dh3"
   },
   "outputs": [],
   "source": []
  },
  {
   "cell_type": "markdown",
   "metadata": {
    "id": "XfDPmOeNUcPj"
   },
   "source": [
    "# Stanford CoreNLP"
   ]
  },
  {
   "cell_type": "code",
   "execution_count": null,
   "metadata": {
    "colab": {
     "base_uri": "https://localhost:8080/"
    },
    "id": "7IO-q4zdUc3t",
    "outputId": "a419dca9-bcb4-4299-bf95-89b0734be948"
   },
   "outputs": [
    {
     "name": "stdout",
     "output_type": "stream",
     "text": [
      "Collecting stanfordcorenlp\n",
      "  Downloading https://files.pythonhosted.org/packages/35/cb/0a271890bbe3a77fc1aca2bc3a58b14e11799ea77cb5f7d6fb0a8b4c46fa/stanfordcorenlp-3.9.1.1-py2.py3-none-any.whl\n",
      "Requirement already satisfied: psutil in /usr/local/lib/python3.6/dist-packages (from stanfordcorenlp) (5.4.8)\n",
      "Requirement already satisfied: requests in /usr/local/lib/python3.6/dist-packages (from stanfordcorenlp) (2.23.0)\n",
      "Requirement already satisfied: urllib3!=1.25.0,!=1.25.1,<1.26,>=1.21.1 in /usr/local/lib/python3.6/dist-packages (from requests->stanfordcorenlp) (1.25.11)\n",
      "Requirement already satisfied: idna<3,>=2.5 in /usr/local/lib/python3.6/dist-packages (from requests->stanfordcorenlp) (2.10)\n",
      "Requirement already satisfied: certifi>=2017.4.17 in /usr/local/lib/python3.6/dist-packages (from requests->stanfordcorenlp) (2020.6.20)\n",
      "Requirement already satisfied: chardet<4,>=3.0.2 in /usr/local/lib/python3.6/dist-packages (from requests->stanfordcorenlp) (3.0.4)\n",
      "Installing collected packages: stanfordcorenlp\n",
      "Successfully installed stanfordcorenlp-3.9.1.1\n"
     ]
    }
   ],
   "source": [
    "!pip install stanfordcorenlp"
   ]
  },
  {
   "cell_type": "code",
   "execution_count": null,
   "metadata": {
    "id": "BqMwOkuOV6mp"
   },
   "outputs": [],
   "source": [
    "# !wget https://nlp.stanford.edu/software/stanford-corenlp-full-2018-10-05.zip https://nlp.stanford.edu/software/stanford-english-corenlp-2018-10-05-models.jar"
   ]
  },
  {
   "cell_type": "code",
   "execution_count": null,
   "metadata": {
    "id": "7Jkvhgn8WKST"
   },
   "outputs": [],
   "source": [
    "# !unzip stanford-corenlp-full-2018-10-05.zip"
   ]
  },
  {
   "cell_type": "code",
   "execution_count": null,
   "metadata": {
    "id": "yIDGG0lRWKhZ"
   },
   "outputs": [],
   "source": [
    "# !mv stanford-english-corenlp-2018-10-05-models.jar stanford-corenlp-full-2018-10-05"
   ]
  },
  {
   "cell_type": "code",
   "execution_count": null,
   "metadata": {
    "id": "yXP4kTIEUmUD"
   },
   "outputs": [],
   "source": [
    "import stanfordcorenlp\n",
    "from stanfordcorenlp import StanfordCoreNLP\n",
    "\n",
    "from nltk.tree import Tree"
   ]
  },
  {
   "cell_type": "code",
   "execution_count": null,
   "metadata": {
    "id": "2Xv7r56J5SMy"
   },
   "outputs": [],
   "source": [
    "!export CORENLP_HOME=\"stanford-corenlp-full-2018-10-05\""
   ]
  },
  {
   "cell_type": "code",
   "execution_count": null,
   "metadata": {
    "colab": {
     "base_uri": "https://localhost:8080/"
    },
    "id": "Fx0IafOuJLN8",
    "outputId": "8032c5b5-366c-4456-eb93-5df21ebe24f4"
   },
   "outputs": [
    {
     "name": "stdout",
     "output_type": "stream",
     "text": [
      "\u001b[0m\u001b[01;34mdrive\u001b[0m/  \u001b[01;34msample_data\u001b[0m/\n"
     ]
    }
   ],
   "source": [
    "!cd '/content/drive/My Drive/FRUS/'\n",
    "!ls"
   ]
  },
  {
   "cell_type": "code",
   "execution_count": null,
   "metadata": {
    "id": "fyLSdPS7Zzgl"
   },
   "outputs": [],
   "source": [
    "nlp = StanfordCoreNLP(\"stanford-corenlp-full-2018-10-05\", timeout=600, lang=\"en\", memory=\"8g\")\n",
    "# nlp = StanfordCoreNLP(\"maxio-efs/stanford-corenlp-full-2018-10-05\", timeout=600, lang=\"en\", memory='8g')\n",
    "# nlp = StanfordCoreNLP(\".\", timeout=600, lang=\"en\", memory='8g')"
   ]
  },
  {
   "cell_type": "code",
   "execution_count": null,
   "metadata": {
    "colab": {
     "base_uri": "https://localhost:8080/",
     "height": 139
    },
    "id": "tJq3ZA00MM1v",
    "outputId": "6cdb6277-781c-4913-b210-e008a3bac78d"
   },
   "outputs": [
    {
     "data": {
      "application/vnd.google.colaboratory.intrinsic+json": {
       "type": "string"
      },
      "text/plain": [
       "'{\\n  \"sentences\": [\\n    {\\n      \"index\": 0,\\n      \"parse\": \"(ROOT\\\\n  (NP (PRP I)))\",\\n      \"basicDependencies\": [\\n        {\\n          \"dep\": \"ROOT\",\\n          \"governor\": 0,\\n          \"governorGloss\": \"ROOT\",\\n          \"dependent\": 1,\\n          \"dependentGloss\": \"I\"\\n        }\\n      ],\\n      \"enhancedDependencies\": [\\n        {\\n          \"dep\": \"ROOT\",\\n          \"governor\": 0,\\n          \"governorGloss\": \"ROOT\",\\n          \"dependent\": 1,\\n          \"dependentGloss\": \"I\"\\n        }\\n      ],\\n      \"enhancedPlusPlusDependencies\": [\\n        {\\n          \"dep\": \"ROOT\",\\n          \"governor\": 0,\\n          \"governorGloss\": \"ROOT\",\\n          \"dependent\": 1,\\n          \"dependentGloss\": \"I\"\\n        }\\n      ],\\n      \"openie\": [\\n      ],\\n      \"kbp\": [\\n      ],\\n      \"entitymentions\": [\\n      ],\\n      \"tokens\": [\\n        {\\n          \"index\": 1,\\n          \"word\": \"I\",\\n          \"originalText\": \"I\",\\n          \"lemma\": \"I\",\\n          \"characterOffsetBegin\": 0,\\n          \"characterOffsetEnd\": 1,\\n          \"pos\": \"PRP\",\\n          \"ner\": \"O\",\\n          \"speaker\": \"PER0\",\\n          \"before\": \"\",\\n          \"after\": \"\"\\n        }\\n      ]\\n    }\\n  ],\\n  \"corefs\": {\\n  }\\n}\\n'"
      ]
     },
     "execution_count": 29,
     "metadata": {
      "tags": []
     },
     "output_type": "execute_result"
    }
   ],
   "source": [
    "nlp.annotate(\"I\")"
   ]
  },
  {
   "cell_type": "code",
   "execution_count": null,
   "metadata": {
    "colab": {
     "base_uri": "https://localhost:8080/",
     "height": 157
    },
    "id": "VEavXu_4VM9y",
    "outputId": "1157ac6f-18cf-479e-80d2-29d5be9c6b63"
   },
   "outputs": [
    {
     "data": {
      "application/vnd.google.colaboratory.intrinsic+json": {
       "type": "string"
      },
      "text/plain": [
       "'{\\n  \"sentences\": [\\n    {\\n      \"index\": 0,\\n      \"parse\": \"(ROOT\\\\n  (S\\\\n    (NP (NNP Barack) (NNP Obama))\\\\n    (VP (VBD was)\\\\n      (NP (DT the) (NN president)))\\\\n    (. .)))\",\\n      \"basicDependencies\": [\\n        {\\n          \"dep\": \"ROOT\",\\n          \"governor\": 0,\\n          \"governorGloss\": \"ROOT\",\\n          \"dependent\": 5,\\n          \"dependentGloss\": \"president\"\\n        },\\n        {\\n          \"dep\": \"compound\",\\n          \"governor\": 2,\\n          \"governorGloss\": \"Obama\",\\n          \"dependent\": 1,\\n          \"dependentGloss\": \"Barack\"\\n        },\\n        {\\n          \"dep\": \"nsubj\",\\n          \"governor\": 5,\\n          \"governorGloss\": \"president\",\\n          \"dependent\": 2,\\n          \"dependentGloss\": \"Obama\"\\n        },\\n        {\\n          \"dep\": \"cop\",\\n          \"governor\": 5,\\n          \"governorGloss\": \"president\",\\n          \"dependent\": 3,\\n          \"dependentGloss\": \"was\"\\n        },\\n        {\\n          \"dep\": \"det\",\\n          \"governor\": 5,\\n          \"governorGloss\": \"president\",\\n          \"dependent\": 4,\\n          \"dependentGloss\": \"the\"\\n        },\\n        {\\n          \"dep\": \"punct\",\\n          \"governor\": 5,\\n          \"governorGloss\": \"president\",\\n          \"dependent\": 6,\\n          \"dependentGloss\": \".\"\\n        }\\n      ],\\n      \"enhancedDependencies\": [\\n        {\\n          \"dep\": \"ROOT\",\\n          \"governor\": 0,\\n          \"governorGloss\": \"ROOT\",\\n          \"dependent\": 5,\\n          \"dependentGloss\": \"president\"\\n        },\\n        {\\n          \"dep\": \"compound\",\\n          \"governor\": 2,\\n          \"governorGloss\": \"Obama\",\\n          \"dependent\": 1,\\n          \"dependentGloss\": \"Barack\"\\n        },\\n        {\\n          \"dep\": \"nsubj\",\\n          \"governor\": 5,\\n          \"governorGloss\": \"president\",\\n          \"dependent\": 2,\\n          \"dependentGloss\": \"Obama\"\\n        },\\n        {\\n          \"dep\": \"cop\",\\n          \"governor\": 5,\\n          \"governorGloss\": \"president\",\\n          \"dependent\": 3,\\n          \"dependentGloss\": \"was\"\\n        },\\n        {\\n          \"dep\": \"det\",\\n          \"governor\": 5,\\n          \"governorGloss\": \"president\",\\n          \"dependent\": 4,\\n          \"dependentGloss\": \"the\"\\n        },\\n        {\\n          \"dep\": \"punct\",\\n          \"governor\": 5,\\n          \"governorGloss\": \"president\",\\n          \"dependent\": 6,\\n          \"dependentGloss\": \".\"\\n        }\\n      ],\\n      \"enhancedPlusPlusDependencies\": [\\n        {\\n          \"dep\": \"ROOT\",\\n          \"governor\": 0,\\n          \"governorGloss\": \"ROOT\",\\n          \"dependent\": 5,\\n          \"dependentGloss\": \"president\"\\n        },\\n        {\\n          \"dep\": \"compound\",\\n          \"governor\": 2,\\n          \"governorGloss\": \"Obama\",\\n          \"dependent\": 1,\\n          \"dependentGloss\": \"Barack\"\\n        },\\n        {\\n          \"dep\": \"nsubj\",\\n          \"governor\": 5,\\n          \"governorGloss\": \"president\",\\n          \"dependent\": 2,\\n          \"dependentGloss\": \"Obama\"\\n        },\\n        {\\n          \"dep\": \"cop\",\\n          \"governor\": 5,\\n          \"governorGloss\": \"president\",\\n          \"dependent\": 3,\\n          \"dependentGloss\": \"was\"\\n        },\\n        {\\n          \"dep\": \"det\",\\n          \"governor\": 5,\\n          \"governorGloss\": \"president\",\\n          \"dependent\": 4,\\n          \"dependentGloss\": \"the\"\\n        },\\n        {\\n          \"dep\": \"punct\",\\n          \"governor\": 5,\\n          \"governorGloss\": \"president\",\\n          \"dependent\": 6,\\n          \"dependentGloss\": \".\"\\n        }\\n      ],\\n      \"openie\": [\\n        {\\n          \"subject\": \"Barack Obama\",\\n          \"subjectSpan\": [0, 2],\\n          \"relation\": \"was\",\\n          \"relationSpan\": [2, 3],\\n          \"object\": \"president\",\\n          \"objectSpan\": [4, 5]\\n        }\\n      ],\\n      \"kbp\": [\\n        {\\n          \"subject\": \"Barack Obama\",\\n          \"subjectSpan\": [0, 2],\\n          \"relation\": \"per:title\",\\n          \"relationSpan\": [-2, -1],\\n          \"object\": \"president\",\\n          \"objectSpan\": [4, 5]\\n        }\\n      ],\\n      \"entitymentions\": [\\n        {\\n          \"docTokenBegin\": 0,\\n          \"docTokenEnd\": 2,\\n          \"tokenBegin\": 0,\\n          \"tokenEnd\": 2,\\n          \"text\": \"Barack Obama\",\\n          \"characterOffsetBegin\": 0,\\n          \"characterOffsetEnd\": 12,\\n          \"ner\": \"PERSON\"\\n        },\\n        {\\n          \"docTokenBegin\": 4,\\n          \"docTokenEnd\": 5,\\n          \"tokenBegin\": 4,\\n          \"tokenEnd\": 5,\\n          \"text\": \"president\",\\n          \"characterOffsetBegin\": 21,\\n          \"characterOffsetEnd\": 30,\\n          \"ner\": \"TITLE\"\\n        }\\n      ],\\n      \"tokens\": [\\n        {\\n          \"index\": 1,\\n          \"word\": \"Barack\",\\n          \"originalText\": \"Barack\",\\n          \"lemma\": \"Barack\",\\n          \"characterOffsetBegin\": 0,\\n          \"characterOffsetEnd\": 6,\\n          \"pos\": \"NNP\",\\n          \"ner\": \"PERSON\",\\n          \"speaker\": \"PER0\",\\n          \"before\": \"\",\\n          \"after\": \" \"\\n        },\\n        {\\n          \"index\": 2,\\n          \"word\": \"Obama\",\\n          \"originalText\": \"Obama\",\\n          \"lemma\": \"Obama\",\\n          \"characterOffsetBegin\": 7,\\n          \"characterOffsetEnd\": 12,\\n          \"pos\": \"NNP\",\\n          \"ner\": \"PERSON\",\\n          \"speaker\": \"PER0\",\\n          \"before\": \" \",\\n          \"after\": \" \"\\n        },\\n        {\\n          \"index\": 3,\\n          \"word\": \"was\",\\n          \"originalText\": \"was\",\\n          \"lemma\": \"be\",\\n          \"characterOffsetBegin\": 13,\\n          \"characterOffsetEnd\": 16,\\n          \"pos\": \"VBD\",\\n          \"ner\": \"O\",\\n          \"speaker\": \"PER0\",\\n          \"before\": \" \",\\n          \"after\": \" \"\\n        },\\n        {\\n          \"index\": 4,\\n          \"word\": \"the\",\\n          \"originalText\": \"the\",\\n          \"lemma\": \"the\",\\n          \"characterOffsetBegin\": 17,\\n          \"characterOffsetEnd\": 20,\\n          \"pos\": \"DT\",\\n          \"ner\": \"O\",\\n          \"speaker\": \"PER0\",\\n          \"before\": \" \",\\n          \"after\": \" \"\\n        },\\n        {\\n          \"index\": 5,\\n          \"word\": \"president\",\\n          \"originalText\": \"president\",\\n          \"lemma\": \"president\",\\n          \"characterOffsetBegin\": 21,\\n          \"characterOffsetEnd\": 30,\\n          \"pos\": \"NN\",\\n          \"ner\": \"TITLE\",\\n          \"speaker\": \"PER0\",\\n          \"before\": \" \",\\n          \"after\": \"\"\\n        },\\n        {\\n          \"index\": 6,\\n          \"word\": \".\",\\n          \"originalText\": \".\",\\n          \"lemma\": \".\",\\n          \"characterOffsetBegin\": 30,\\n          \"characterOffsetEnd\": 31,\\n          \"pos\": \".\",\\n          \"ner\": \"O\",\\n          \"speaker\": \"PER0\",\\n          \"before\": \"\",\\n          \"after\": \"\"\\n        }\\n      ]\\n    }\\n  ],\\n  \"corefs\": {\\n  }\\n}\\n'"
      ]
     },
     "execution_count": 14,
     "metadata": {
      "tags": []
     },
     "output_type": "execute_result"
    }
   ],
   "source": [
    "nlp.annotate(\"Barack Obama was the president.\")"
   ]
  },
  {
   "cell_type": "code",
   "execution_count": null,
   "metadata": {
    "id": "_dK-CYL4WKP9"
   },
   "outputs": [],
   "source": [
    "text = '''Javanese Grand Waffalo Shinzo Abesson has asked the colonial vizarate to look into the alleged spying activities on the\n",
    "Javanese tribes and companies raised by the Wikileaks website in telephone talks with colonial vizar Joel Bowden\n",
    "Wednesday, local media reported . On September 2, 2015, Lorien dopplemats confirmed the European Disunion has extended the sanctions imposed on Mordor\n",
    "and Harad, citizens supporting pro-Elf separatists in Eastern Mordor, for a further six months .'''\n",
    "annotated = nlp.annotate(text)\n",
    "annotated = json.loads(annotated)"
   ]
  },
  {
   "cell_type": "code",
   "execution_count": null,
   "metadata": {
    "id": "ogmDoKyVVE_2"
   },
   "outputs": [],
   "source": [
    "annotated"
   ]
  },
  {
   "cell_type": "code",
   "execution_count": null,
   "metadata": {
    "colab": {
     "base_uri": "https://localhost:8080/"
    },
    "id": "qEQ4SiHMk8Q_",
    "outputId": "e6d01391-29fe-4729-be70-0c8cade86cf3"
   },
   "outputs": [
    {
     "name": "stdout",
     "output_type": "stream",
     "text": [
      "                                                                                                                                    ROOT                                                                                                                                                       \n",
      "                                                                                                                                     |                                                                                                                                                          \n",
      "                                                                                                                                     S                                                                                                                                                         \n",
      "                   __________________________________________________________________________________________________________________|_______________________________________________________________________________________________________________________________________________________   \n",
      "                  |                         VP                                                                                                                                                                                                                                        |      | \n",
      "                  |                     ____|__________                                                                                                                                                                                                                               |      |  \n",
      "                  |                    |               VP                                                                                                                                                                                                                             |      | \n",
      "                  |                    |     __________|___________________                                                                                                                                                                                                           |      |  \n",
      "                  |                    |    |          |                   S                                                                                                                                                                                                          |      | \n",
      "                  |                    |    |          |                   |                                                                                                                                                                                                          |      |  \n",
      "                  |                    |    |          |                   VP                                                                                                                                                                                                         |      | \n",
      "                  |                    |    |          |                ___|_________                                                                                                                                                                                                 |      |  \n",
      "                  |                    |    |          |               |             VP                                                                                                                                                                                               |      | \n",
      "                  |                    |    |          |               |    _________|____________                                                                                                                                                                                    |      |  \n",
      "                  |                    |    |          |               |   |                      PP                                                                                                                                                                                  |      | \n",
      "                  |                    |    |          |               |   |     _________________|____________________                                                                                                                                                               |      |  \n",
      "                  |                    |    |          |               |   |    |                                      NP                                                                                                                                                             |      | \n",
      "                  |                    |    |          |               |   |    |           ___________________________|__________________________                                                                                                                                    |      |  \n",
      "                  |                    |    |          |               |   |    |          |                                                      PP                                                                                                                                  |      | \n",
      "                  |                    |    |          |               |   |    |          |                        ______________________________|___________________________________________                                                                                        |      |  \n",
      "                  |                    |    |          |               |   |    |          |                       |                                                                          NP                                                                                      |      | \n",
      "                  |                    |    |          |               |   |    |          |                       |                                                                     _____|___________________________________________________________________________            |      |  \n",
      "                  |                    |    |          |               |   |    |          |                       |                                                                    NP                                                                      |         |           |      | \n",
      "                  |                    |    |          |               |   |    |          |                       |                  __________________________________________________|____________                                                           |         |           |      |  \n",
      "                  |                    |    |          |               |   |    |          |                       |                 |                                                               VP                                                         |         |           |      | \n",
      "                  |                    |    |          |               |   |    |          |                       |                 |                     __________________________________________|___________                                               |         |           |      |  \n",
      "                  |                    |    |          |               |   |    |          |                       |                 |                    |             |                                        PP                                             |         |           |      | \n",
      "                  |                    |    |          |               |   |    |          |                       |                 |                    |             |                      __________________|___________                                   |         |           |      |  \n",
      "                  |                    |    |          |               |   |    |          |                       |                 |                    |             |                     |                              NP                                 |         |           |      | \n",
      "                  |                    |    |          |               |   |    |          |                       |                 |                    |             |                     |              ________________|_______                           |         |           |      |  \n",
      "                  |                    |    |          |               |   |    |          |                       |                 |                    |             PP                    |             |                        PP                         |         |           |      | \n",
      "                  |                    |    |          |               |   |    |          |                       |                 |                    |      _______|______               |             |          ______________|____                      |         |           |      |  \n",
      "                  NP                   |    |          NP              |   |    |          NP                      |                 NP                   |     |              NP             |             NP        |                   NP                    |         NP          VP     | \n",
      "    ______________|______________      |    |     _____|________       |   |    |     _____|_______________        |    _____________|____________        |     |    __________|________      |       ______|____     |       ____________|______________       |     ____|____       |      |  \n",
      "   JJ     NNP    NNP    NNP     NNP   VBZ  VBN   DT    NN       NN     TO  VB   IN   DT    JJ    VBG      NNS      IN  DT    JJ     NNS    CC    NNS     VBN    IN  DT        NNP       NN    IN     NN         NNS   IN     JJ      NN  NNP   NNP      NNP     ,    JJ       NNS    VBD     . \n",
      "   |       |      |      |       |     |    |    |     |        |      |   |    |    |     |      |        |       |   |     |       |     |      |       |     |   |          |        |     |      |           |    |      |       |    |     |        |      |    |         |      |      |  \n",
      "Javanese Grand Waffalo Shinzo Abesson has asked the colonial vizarate  to look into the alleged spying activities  on the Javanese tribes and companies raised  by the     Wikileaks website  in telephone     talks with colonial vizar Joel Bowden Wednesday  ,  local     media reported  . \n",
      "\n",
      "\n",
      "\n",
      "\n",
      "                                                                                                                             ROOT                                                                                                                               \n",
      "                                                                                                                              |                                                                                                                                  \n",
      "                                                                                                                              S                                                                                                                                 \n",
      "                    __________________________________________________________________________________________________________|_______________________________________________________________________________________________________________________________   \n",
      "                   |                                                                                                                                    VP                                                                                                    | \n",
      "                   |                                                   _________________________________________________________________________________|_______________________________________                                                              |  \n",
      "                   |                                                  VP                                                                                |                                       |                                                             | \n",
      "                   |                                      ____________|_______________                                                                  |                                       |                                                             |  \n",
      "                   |                                     |                           SBAR                                                               |                                       |                                                             | \n",
      "                   |                                     |                            |                                                                 |                                       |                                                             |  \n",
      "                   |                                     |                            S                                                                 |                                       |                                                             | \n",
      "                   |                                     |             _______________|_____________                                                    |                                       |                                                             |  \n",
      "                   |                                     |            |                             VP                                                  |                                       |                                                             | \n",
      "                   |                                     |            |                _____________|___________________                                |                                       |                                                             |  \n",
      "                   |                                     |            |               |                                 VP                              |                                       |                                                             | \n",
      "                   |                                     |            |               |       __________________________|_____                          |                                       |                                                             |  \n",
      "                   |                                     |            |               |      |                               SBAR                       |                                       NP                                                            | \n",
      "                   |                                     |            |               |      |                                |                         |      _________________________________|________________________                                     |  \n",
      "                   |                                     |            |               |      |                                S                         |     |                                                          S                                    | \n",
      "                   |                                     |            |               |      |           _____________________|_____                    |     |                                                          |                                    |  \n",
      "                   PP                                    |            |               |      |          |                           VP                  |     |                                                          VP                                   | \n",
      "  _________________|___                                  |            |               |      |          |                ___________|_____              |     |          ________________________________________________|_____________                       |  \n",
      " |                     NP                                |            |               |      |          |               |                 PP            |     |         |               |                     PP               |       PP                     | \n",
      " |       ______________|_______________                  |            |               |      |          |               |      ___________|___          |     |         |               |                _____|_____           |    ___|_____                 |  \n",
      " |      |      |   |   NP   |          NP                |            NP              |      |          NP              |     |               NP        |     |         |               NP              |           NP         |   |         NP               | \n",
      " |      |      |   |   |    |     _____|______           |       _____|________       |      |       ___|______         |     |      _________|____     |     |         |          _____|_______        |      _____|____      |   |    _____|__________      |  \n",
      " IN    NNP     CD  ,   CD   ,   NNP          NNS        VBD     DT    JJ      NNP    VBZ    VBN     DT        NNS      VBN    IN   NNP        CC  NNP   ,    NNS       VBG        JJ           NNS      IN   NNP        NNP    ,   IN  DT    JJ    CD  NNS    . \n",
      " |      |      |   |   |    |    |            |          |      |     |        |      |      |      |          |        |     |     |         |    |    |     |         |         |             |       |     |          |     |   |   |     |     |    |     |  \n",
      " On September  2   ,  2015  ,  Lorien     dopplemats confirmed the European Disunion has  extended the     sanctions imposed  on  Mordor     and Harad  ,  citizens supporting pro-Elf     separatists  in Eastern     Mordor  ,  for  a  further six months  . \n",
      "\n",
      "\n",
      "\n",
      "\n"
     ]
    }
   ],
   "source": [
    "for sent in annotated[\"sentences\"]:\n",
    "    parse_str = sent[\"parse\"]\n",
    "    Tree.fromstring(parse_str).pretty_print()\n",
    "    print('\\n\\n')"
   ]
  },
  {
   "cell_type": "code",
   "execution_count": null,
   "metadata": {
    "id": "pQxpW-hYilI7"
   },
   "outputs": [],
   "source": [
    "for sent in annotated[\"sentences\"]:\n",
    "    # Check that only the first 6 sentences are kept \n",
    "    if sent_counter > num_sent_to_parse:\n",
    "        break;\n",
    "    else:\n",
    "        sent_counter += 1\n",
    "\n",
    "    # Create header for <Sentence> element\n",
    "    sent_xml = '\\n\\n<Sentence date = \"20201019\" id = \"{}_{}\" source = \"{}\" sentence = \"TRUE\">'.format(doc_id, sent_counter, source)\n",
    "    \n",
    "    # Add <Text> element\n",
    "    sentence_text = ' '.join([word['originalText'] for word in sent['tokens']])\n",
    "    sent_xml += \"\\n<Text>\\n\" + sentence_text + \"\\n</Text>\"\n",
    "\n",
    "    # Add <Parse> element\n",
    "    parse_str = sent[\"parse\"]\n",
    "    sent_xml += \"\\n<Parse>\\n\" + parse_str + \"\\n</Parse>\\n\\n</Sentence>\"\n",
    "    \n",
    "    # Add sentence to full XML string\n",
    "    xml += sent_xml"
   ]
  },
  {
   "cell_type": "code",
   "execution_count": null,
   "metadata": {
    "id": "kBkDPID2VsCV"
   },
   "outputs": [],
   "source": [
    "def create_xml(doc):\n",
    "    text = doc[\"text\"][:4000]\n",
    "    doc_id = doc[\"url\"]\n",
    "    source = doc[\"website\"]\n",
    "\n",
    "    xml = '<Sentences>'\n",
    "    annotated = nlp.annotate(text)\n",
    "    annotated = json.loads(annotated)\n",
    "    # tree_str = nlp.parse(text)\n",
    "\n",
    "    num_sent_to_parse = 10   # Only keep first 6 sentences\n",
    "    sent_counter = 1\n",
    "    for sent in annotated[\"sentences\"]:\n",
    "        # Check that only the first 6 sentences are kept \n",
    "        if sent_counter > num_sent_to_parse:\n",
    "            break;\n",
    "        else:\n",
    "            sent_counter += 1\n",
    "\n",
    "        # Create header for <Sentence> element\n",
    "        sent_xml = '\\n\\n<Sentence date = \"20201019\" id = \"{}_{}\" source = \"{}\" sentence = \"TRUE\">'.format(doc_id, sent_counter, source)\n",
    "        \n",
    "        # Add <Text> element\n",
    "        sentence_text = ' '.join([word['originalText'] for word in sent['tokens']])\n",
    "        sent_xml += \"\\n<Text>\\n\" + sentence_text + \"\\n</Text>\"\n",
    "\n",
    "        # Add <Parse> element\n",
    "        parse_str = sent[\"parse\"]\n",
    "        sent_xml += \"\\n<Parse>\\n\" + parse_str + \"\\n</Parse>\\n\\n</Sentence>\"\n",
    "        \n",
    "        # Add sentence to full XML string\n",
    "        xml += sent_xml\n",
    "\n",
    "    # Close XML element\n",
    "    xml += \"\\n\\n</Sentences>\"\n",
    "    return xml    "
   ]
  },
  {
   "cell_type": "code",
   "execution_count": null,
   "metadata": {
    "colab": {
     "base_uri": "https://localhost:8080/",
     "height": 157
    },
    "id": "tBTqZoHYAWFe",
    "outputId": "104a50dc-97cd-43e9-dbe9-1bb01c891c74"
   },
   "outputs": [
    {
     "data": {
      "application/vnd.google.colaboratory.intrinsic+json": {
       "type": "string"
      },
      "text/plain": [
       "'{\"text\":\"The Ambassador in Austria-Hungary ( Penfield ) to the Secretary of State American Embassy , Vienna , July 28, 1914, 7 p.m. [ Received July 29, 10:12 a.m. ] [Telegram] Minister of Foreign Affairs requests following declaration of war be cabled: To end subversive intrigues issuing from Belgrade directed against the territorial integrity Austro-Hungarian Monarchy, Imperial and Royal Government July 23 sent to Royal Servian Government note in which were formulated series of demands, for acceptation of which delay of forty-eight hours was granted Royal Government. Servian Government not having replied to note in a satisfactory manner, Imperial and Royal Government is under necessity in protecting its rights and interests, of having recourse to the force of arms. Austria-Hungary having just addressed to Servia formal declaration in conformity with Article 1 of the convention October 18, 1907, relative to opening of hostilities, therefore considers itself in a state of war with Servia. Minister for Foreign Affairs declares that Austria will conform itself in the scene of hostilities on condition that Servia proceeds analogously to the stipulations of convention of The Hague, October 18, 1907 and of London, February 26, 1909. Penfield\",\"title\":\"[35] The Ambassador in Austria-Hungary ( Penfield ) to the Secretary of State\",\"url\":310043,\"date\":\"1914-07-28\",\"website\":\"Taft\",\"language\":\"English\",\"decade\":1910,\"num_words\":191,\"num_capitalized_words\":48,\"perc_capitalized_words\":0.2513089005}'"
      ]
     },
     "execution_count": 19,
     "metadata": {
      "tags": []
     },
     "output_type": "execute_result"
    }
   ],
   "source": [
    "# Load a document\n",
    "df = pd.read_csv('Raw Data/Combined Data/taft_df.csv').iloc[:, 1:]\n",
    "doc = df.iloc[2]\n",
    "doc.to_json()"
   ]
  },
  {
   "cell_type": "code",
   "execution_count": null,
   "metadata": {
    "colab": {
     "base_uri": "https://localhost:8080/",
     "height": 1000
    },
    "id": "YEMc2EHdUl6D",
    "outputId": "b2bd213d-5419-4dd7-e8f3-bd8b5989dfe6"
   },
   "outputs": [
    {
     "name": "stdout",
     "output_type": "stream",
     "text": [
      "CPU times: user 14.5 ms, sys: 2.26 ms, total: 16.8 ms\n",
      "Wall time: 5.95 s\n",
      "<Sentences>\n",
      "\n",
      "<Sentence date = \"20201019\" id = \"310043_2\" source = \"Taft\" sentence = \"TRUE\">\n",
      "<Text>\n",
      "The Ambassador in Austria-Hungary ( Penfield ) to the Secretary of State American Embassy , Vienna , July 28 , 1914 , 7 p.m. [ Received July 29 , 10:12 a.m. ] [ Telegram ] Minister of Foreign Affairs requests following declaration of war be cabled : To end subversive intrigues issuing from Belgrade directed against the territorial integrity Austro-Hungarian Monarchy , Imperial and Royal Government July 23 sent to Royal Servian Government note in which were formulated series of demands , for acceptation of which delay of forty-eight hours was granted Royal Government .\n",
      "</Text>\n",
      "<Parse>\n",
      "(ROOT\n",
      "  (FRAG\n",
      "    (NP\n",
      "      (NP (DT The) (NNP Ambassador))\n",
      "      (PP (IN in)\n",
      "        (NP (NNP Austria-Hungary)))\n",
      "      (PRN (-LRB- -LRB-)\n",
      "        (NP (NNP Penfield))\n",
      "        (-RRB- -RRB-)))\n",
      "    (PP (TO to)\n",
      "      (NP\n",
      "        (NP (DT the) (NNP Secretary))\n",
      "        (PP (IN of)\n",
      "          (NP (NNP State) (NNP American) (NNP Embassy)))))\n",
      "    (, ,)\n",
      "    (NP\n",
      "      (NP (NNP Vienna))\n",
      "      (, ,)\n",
      "      (NP (NNP July) (CD 28))\n",
      "      (, ,) (CD 1914) (, ,)\n",
      "      (NP (CD 7) (NN p.m.))\n",
      "      (NP (-LRB- -LSB-)\n",
      "        (VP\n",
      "          (VP (VBN Received)\n",
      "            (NP (NNP July) (CD 29)))\n",
      "          (, ,)\n",
      "          (PRN\n",
      "            (NP (CD 10:12) (NN a.m.))\n",
      "            (-RRB- -RSB-)\n",
      "            (S\n",
      "              (PRN (-LRB- -LSB-)\n",
      "                (NP (NN Telegram))\n",
      "                (-RRB- -RSB-))\n",
      "              (S\n",
      "                (NP\n",
      "                  (NP (NNP Minister))\n",
      "                  (PP (IN of)\n",
      "                    (NP (NNP Foreign) (NNP Affairs) (NNS requests)))\n",
      "                  (PP (VBG following)\n",
      "                    (NP\n",
      "                      (NP (NN declaration))\n",
      "                      (PP (IN of)\n",
      "                        (NP (NN war))))))\n",
      "                (VP (VB be)\n",
      "                  (VP (VBN cabled) (: :)\n",
      "                    (S\n",
      "                      (VP (TO To)\n",
      "                        (VP (VB end)\n",
      "                          (NP\n",
      "                            (NP (JJ subversive) (NNS intrigues))\n",
      "                            (VP (VBG issuing)\n",
      "                              (PP (IN from)\n",
      "                                (NP\n",
      "                                  (NP (NNP Belgrade))\n",
      "                                  (VP (VBN directed)\n",
      "                                    (PP (IN against)\n",
      "                                      (NP\n",
      "                                        (NP (DT the) (JJ territorial) (NN integrity) (NNP Austro-Hungarian) (NNP Monarchy))\n",
      "                                        (, ,)\n",
      "                                        (S\n",
      "                                          (NP\n",
      "                                            (NP (NNP Imperial))\n",
      "                                            (CC and)\n",
      "                                            (NP (NNP Royal) (NNP Government) (NNP July)))\n",
      "                                          (CD 23)\n",
      "                                          (VP (VBN sent)\n",
      "                                            (PP (TO to)\n",
      "                                              (NP (NNP Royal) (NNP Servian) (NNP Government) (NN note)))\n",
      "                                            (SBAR\n",
      "                                              (WHPP (IN in)\n",
      "                                                (WHNP (WDT which)))\n",
      "                                              (S\n",
      "                                                (VP (VBD were)\n",
      "                                                  (VP (VBN formulated)\n",
      "                                                    (NP\n",
      "                                                      (NP (NN series))\n",
      "                                                      (PP (IN of)\n",
      "                                                        (NP (NNS demands)))))\n",
      "                                                  (, ,)\n",
      "                                                  (PP (IN for)\n",
      "                                                    (NP\n",
      "                                                      (NP (NN acceptation))\n",
      "                                                      (SBAR\n",
      "                                                        (WHPP (IN of)\n",
      "                                                          (WHNP (WDT which)))\n",
      "                                                        (S\n",
      "                                                          (NP\n",
      "                                                            (NP (NN delay))\n",
      "                                                            (PP (IN of)\n",
      "                                                              (NP (CD forty-eight) (NNS hours))))\n",
      "                                                          (VP (VBD was)\n",
      "                                                            (VP (VBN granted)\n",
      "                                                              (NP (NNP Royal) (NNP Government)))))))))))))))))))))))))))))))\n",
      "    (. .)))\n",
      "</Parse>\n",
      "\n",
      "</Sentence>\n",
      "\n",
      "<Sentence date = \"20201019\" id = \"310043_3\" source = \"Taft\" sentence = \"TRUE\">\n",
      "<Text>\n",
      "Servian Government not having replied to note in a satisfactory manner , Imperial and Royal Government is under necessity in protecting its rights and interests , of having recourse to the force of arms .\n",
      "</Text>\n",
      "<Parse>\n",
      "(ROOT\n",
      "  (S\n",
      "    (S\n",
      "      (NP (NNP Servian) (NNP Government))\n",
      "      (VP (RB not) (VBG having)\n",
      "        (S\n",
      "          (VP (VBN replied)\n",
      "            (S\n",
      "              (VP (TO to)\n",
      "                (VP (VB note)\n",
      "                  (PP (IN in)\n",
      "                    (NP (DT a) (JJ satisfactory) (NN manner))))))))))\n",
      "    (, ,)\n",
      "    (NP (NNP Imperial)\n",
      "      (CC and)\n",
      "      (NNP Royal) (NNP Government))\n",
      "    (VP (VBZ is)\n",
      "      (PP (IN under)\n",
      "        (NP\n",
      "          (NP (NN necessity))\n",
      "          (PP (IN in)\n",
      "            (S\n",
      "              (VP (VBG protecting)\n",
      "                (NP (PRP$ its) (NNS rights)\n",
      "                  (CC and)\n",
      "                  (NNS interests)))))\n",
      "          (, ,)\n",
      "          (PP (IN of)\n",
      "            (S\n",
      "              (VP (VBG having)\n",
      "                (NP (NN recourse))\n",
      "                (PP (TO to)\n",
      "                  (NP\n",
      "                    (NP (DT the) (NN force))\n",
      "                    (PP (IN of)\n",
      "                      (NP (NNS arms)))))))))))\n",
      "    (. .)))\n",
      "</Parse>\n",
      "\n",
      "</Sentence>\n",
      "\n",
      "<Sentence date = \"20201019\" id = \"310043_4\" source = \"Taft\" sentence = \"TRUE\">\n",
      "<Text>\n",
      "Austria-Hungary having just addressed to Servia formal declaration in conformity with Article 1 of the convention October 18 , 1907 , relative to opening of hostilities , therefore considers itself in a state of war with Servia .\n",
      "</Text>\n",
      "<Parse>\n",
      "(ROOT\n",
      "  (S\n",
      "    (S\n",
      "      (NP (NNP Austria-Hungary))\n",
      "      (VP (VBG having)\n",
      "        (VP\n",
      "          (ADVP (RB just))\n",
      "          (VBN addressed)\n",
      "          (PP (TO to)\n",
      "            (NP\n",
      "              (NP (NNP Servia) (JJ formal) (NN declaration))\n",
      "              (PP (IN in)\n",
      "                (NP (NN conformity)))))\n",
      "          (PP (IN with)\n",
      "            (NP\n",
      "              (NP (NNP Article) (CD 1))\n",
      "              (PP (IN of)\n",
      "                (NP\n",
      "                  (NP (DT the) (NN convention))\n",
      "                  (NP (NNP October) (CD 18) (, ,) (CD 1907) (, ,))))\n",
      "              (ADJP (JJ relative)\n",
      "                (PP (TO to)\n",
      "                  (NP\n",
      "                    (NP (NN opening))\n",
      "                    (PP (IN of)\n",
      "                      (NP (NNS hostilities)))))))))))\n",
      "    (, ,)\n",
      "    (VP\n",
      "      (ADVP (RB therefore))\n",
      "      (VBZ considers)\n",
      "      (NP (PRP itself))\n",
      "      (PP (IN in)\n",
      "        (NP\n",
      "          (NP (DT a) (NN state))\n",
      "          (PP (IN of)\n",
      "            (NP (NN war)))))\n",
      "      (PP (IN with)\n",
      "        (NP (NNP Servia))))\n",
      "    (. .)))\n",
      "</Parse>\n",
      "\n",
      "</Sentence>\n",
      "\n",
      "<Sentence date = \"20201019\" id = \"310043_5\" source = \"Taft\" sentence = \"TRUE\">\n",
      "<Text>\n",
      "Minister for Foreign Affairs declares that Austria will conform itself in the scene of hostilities on condition that Servia proceeds analogously to the stipulations of convention of The Hague , October 18 , 1907 and of London , February 26 , 1909 .\n",
      "</Text>\n",
      "<Parse>\n",
      "(ROOT\n",
      "  (S\n",
      "    (NP\n",
      "      (NP (NNP Minister))\n",
      "      (PP (IN for)\n",
      "        (NP (NNP Foreign) (NNP Affairs))))\n",
      "    (VP (VBZ declares)\n",
      "      (SBAR (IN that)\n",
      "        (S\n",
      "          (NP (NNP Austria))\n",
      "          (VP (MD will)\n",
      "            (VP (VB conform)\n",
      "              (NP (PRP itself))\n",
      "              (PP (IN in)\n",
      "                (NP\n",
      "                  (NP (DT the) (NN scene))\n",
      "                  (PP (IN of)\n",
      "                    (NP (NNS hostilities)))))\n",
      "              (PP (IN on)\n",
      "                (NP (NN condition)\n",
      "                  (SBAR (WDT that)\n",
      "                    (S\n",
      "                      (NP (NNP Servia))\n",
      "                      (VP (VBZ proceeds)\n",
      "                        (ADVP (RB analogously))\n",
      "                        (PP (TO to)\n",
      "                          (NP\n",
      "                            (NP (DT the) (NNS stipulations))\n",
      "                            (PP (IN of)\n",
      "                              (NP\n",
      "                                (NP (NN convention))\n",
      "                                (PP (IN of)\n",
      "                                  (NP\n",
      "                                    (NP (DT The) (NNP Hague))\n",
      "                                    (, ,)\n",
      "                                    (NP (NNP October) (CD 18) (, ,)\n",
      "                                      (NP (CD 1907)\n",
      "                                        (CC and)\n",
      "                                        (PP (IN of)\n",
      "                                          (NP (NNP London)))))\n",
      "                                    (, ,)))))))\n",
      "                        (NP (NNP February) (CD 26) (, ,)\n",
      "                          (NP (CD 1909)))))))))))))\n",
      "    (. .)))\n",
      "</Parse>\n",
      "\n",
      "</Sentence>\n",
      "\n",
      "<Sentence date = \"20201019\" id = \"310043_6\" source = \"Taft\" sentence = \"TRUE\">\n",
      "<Text>\n",
      "Penfield\n",
      "</Text>\n",
      "<Parse>\n",
      "(ROOT\n",
      "  (NP (NNP Penfield)))\n",
      "</Parse>\n",
      "\n",
      "</Sentence>\n",
      "\n",
      "</Sentences>\n"
     ]
    }
   ],
   "source": [
    "# Load a document\n",
    "df = pd.read_csv('Raw Data/Combined Data/taft_df.csv').iloc[:, 1:]\n",
    "doc = df.iloc[2]\n",
    "\n",
    "# Parse document and get XML output\n",
    "%time xml = create_xml(doc)\n",
    "\n",
    "# Save output\n",
    "with open(\"parsed/test.xml\", \"w\") as f:\n",
    "    f.write(xml)\n",
    "\n",
    "# Print XML\n",
    "print(xml)"
   ]
  },
  {
   "cell_type": "code",
   "execution_count": null,
   "metadata": {
    "colab": {
     "base_uri": "https://localhost:8080/",
     "height": 347
    },
    "id": "4uawws1gpaJc",
    "outputId": "04bc4163-21d9-46df-ac7f-b46fa3eb8716"
   },
   "outputs": [
    {
     "name": "stdout",
     "output_type": "stream",
     "text": [
      "end <Element 'Text' at 0x7f76bf679ef8>\n",
      "end <Element 'Parse' at 0x7f76bf679f98>\n",
      "end <Element 'Sentence' at 0x7f76bf7faea8>\n",
      "end <Element 'Text' at 0x7f76bf683188>\n",
      "end <Element 'Parse' at 0x7f76bf6830e8>\n",
      "end <Element 'Sentence' at 0x7f76bf683138>\n",
      "end <Element 'Text' at 0x7f76bf683368>\n",
      "end <Element 'Parse' at 0x7f76bf683458>\n",
      "end <Element 'Sentence' at 0x7f76bf683408>\n",
      "end <Element 'Text' at 0x7f76bf683b38>\n",
      "end <Element 'Parse' at 0x7f76bf683b88>\n",
      "end <Element 'Sentence' at 0x7f76bf683ae8>\n",
      "end <Element 'Text' at 0x7f76bf683db8>\n",
      "end <Element 'Parse' at 0x7f76bf683e08>\n",
      "end <Element 'Sentence' at 0x7f76bf683d68>\n",
      "end <Element 'Text' at 0x7f76bf7d9048>\n",
      "end <Element 'Parse' at 0x7f76bf7d9098>\n",
      "end <Element 'Sentence' at 0x7f76bf683f98>\n",
      "end <Element 'Sentences' at 0x7f76bf7fa818>\n"
     ]
    }
   ],
   "source": [
    "import xml.etree.ElementTree as ET\n",
    "\n",
    "path = 'test.xml'\n",
    "tree = ET.iterparse(path)\n",
    "for event, elem in tree:\n",
    "    print(event, elem)"
   ]
  },
  {
   "cell_type": "code",
   "execution_count": null,
   "metadata": {
    "colab": {
     "base_uri": "https://localhost:8080/",
     "height": 157
    },
    "id": "2NxPJrx3b6Xz",
    "outputId": "ea8cf617-0a32-413e-917d-9555ae70f9e6"
   },
   "outputs": [
    {
     "data": {
      "application/vnd.google.colaboratory.intrinsic+json": {
       "type": "string"
      },
      "text/plain": [
       "'The Ambassador in France ( Herrick ) to the Secretary of State American Embassy , Paris , July 28, 1914, 4 p.m. [ Received 7:30 p.m. ] [Telegram] To be communicated to the President: Situation in Europe is regarded here as the gravest in history. It is apprehended that civilization is threatened by demoralization which would follow a general conflagration. Demonstrations made against war here last night by laboring classes; it is said to be the first instance of its kind in France. It is felt that if Germany once mobilizes no backward step will be taken. France has strong reliance on her army but it is not giving way to undue excitement. There is faith and reliance on our high ideals and purposes, so that I believe expression from our nation would have great weight in this crisis. My opinion is encouraged at reception given utterances of British Minister for Foreign Affairs. I believe that a strong plea for delay and moderation from the President of the United States would meet with the respect and approval of Europe and  urge the prompt consideration of this question. This suggestion is consistent with our plea for arbitration treaties and attitude toward world affairs generally. I would not appear officious but deem it my duty to make this expression to you. Herrick'"
      ]
     },
     "execution_count": 80,
     "metadata": {
      "tags": []
     },
     "output_type": "execute_result"
    }
   ],
   "source": [
    "df.iloc[0].text"
   ]
  },
  {
   "cell_type": "code",
   "execution_count": null,
   "metadata": {
    "id": "sjrszG8vr_Vv"
   },
   "outputs": [],
   "source": []
  },
  {
   "cell_type": "markdown",
   "metadata": {
    "id": "F63x1yHJc2KF"
   },
   "source": [
    "# Lambda process texts"
   ]
  },
  {
   "cell_type": "code",
   "execution_count": null,
   "metadata": {
    "colab": {
     "base_uri": "https://localhost:8080/",
     "height": 35
    },
    "id": "6A_Ut8CtKNTf",
    "outputId": "e9c6abda-a899-42a0-cd31-0dfbe79aad2c"
   },
   "outputs": [
    {
     "name": "stdout",
     "output_type": "stream",
     "text": [
      "/content/drive/.shortcut-targets-by-id/119/FRUS\n"
     ]
    }
   ],
   "source": [
    "cd ../.."
   ]
  },
  {
   "cell_type": "markdown",
   "metadata": {
    "id": "TcyxnBCrMxsG"
   },
   "source": [
    "## Send documents to SQS"
   ]
  },
  {
   "cell_type": "code",
   "execution_count": null,
   "metadata": {
    "colab": {
     "base_uri": "https://localhost:8080/"
    },
    "id": "8udYP3kL7zqH",
    "outputId": "1202569f-e671-4143-ba59-5a93ced73d6e"
   },
   "outputs": [
    {
     "name": "stdout",
     "output_type": "stream",
     "text": [
      " all_presidents_df.csv       \u001b[0m\u001b[01;34m'Old Versions'\u001b[0m/   TaftFormatted.csv\n",
      " AllPresidentsFormatted.csv   taft_df.csv\n"
     ]
    }
   ],
   "source": [
    "ls \"Raw Data/Combined Data/all_presidents_df.csv\""
   ]
  },
  {
   "cell_type": "markdown",
   "metadata": {
    "id": "ZgkzhGCv_60x"
   },
   "source": [
    "Load all documents"
   ]
  },
  {
   "cell_type": "code",
   "execution_count": null,
   "metadata": {
    "colab": {
     "base_uri": "https://localhost:8080/",
     "height": 445
    },
    "id": "4_DBlZWk7kVK",
    "outputId": "ea78351a-ec15-4414-9274-b5b423e41d14"
   },
   "outputs": [
    {
     "data": {
      "text/html": [
       "<div>\n",
       "<style scoped>\n",
       "    .dataframe tbody tr th:only-of-type {\n",
       "        vertical-align: middle;\n",
       "    }\n",
       "\n",
       "    .dataframe tbody tr th {\n",
       "        vertical-align: top;\n",
       "    }\n",
       "\n",
       "    .dataframe thead th {\n",
       "        text-align: right;\n",
       "    }\n",
       "</style>\n",
       "<table border=\"1\" class=\"dataframe\">\n",
       "  <thead>\n",
       "    <tr style=\"text-align: right;\">\n",
       "      <th></th>\n",
       "      <th>id</th>\n",
       "      <th>text</th>\n",
       "      <th>title</th>\n",
       "      <th>url</th>\n",
       "      <th>date</th>\n",
       "      <th>website</th>\n",
       "      <th>language</th>\n",
       "      <th>decade</th>\n",
       "      <th>num_words</th>\n",
       "      <th>num_capitalized_words</th>\n",
       "      <th>perc_capitalized_words</th>\n",
       "      <th>batch</th>\n",
       "    </tr>\n",
       "  </thead>\n",
       "  <tbody>\n",
       "    <tr>\n",
       "      <th>0</th>\n",
       "      <td>1</td>\n",
       "      <td>Memorandum of Conversation, by the Officer in ...</td>\n",
       "      <td>[1] Memorandum of Conversation, by the Officer...</td>\n",
       "      <td>1</td>\n",
       "      <td>1952-02-20</td>\n",
       "      <td>Truman</td>\n",
       "      <td>English</td>\n",
       "      <td>1950</td>\n",
       "      <td>1232</td>\n",
       "      <td>186</td>\n",
       "      <td>0.150974</td>\n",
       "      <td>0</td>\n",
       "    </tr>\n",
       "    <tr>\n",
       "      <th>1</th>\n",
       "      <td>2</td>\n",
       "      <td>The Ambassador in the Union of South Africa ( ...</td>\n",
       "      <td>[2] The Ambassador in the Union of South Afric...</td>\n",
       "      <td>2</td>\n",
       "      <td>1952-03-14</td>\n",
       "      <td>Truman</td>\n",
       "      <td>English</td>\n",
       "      <td>1950</td>\n",
       "      <td>1152</td>\n",
       "      <td>202</td>\n",
       "      <td>0.175347</td>\n",
       "      <td>1</td>\n",
       "    </tr>\n",
       "    <tr>\n",
       "      <th>2</th>\n",
       "      <td>3</td>\n",
       "      <td>The Consul General at Salisbury ( Sims ) to th...</td>\n",
       "      <td>[3] The Consul General at Salisbury ( Sims ) t...</td>\n",
       "      <td>3</td>\n",
       "      <td>1952-03-18</td>\n",
       "      <td>Truman</td>\n",
       "      <td>English</td>\n",
       "      <td>1950</td>\n",
       "      <td>2530</td>\n",
       "      <td>306</td>\n",
       "      <td>0.120949</td>\n",
       "      <td>2</td>\n",
       "    </tr>\n",
       "    <tr>\n",
       "      <th>3</th>\n",
       "      <td>4</td>\n",
       "      <td>The Ambassador in Liberia ( Dudley ) to the De...</td>\n",
       "      <td>[4] The Ambassador in Liberia ( Dudley ) to th...</td>\n",
       "      <td>4</td>\n",
       "      <td>1952-01-03</td>\n",
       "      <td>Truman</td>\n",
       "      <td>English</td>\n",
       "      <td>1950</td>\n",
       "      <td>3782</td>\n",
       "      <td>411</td>\n",
       "      <td>0.108673</td>\n",
       "      <td>3</td>\n",
       "    </tr>\n",
       "    <tr>\n",
       "      <th>4</th>\n",
       "      <td>5</td>\n",
       "      <td>The Consul General at Salisbury ( Sims ) to th...</td>\n",
       "      <td>[5] The Consul General at Salisbury ( Sims ) t...</td>\n",
       "      <td>5</td>\n",
       "      <td>1952-06-16</td>\n",
       "      <td>Truman</td>\n",
       "      <td>English</td>\n",
       "      <td>1950</td>\n",
       "      <td>459</td>\n",
       "      <td>55</td>\n",
       "      <td>0.119826</td>\n",
       "      <td>4</td>\n",
       "    </tr>\n",
       "  </tbody>\n",
       "</table>\n",
       "</div>"
      ],
      "text/plain": [
       "   id  ... batch\n",
       "0   1  ...     0\n",
       "1   2  ...     1\n",
       "2   3  ...     2\n",
       "3   4  ...     3\n",
       "4   5  ...     4\n",
       "\n",
       "[5 rows x 12 columns]"
      ]
     },
     "execution_count": 7,
     "metadata": {
      "tags": []
     },
     "output_type": "execute_result"
    }
   ],
   "source": [
    "all_presidents = pd.read_csv(\"Raw Data/Combined Data/all_presidents_df.csv\").iloc[:, 1:]\n",
    "all_presidents.head()"
   ]
  },
  {
   "cell_type": "markdown",
   "metadata": {
    "id": "_EW6d5Io_9V-"
   },
   "source": [
    "Select only the documents from President Kennedy"
   ]
  },
  {
   "cell_type": "code",
   "execution_count": null,
   "metadata": {
    "colab": {
     "base_uri": "https://localhost:8080/",
     "height": 673
    },
    "id": "EZhpm0U67kpZ",
    "outputId": "283717ae-3a15-4d76-d4ac-e118f12e1ca8"
   },
   "outputs": [
    {
     "name": "stdout",
     "output_type": "stream",
     "text": [
      "(29610, 12)\n"
     ]
    },
    {
     "data": {
      "text/html": [
       "<div>\n",
       "<style scoped>\n",
       "    .dataframe tbody tr th:only-of-type {\n",
       "        vertical-align: middle;\n",
       "    }\n",
       "\n",
       "    .dataframe tbody tr th {\n",
       "        vertical-align: top;\n",
       "    }\n",
       "\n",
       "    .dataframe thead th {\n",
       "        text-align: right;\n",
       "    }\n",
       "</style>\n",
       "<table border=\"1\" class=\"dataframe\">\n",
       "  <thead>\n",
       "    <tr style=\"text-align: right;\">\n",
       "      <th></th>\n",
       "      <th>id</th>\n",
       "      <th>text</th>\n",
       "      <th>title</th>\n",
       "      <th>url</th>\n",
       "      <th>date</th>\n",
       "      <th>website</th>\n",
       "      <th>language</th>\n",
       "      <th>decade</th>\n",
       "      <th>num_words</th>\n",
       "      <th>num_capitalized_words</th>\n",
       "      <th>perc_capitalized_words</th>\n",
       "      <th>batch</th>\n",
       "    </tr>\n",
       "  </thead>\n",
       "  <tbody>\n",
       "    <tr>\n",
       "      <th>298499</th>\n",
       "      <td>540818</td>\n",
       "      <td>32. Memorandum of Conversation Washington , Ja...</td>\n",
       "      <td>32. Memorandum of Conversation</td>\n",
       "      <td>540818</td>\n",
       "      <td>1965-01-22</td>\n",
       "      <td>Johnson</td>\n",
       "      <td>English</td>\n",
       "      <td>1960</td>\n",
       "      <td>27</td>\n",
       "      <td>8</td>\n",
       "      <td>0.296296</td>\n",
       "      <td>49</td>\n",
       "    </tr>\n",
       "    <tr>\n",
       "      <th>322958</th>\n",
       "      <td>177074</td>\n",
       "      <td>220. Telegram From the Central Intelligence Ag...</td>\n",
       "      <td>220. Telegram From the Central Intelligence Ag...</td>\n",
       "      <td>177074</td>\n",
       "      <td>1972-03-03</td>\n",
       "      <td>Nixon-Ford</td>\n",
       "      <td>English</td>\n",
       "      <td>1970</td>\n",
       "      <td>27</td>\n",
       "      <td>13</td>\n",
       "      <td>0.481481</td>\n",
       "      <td>8</td>\n",
       "    </tr>\n",
       "    <tr>\n",
       "      <th>322931</th>\n",
       "      <td>176804</td>\n",
       "      <td>190. Telegram From the Central Intelligence Ag...</td>\n",
       "      <td>190. Telegram From the Central Intelligence Ag...</td>\n",
       "      <td>176804</td>\n",
       "      <td>1970-02-10</td>\n",
       "      <td>Nixon-Ford</td>\n",
       "      <td>English</td>\n",
       "      <td>1970</td>\n",
       "      <td>28</td>\n",
       "      <td>15</td>\n",
       "      <td>0.535714</td>\n",
       "      <td>31</td>\n",
       "    </tr>\n",
       "    <tr>\n",
       "      <th>322942</th>\n",
       "      <td>1769110</td>\n",
       "      <td>201. Telegram From the Central Intelligence Ag...</td>\n",
       "      <td>201. Telegram From the Central Intelligence Ag...</td>\n",
       "      <td>1769110</td>\n",
       "      <td>1970-12-04</td>\n",
       "      <td>Nixon-Ford</td>\n",
       "      <td>English</td>\n",
       "      <td>1970</td>\n",
       "      <td>29</td>\n",
       "      <td>14</td>\n",
       "      <td>0.482759</td>\n",
       "      <td>42</td>\n",
       "    </tr>\n",
       "    <tr>\n",
       "      <th>298496</th>\n",
       "      <td>540518</td>\n",
       "      <td>29. Memorandum of Conversation Washington , Ja...</td>\n",
       "      <td>29. Memorandum of Conversation</td>\n",
       "      <td>540518</td>\n",
       "      <td>1965-01-19</td>\n",
       "      <td>Johnson</td>\n",
       "      <td>English</td>\n",
       "      <td>1960</td>\n",
       "      <td>29</td>\n",
       "      <td>10</td>\n",
       "      <td>0.344828</td>\n",
       "      <td>46</td>\n",
       "    </tr>\n",
       "  </tbody>\n",
       "</table>\n",
       "</div>"
      ],
      "text/plain": [
       "             id  ... batch\n",
       "298499   540818  ...    49\n",
       "322958   177074  ...     8\n",
       "322931   176804  ...    31\n",
       "322942  1769110  ...    42\n",
       "298496   540518  ...    46\n",
       "\n",
       "[5 rows x 12 columns]"
      ]
     },
     "execution_count": 63,
     "metadata": {
      "tags": []
     },
     "output_type": "execute_result"
    }
   ],
   "source": [
    "president_list = [\"Johnson\", \"Nixon-Ford\"]\n",
    "sub = all_presidents[all_presidents.website.isin(president_list)].sort_values(by=\"num_words\")\n",
    "print(sub.shape)\n",
    "sub.head()"
   ]
  },
  {
   "cell_type": "code",
   "execution_count": null,
   "metadata": {
    "colab": {
     "base_uri": "https://localhost:8080/"
    },
    "id": "WII5bX_D7kio",
    "outputId": "dd6aecfc-199e-413e-fcc9-8c68e3c5e616"
   },
   "outputs": [
    {
     "name": "stdout",
     "output_type": "stream",
     "text": [
      "Sending document 1,000/29,610\n",
      "Sending document 2,000/29,610\n",
      "Sending document 3,000/29,610\n",
      "Sending document 4,000/29,610\n",
      "Sending document 5,000/29,610\n",
      "Sending document 6,000/29,610\n",
      "Sending document 7,000/29,610\n",
      "Sending document 8,000/29,610\n",
      "Sending document 9,000/29,610\n",
      "Sending document 10,000/29,610\n",
      "Sending document 11,000/29,610\n",
      "Sending document 12,000/29,610\n",
      "Sending document 13,000/29,610\n",
      "Sending document 14,000/29,610\n",
      "Sending document 15,000/29,610\n",
      "Sending document 16,000/29,610\n",
      "Sending document 17,000/29,610\n",
      "Sending document 18,000/29,610\n",
      "Sending document 19,000/29,610\n",
      "Sending document 20,000/29,610\n",
      "Sending document 21,000/29,610\n",
      "Sending document 22,000/29,610\n",
      "Sending document 23,000/29,610\n",
      "Sending document 24,000/29,610\n",
      "Sending document 25,000/29,610\n",
      "Sending document 26,000/29,610\n",
      "Sending document 27,000/29,610\n",
      "Sending document 28,000/29,610\n",
      "Sending document 29,000/29,610\n",
      "Done\n"
     ]
    }
   ],
   "source": [
    "# Loop over every document in the subset\n",
    "for i in range(sub.shape[0]):\n",
    "    # Print out updates every 1,000 documents\n",
    "    if not (i+1) % 1000: print(\"Sending document {:,}/{:,}\".format(i+1, sub.shape[0]))\n",
    "\n",
    "    # Select the document\n",
    "    doc = sub.iloc[i]\n",
    "\n",
    "    # Send the document to SQS\n",
    "    response = sqs.send_message(\n",
    "        QueueUrl = queue_url,\n",
    "        MessageBody = doc.to_json()\n",
    "        )\n",
    "    \n",
    "    # Check that the document was sent successfully\n",
    "    if response[\"ResponseMetadata\"][\"HTTPStatusCode\"] != 200:\n",
    "        print(\"Error sending document {}\".format(doc.id))\n",
    "\n",
    "print(\"Done\")"
   ]
  },
  {
   "cell_type": "markdown",
   "metadata": {
    "id": "vvsFX-EU_yoI"
   },
   "source": [
    "## Download document from SQS"
   ]
  },
  {
   "cell_type": "code",
   "execution_count": null,
   "metadata": {
    "colab": {
     "base_uri": "https://localhost:8080/"
    },
    "id": "Ip68dZfnRx0J",
    "outputId": "d7c2ef26-60a6-451d-b4c8-c657970620d8"
   },
   "outputs": [
    {
     "data": {
      "text/plain": [
       "{'Messages': [{'Attributes': {'ApproximateFirstReceiveTimestamp': '1605732774212',\n",
       "    'ApproximateReceiveCount': '1',\n",
       "    'SenderId': 'AIDAZQVU4EXF2VQFAMFUP',\n",
       "    'SentTimestamp': '1605730834136'},\n",
       "   'Body': '{\"id\":210005,\"text\":\"2. Memorandum From the Deputy Assistant Secretary of State for African Affairs ( Fredericks ) to Secretary of State Rusk 0 Washington , August 11, 1961 . SUBJECT Regional Conference\\\\u2014Nicosia 1 Although Governor Williams on his return will no doubt wish to report personally on the views of our ambassadors to Northern African countries expressed during the Nicosia conference, I believe that meanwhile you will find of great interest the records of that conference here attached. One is in the form of a signed memorandum from the ambassadors to Governor Williams highlighting the main points which they wished to have emphasized for the Department\\'s benefit. The other is a summary of the discussions during the conference. 2 I would like to call your attention to the following points in particular: 1. The consensus of the conference was that the AFN countries are not irrevocably committed to the Soviet bloc nor are they safely aligned with the Free World. 2. The two major motivations in the area are nationalism and the demand of the people for a better life. When a choice has to be made between what is economically rational and politically expedient, we must expect that nationalism will cause political expediency to win out every time. 3. Although all of the ambassadors applauded the criteria for economic development assistance in the new AID program, it was the general view that in this area as a whole the outlook is bleak for the states concerned to meet the self-help criteria. At the same time, AID remains vital for political reasons, and, where we have military bases, for that reason as well. 4. The maintenance of U.S. military bases in the AFN area is contrary to the tide of nationalism sweeping through those countries. Nevertheless, so far as the existing bases in the area have been given renewed strategic  importance, we must presumably face the political and economic disadvantages of holding on to them. This may require our giving further economic and military assistance, or in due course altering our agreements to make them less offensive to the nationalistic sensibilities. 5. The Bizerte crisis 3 was a major misfortune for our relations with Tunisia and may necessitate a profound revision of our policies in North Africa. The Bizerte crisis has made King Hassan II of Morocco apprehensive of our reaction in the event that Morocco has trouble with Spain. 6. While the countries concerned, many with authoritarian regimes and most with low standards of living, were admittedly highly vulnerable to Communist penetration, the consensus of the ambassadors was that the bloc had not registered significant success. The danger was an increasing one, however. The ambassadors from the countries surrounding the UAR (Sudan, Libya, and Somalia in particular) felt that Egyptian propaganda at the present time was more effective and therefore more dangerous to the West than that from the Communists. 7. There was a unanimous and strong feeling that the ambassadors were asked to make too many demarches to local foreign ministries on behalf of international issues in which the U.S. has an interest for such demarches to be effective. It was suggested that the principal effort should be made in the U.N. (for U.N. issues) rather than in foreign capitals, that fewer approaches would be more effective than the numerous approaches which have hitherto been made, that arguments should be made shorter and simpler, and that more time should be allowed between the approach to the foreign government and the crucial vote. Source: Department of State, Central Files, 120.1480A\\\\/8-1161. Secret. Drafted by Root and sent through the Executive Secretariat. Copies were sent to Bowles , Ball , and Johnson. <U+21A9> The Regional Operations Conference held at Nicosia, Cyprus, July 31-August 4, 1961, was chaired by Under Secretary Chester Bowles and attended by the U.S. Chiefs of Mission from Aden, Cyprus, Ethiopia, Greece, Iran, Iraq, Israel, Jordan, Kuwait, Lebanon, Libya, Morocco, Saudi Arabia, Somalia, Sudan, Turkey, Tunisia, the United Arab Republic, and Yemen. <U+21A9> Attached to the source text but not printed. <U+21A9> See Documents 158 ff. <U+21A9>\",\"title\":\"2. Memorandum From the Deputy Assistant Secretary of State for African Affairs ( Fredericks ) to Secretary of State Rusk\",\"url\":210005,\"date\":\"1961-08-11\",\"website\":\"Kennedy\",\"language\":\"English\",\"decade\":1960,\"num_words\":678,\"num_capitalized_words\":93,\"perc_capitalized_words\":0.1371681416,\"batch\":18}',\n",
       "   'MD5OfBody': '2e2eeeceea24bdb7c67a770c0d8f8462',\n",
       "   'MessageId': '57f3aa4e-a8e2-4cb4-b37c-767da0b3a5ef',\n",
       "   'ReceiptHandle': 'AQEBuSZOO6sry28TJvY07fpm6qqACHAmkm2HGbHNh3/ufHg5KYTXj16iioOHQwNy+KcFb0vfJREAlny/6l6PACR7Rq+1gPSgDABIwV/rm5JxuWnei/gjJ+HOU/AwAppHiKH4WCHLNq16zU+GWOJ3egsrE5h8cTUfeyqpLXEaCf9ZTTnG4EoAtbhMNMPePRq7LF4W4/XSIhHSBWJu5TathRxQrgEyMqKUWtEST57RrQLcqLu2/oClUG4KC/uhizZ6jzFbaFrwOBnwL1Sb85yqtsilpyxpBfUvxqrX+WcVbpdwFD63I320XZHlOta8zxnSO2FxvrLanMWarXhxyevj9GQlI0qMm3H1gf1/ye/Ak7qBYPxBYjfk+8p6/Zft/WkmDyk2f3aAZz3yfcUDAoO8ps2P4w=='}],\n",
       " 'ResponseMetadata': {'HTTPHeaders': {'content-length': '5900',\n",
       "   'content-type': 'text/xml',\n",
       "   'date': 'Wed, 18 Nov 2020 20:52:54 GMT',\n",
       "   'x-amzn-requestid': 'd9f60093-28ad-5c35-bd4f-58bca34bdd56'},\n",
       "  'HTTPStatusCode': 200,\n",
       "  'RequestId': 'd9f60093-28ad-5c35-bd4f-58bca34bdd56',\n",
       "  'RetryAttempts': 0}}"
      ]
     },
     "execution_count": 106,
     "metadata": {
      "tags": []
     },
     "output_type": "execute_result"
    }
   ],
   "source": [
    "resp = sqs.receive_message(QueueUrl = queue_url, AttributeNames=['All'])\n",
    "resp"
   ]
  },
  {
   "cell_type": "code",
   "execution_count": null,
   "metadata": {
    "colab": {
     "base_uri": "https://localhost:8080/"
    },
    "id": "cVJG5vhNf0Z3",
    "outputId": "4ec7ce13-57c0-4d75-89f9-50d3d0add09b"
   },
   "outputs": [
    {
     "name": "stdout",
     "output_type": "stream",
     "text": [
      "{'id': 210005, 'text': \"2. Memorandum From the Deputy Assistant Secretary of State for African Affairs ( Fredericks ) to Secretary of State Rusk 0 Washington , August 11, 1961 . SUBJECT Regional Conference—Nicosia 1 Although Governor Williams on his return will no doubt wish to report personally on the views of our ambassadors to Northern African countries expressed during the Nicosia conference, I believe that meanwhile you will find of great interest the records of that conference here attached. One is in the form of a signed memorandum from the ambassadors to Governor Williams highlighting the main points which they wished to have emphasized for the Department's benefit. The other is a summary of the discussions during the conference. 2 I would like to call your attention to the following points in particular: 1. The consensus of the conference was that the AFN countries are not irrevocably committed to the Soviet bloc nor are they safely aligned with the Free World. 2. The two major motivations in the area are nationalism and the demand of the people for a better life. When a choice has to be made between what is economically rational and politically expedient, we must expect that nationalism will cause political expediency to win out every time. 3. Although all of the ambassadors applauded the criteria for economic development assistance in the new AID program, it was the general view that in this area as a whole the outlook is bleak for the states concerned to meet the self-help criteria. At the same time, AID remains vital for political reasons, and, where we have military bases, for that reason as well. 4. The maintenance of U.S. military bases in the AFN area is contrary to the tide of nationalism sweeping through those countries. Nevertheless, so far as the existing bases in the area have been given renewed strategic  importance, we must presumably face the political and economic disadvantages of holding on to them. This may require our giving further economic and military assistance, or in due course altering our agreements to make them less offensive to the nationalistic sensibilities. 5. The Bizerte crisis 3 was a major misfortune for our relations with Tunisia and may necessitate a profound revision of our policies in North Africa. The Bizerte crisis has made King Hassan II of Morocco apprehensive of our reaction in the event that Morocco has trouble with Spain. 6. While the countries concerned, many with authoritarian regimes and most with low standards of living, were admittedly highly vulnerable to Communist penetration, the consensus of the ambassadors was that the bloc had not registered significant success. The danger was an increasing one, however. The ambassadors from the countries surrounding the UAR (Sudan, Libya, and Somalia in particular) felt that Egyptian propaganda at the present time was more effective and therefore more dangerous to the West than that from the Communists. 7. There was a unanimous and strong feeling that the ambassadors were asked to make too many demarches to local foreign ministries on behalf of international issues in which the U.S. has an interest for such demarches to be effective. It was suggested that the principal effort should be made in the U.N. (for U.N. issues) rather than in foreign capitals, that fewer approaches would be more effective than the numerous approaches which have hitherto been made, that arguments should be made shorter and simpler, and that more time should be allowed between the approach to the foreign government and the crucial vote. Source: Department of State, Central Files, 120.1480A/8-1161. Secret. Drafted by Root and sent through the Executive Secretariat. Copies were sent to Bowles , Ball , and Johnson. <U+21A9> The Regional Operations Conference held at Nicosia, Cyprus, July 31-August 4, 1961, was chaired by Under Secretary Chester Bowles and attended by the U.S. Chiefs of Mission from Aden, Cyprus, Ethiopia, Greece, Iran, Iraq, Israel, Jordan, Kuwait, Lebanon, Libya, Morocco, Saudi Arabia, Somalia, Sudan, Turkey, Tunisia, the United Arab Republic, and Yemen. <U+21A9> Attached to the source text but not printed. <U+21A9> See Documents 158 ff. <U+21A9>\", 'title': '2. Memorandum From the Deputy Assistant Secretary of State for African Affairs ( Fredericks ) to Secretary of State Rusk', 'url': 210005, 'date': '1961-08-11', 'website': 'Kennedy', 'language': 'English', 'decade': 1960, 'num_words': 678, 'num_capitalized_words': 93, 'perc_capitalized_words': 0.1371681416, 'batch': 18}\n"
     ]
    }
   ],
   "source": [
    "doc = json.loads(resp[\"Messages\"][0][\"Body\"])\n",
    "msg_receipt = resp[\"Messages\"][0][\"ReceiptHandle\"]\n",
    "print(doc)"
   ]
  },
  {
   "cell_type": "code",
   "execution_count": null,
   "metadata": {
    "id": "gcbhQiyKGbD-"
   },
   "outputs": [],
   "source": [
    "def parse_doc(doc):\n",
    "    \n",
    "    # Extract document information\n",
    "    doc_id = doc[\"id\"]\n",
    "    text = doc[\"text\"]\n",
    "    title = doc[\"title\"]\n",
    "    url = doc[\"url\"]\n",
    "    decade = doc[\"decade\"]\n",
    "    date = doc[\"date\"]\n",
    "    president = doc[\"website\"]\n",
    "\n",
    "    # Only keep the first 3,000 words\n",
    "    if doc[\"num_words\"] > 3000:\n",
    "        text = ' '.join(text.split(' ')[:3000])\n",
    "\n",
    "    try:\n",
    "        # Parse document text\n",
    "        parsed = nlp(text)\n",
    "        \n",
    "        # Isolate sentence results and dependency strings\n",
    "        parse_results = [sentence.to_dict() for sentence in parsed.sentences]\n",
    "        dep_strs = [sentence.dependencies_string() for sentence in parsed.sentences]\n",
    "    \n",
    "    \n",
    "        # Construct message\n",
    "        message = {\n",
    "            \"id\": doc_id,\n",
    "            \"text\": text,\n",
    "            \"title\": title,\n",
    "            \"url\": url,\n",
    "            \"date\": date,\n",
    "            \"website\": president,\n",
    "            \n",
    "            \"parse_results\": json.dumps(parse_results),\n",
    "            \"dependency_strings\": json.dumps(dep_strs),\n",
    "        }\n",
    "\n",
    "        # Create S3 key\n",
    "        key = \"parsed/{}/{}/{}.json\".format(president, decade, doc_id)\n",
    "        \n",
    "        return message, key\n",
    "        \n",
    "    # Handle any exceptions thrown during processing\n",
    "    except:\n",
    "        return 'error', None"
   ]
  },
  {
   "cell_type": "code",
   "execution_count": null,
   "metadata": {
    "colab": {
     "base_uri": "https://localhost:8080/",
     "height": 35
    },
    "id": "JIchkR3gGbPA",
    "outputId": "97234328-9fd8-44ba-aa9d-61ebb9666db3"
   },
   "outputs": [
    {
     "data": {
      "application/vnd.google.colaboratory.intrinsic+json": {
       "type": "string"
      },
      "text/plain": [
       "'parsed/Kennedy/1960/210005.json'"
      ]
     },
     "execution_count": 113,
     "metadata": {
      "tags": []
     },
     "output_type": "execute_result"
    }
   ],
   "source": [
    "message, key = parse_doc(doc)\n",
    "key"
   ]
  },
  {
   "cell_type": "code",
   "execution_count": null,
   "metadata": {
    "colab": {
     "base_uri": "https://localhost:8080/"
    },
    "id": "Gydz3GqOH7qz",
    "outputId": "6f010fc9-80e4-495a-e5f0-7093e64f79bf"
   },
   "outputs": [
    {
     "data": {
      "text/plain": [
       "{'ETag': '\"efcf73f12eeb04e997871e06ac63dded\"',\n",
       " 'ResponseMetadata': {'HTTPHeaders': {'content-length': '0',\n",
       "   'date': 'Wed, 18 Nov 2020 20:55:11 GMT',\n",
       "   'etag': '\"efcf73f12eeb04e997871e06ac63dded\"',\n",
       "   'server': 'AmazonS3',\n",
       "   'x-amz-id-2': 'rld/iYMTxTZodgLZYUPndl8+dlWaIE+QaPIq3BA8gkTiUikG3RmpdjMFBoMJ6pqeE4LlEA/2cv4=',\n",
       "   'x-amz-request-id': 'E29F619CCBA820B0'},\n",
       "  'HTTPStatusCode': 200,\n",
       "  'HostId': 'rld/iYMTxTZodgLZYUPndl8+dlWaIE+QaPIq3BA8gkTiUikG3RmpdjMFBoMJ6pqeE4LlEA/2cv4=',\n",
       "  'RequestId': 'E29F619CCBA820B0',\n",
       "  'RetryAttempts': 0}}"
      ]
     },
     "execution_count": 114,
     "metadata": {
      "tags": []
     },
     "output_type": "execute_result"
    }
   ],
   "source": [
    "# Save output to s3\n",
    "s3_resp = s3.put_object(\n",
    "    Body=json.dumps(message),\n",
    "    Bucket=bucket,\n",
    "    Key=key\n",
    "    )\n",
    "\n",
    "if s3_resp[\"ResponseMetadata\"][\"HTTPStatusCode\"] != 200:\n",
    "    print(\"Error saving document {}\".format(doc.id))\n",
    "else:\n",
    "    print(\"Saved to s3 successfully.\")"
   ]
  },
  {
   "cell_type": "code",
   "execution_count": null,
   "metadata": {
    "colab": {
     "base_uri": "https://localhost:8080/"
    },
    "id": "-Qa9IdsuQpDO",
    "outputId": "268f2857-be73-4562-e6a5-42bf6c310e3e"
   },
   "outputs": [
    {
     "name": "stdout",
     "output_type": "stream",
     "text": [
      "Removed from SQS successfully.\n"
     ]
    }
   ],
   "source": [
    "# Delete document from SQS\n",
    "del_resp = sqs.delete_message(\n",
    "    QueueUrl = queue_url,\n",
    "    ReceiptHandle = msg_receipt\n",
    ")\n",
    "\n",
    "if del_resp[\"ResponseMetadata\"][\"HTTPStatusCode\"] != 200:\n",
    "    print(\"Error deleteing document {}\".format(doc.id))\n",
    "else:\n",
    "    print(\"Removed from SQS successfully.\")"
   ]
  },
  {
   "cell_type": "markdown",
   "metadata": {
    "id": "m3k_dBlhuCUo"
   },
   "source": [
    "## Invoke Asynchronous Lambdas"
   ]
  },
  {
   "cell_type": "code",
   "execution_count": null,
   "metadata": {
    "colab": {
     "base_uri": "https://localhost:8080/"
    },
    "id": "uQDjAPojBJxK",
    "outputId": "210fbbad-dd6b-43fb-8aee-526a40084513"
   },
   "outputs": [
    {
     "name": "stdout",
     "output_type": "stream",
     "text": [
      "10 lambda functions invoked.\n",
      "Done.\n"
     ]
    }
   ],
   "source": [
    "VERSION = 32\n",
    "NUM_PROVISIONED = 10\n",
    "\n",
    "if True:\n",
    "        \n",
    "    for i in range(NUM_PROVISIONED):\n",
    "\n",
    "        # Invoke Lambda function if it parsing is not yet complete\n",
    "        lambda_client.invoke(\n",
    "            FunctionName='arn:aws:lambda:us-east-1:654288102859:function:frus-dev-parse:{}'.format(VERSION),\n",
    "            LogType='None',\n",
    "            Payload=json.dumps({}),\n",
    "            InvocationType='Event'\n",
    "        )\n",
    "    \n",
    "    print(\"{} lambda functions invoked.\".format(i+1))\n",
    "    last_time = time.time()\n",
    "    last_time_str = time.ctime()\n",
    "print(\"Done.\")"
   ]
  },
  {
   "cell_type": "code",
   "execution_count": null,
   "metadata": {
    "colab": {
     "base_uri": "https://localhost:8080/"
    },
    "id": "GREQWkIguRfW",
    "outputId": "6e268345-8d6c-4a0c-cb58-326c366dda9d"
   },
   "outputs": [
    {
     "name": "stdout",
     "output_type": "stream",
     "text": [
      "It has been 7min 13s since invoking the Lambda functions.\n"
     ]
    }
   ],
   "source": [
    "print(\"It has been {1:.0f}min {0:.0f}s since invoking the Lambda functions.\".format((time.time() - last_time) % 60, (time.time() - last_time) // 60))"
   ]
  },
  {
   "cell_type": "code",
   "execution_count": null,
   "metadata": {
    "colab": {
     "base_uri": "https://localhost:8080/"
    },
    "id": "UzaUhpbt-__W",
    "outputId": "ee40347d-99b5-4c00-d9cd-4f56b88b7d3a"
   },
   "outputs": [
    {
     "name": "stdout",
     "output_type": "stream",
     "text": [
      "The last batch of Lambda functions were invoked at Fri Nov 27 19:47:56 2020\n"
     ]
    }
   ],
   "source": [
    "print(\"The last batch of Lambda functions were invoked at {}\".format(last_time_str))"
   ]
  },
  {
   "cell_type": "code",
   "execution_count": null,
   "metadata": {
    "id": "gg4p_1yhQCwK"
   },
   "outputs": [],
   "source": [
    "docs_deleted = 0\n",
    "for i in range(100):\n",
    "    # Fetch document from SQS\n",
    "    resp = sqs.receive_message(QueueUrl=queue_url, AttributeNames=['All'])\n",
    "    doc = json.loads(resp[\"Messages\"][0][\"Body\"])\n",
    "    msg_receipt = resp[\"Messages\"][0][\"ReceiptHandle\"]\n",
    "\n",
    "    if doc[\"website\"] == \"Kennedy\":\n",
    "        print(\"Removing doc {}... ({} total)\".format(doc[\"id\"], docs_deleted))\n",
    "        docs_deleted += 1\n",
    "        del_resp = sqs.delete_message(\n",
    "                    QueueUrl = queue_url,\n",
    "                    ReceiptHandle = msg_receipt\n",
    "                )\n",
    "    else:\n",
    "        continue"
   ]
  },
  {
   "cell_type": "markdown",
   "metadata": {
    "id": "JgZTXtV-R9FC"
   },
   "source": [
    "# Lambda function"
   ]
  },
  {
   "cell_type": "code",
   "execution_count": 6,
   "metadata": {
    "colab": {
     "base_uri": "https://localhost:8080/"
    },
    "id": "yXGfRu0JSC3p",
    "outputId": "9ba6d50a-c7cf-4b42-a9e1-b4d5701e61e1"
   },
   "outputs": [
    {
     "name": "stdout",
     "output_type": "stream",
     "text": [
      "Mounted.\n",
      "Imported.\n",
      "Keys loaded.\n",
      "s3 and sqs connected.\n"
     ]
    }
   ],
   "source": [
    "import os, sys\n",
    "sys.path.insert(1, '/mnt/efs/')\n",
    "print(\"Mounted.\")\n",
    "\n",
    "# import pandas as pd\n",
    "# pd.read_excel(\"https://github.com/DesiPilla/college-emails/blob/master/CollegeEmails.xlsx?raw=true\")\n",
    "# print(\"Connected to internet.\")\n",
    "\n",
    "import time\n",
    "\n",
    "import io\n",
    "import re\n",
    "import json\n",
    "import boto3\n",
    "import psutil\n",
    "import logging\n",
    "import pandas as pd\n",
    "print(\"Imported.\")\n",
    "\n",
    "aws_id, aws_secret_key = pd.read_csv('DesiPilla_accessKeys.csv').values[0]\n",
    "print(\"Keys loaded.\")\n",
    "\n",
    "# bucket = os.environ[\"bucket\"]\n",
    "# queue_name = os.environ[\"queueName\"]\n",
    "# queue_url = os.environ[\"queueUrl\"]\n",
    "bucket = \"frus-corenlp\"\n",
    "queue_name = \"frus-unparsed\"\n",
    "queue_url = \"https://sqs.us-east-1.amazonaws.com/654288102859/frus-unparsed\"\n",
    "\n",
    "\n",
    "# s3 = boto3.client('s3')\n",
    "# s3_resource = boto3.resource('s3')\n",
    "s3 = boto3.client('s3', aws_access_key_id=aws_id, aws_secret_access_key=aws_secret_key, region_name='us-east-1')\n",
    "s3_resource = boto3.resource('s3', aws_access_key_id=aws_id, aws_secret_access_key=aws_secret_key, region_name='us-east-1')\n",
    "sqs = boto3.client('sqs', aws_access_key_id=aws_id, aws_secret_access_key=aws_secret_key, region_name='us-east-1')\n",
    "print(\"s3 and sqs connected.\")"
   ]
  },
  {
   "cell_type": "code",
   "execution_count": 8,
   "metadata": {
    "colab": {
     "base_uri": "https://localhost:8080/",
     "height": 921
    },
    "id": "n_KroVGlUKuS",
    "outputId": "8c2eb91f-b15f-4417-a362-0fd37a66b66e"
   },
   "outputs": [
    {
     "name": "stdout",
     "output_type": "stream",
     "text": [
      "Requirement already satisfied: stanza in c:\\users\\desid\\anaconda3\\lib\\site-packages (1.1.1)\n",
      "Requirement already satisfied: numpy in c:\\users\\desid\\anaconda3\\lib\\site-packages (from stanza) (1.17.5)\n",
      "Requirement already satisfied: tqdm in c:\\users\\desid\\anaconda3\\lib\\site-packages (from stanza) (4.47.0)\n",
      "Requirement already satisfied: torch>=1.3.0 in c:\\users\\desid\\anaconda3\\lib\\site-packages (from stanza) (1.6.0)\n",
      "Requirement already satisfied: requests in c:\\users\\desid\\anaconda3\\lib\\site-packages (from stanza) (2.21.0)\n",
      "Requirement already satisfied: protobuf in c:\\users\\desid\\anaconda3\\lib\\site-packages (from stanza) (3.13.0)\n",
      "Requirement already satisfied: future in c:\\users\\desid\\anaconda3\\lib\\site-packages (from torch>=1.3.0->stanza) (0.18.2)\n",
      "Requirement already satisfied: idna<2.9,>=2.5 in c:\\users\\desid\\anaconda3\\lib\\site-packages (from requests->stanza) (2.8)\n",
      "Requirement already satisfied: certifi>=2017.4.17 in c:\\users\\desid\\anaconda3\\lib\\site-packages (from requests->stanza) (2020.6.20)\n",
      "Requirement already satisfied: chardet<3.1.0,>=3.0.2 in c:\\users\\desid\\anaconda3\\lib\\site-packages (from requests->stanza) (3.0.4)\n",
      "Requirement already satisfied: urllib3<1.25,>=1.21.1 in c:\\users\\desid\\anaconda3\\lib\\site-packages (from requests->stanza) (1.24.3)\n",
      "Requirement already satisfied: setuptools in c:\\users\\desid\\anaconda3\\lib\\site-packages (from protobuf->stanza) (49.2.0.post20200714)\n",
      "Requirement already satisfied: six>=1.9 in c:\\users\\desid\\anaconda3\\lib\\site-packages (from protobuf->stanza) (1.12.0)\n"
     ]
    },
    {
     "ename": "Exception",
     "evalue": "Resources file not found at: C:\\Users\\desid\\stanza_resources\\resources.json. Try to download the model again.",
     "output_type": "error",
     "traceback": [
      "\u001b[1;31m---------------------------------------------------------------------------\u001b[0m",
      "\u001b[1;31mException\u001b[0m                                 Traceback (most recent call last)",
      "\u001b[1;32m<ipython-input-8-9ada7a30023d>\u001b[0m in \u001b[0;36m<module>\u001b[1;34m\u001b[0m\n\u001b[0;32m      2\u001b[0m \u001b[0mget_ipython\u001b[0m\u001b[1;33m(\u001b[0m\u001b[1;33m)\u001b[0m\u001b[1;33m.\u001b[0m\u001b[0msystem\u001b[0m\u001b[1;33m(\u001b[0m\u001b[1;34m'pip install stanza'\u001b[0m\u001b[1;33m)\u001b[0m\u001b[1;33m\u001b[0m\u001b[1;33m\u001b[0m\u001b[0m\n\u001b[0;32m      3\u001b[0m \u001b[1;32mimport\u001b[0m \u001b[0mstanza\u001b[0m\u001b[1;33m\u001b[0m\u001b[1;33m\u001b[0m\u001b[0m\n\u001b[1;32m----> 4\u001b[1;33m \u001b[0mnlp\u001b[0m \u001b[1;33m=\u001b[0m \u001b[0mstanza\u001b[0m\u001b[1;33m.\u001b[0m\u001b[0mPipeline\u001b[0m\u001b[1;33m(\u001b[0m\u001b[1;34m'en'\u001b[0m\u001b[1;33m,\u001b[0m \u001b[0mprocessors\u001b[0m\u001b[1;33m=\u001b[0m\u001b[1;34m\"tokenize, pos, lemma, ner, depparse\"\u001b[0m\u001b[1;33m)\u001b[0m\u001b[1;33m\u001b[0m\u001b[1;33m\u001b[0m\u001b[0m\n\u001b[0m\u001b[0;32m      5\u001b[0m \u001b[0mprint\u001b[0m\u001b[1;33m(\u001b[0m\u001b[1;34m\"CoreNLP loaded.\"\u001b[0m\u001b[1;33m)\u001b[0m\u001b[1;33m\u001b[0m\u001b[1;33m\u001b[0m\u001b[0m\n",
      "\u001b[1;32mc:\\users\\desid\\anaconda3\\lib\\site-packages\\stanza\\pipeline\\core.py\u001b[0m in \u001b[0;36m__init__\u001b[1;34m(self, lang, dir, package, processors, logging_level, verbose, use_gpu, **kwargs)\u001b[0m\n\u001b[0;32m     68\u001b[0m         \u001b[0mresources_filepath\u001b[0m \u001b[1;33m=\u001b[0m \u001b[0mos\u001b[0m\u001b[1;33m.\u001b[0m\u001b[0mpath\u001b[0m\u001b[1;33m.\u001b[0m\u001b[0mjoin\u001b[0m\u001b[1;33m(\u001b[0m\u001b[0mdir\u001b[0m\u001b[1;33m,\u001b[0m \u001b[1;34m'resources.json'\u001b[0m\u001b[1;33m)\u001b[0m\u001b[1;33m\u001b[0m\u001b[1;33m\u001b[0m\u001b[0m\n\u001b[0;32m     69\u001b[0m         \u001b[1;32mif\u001b[0m \u001b[1;32mnot\u001b[0m \u001b[0mos\u001b[0m\u001b[1;33m.\u001b[0m\u001b[0mpath\u001b[0m\u001b[1;33m.\u001b[0m\u001b[0mexists\u001b[0m\u001b[1;33m(\u001b[0m\u001b[0mresources_filepath\u001b[0m\u001b[1;33m)\u001b[0m\u001b[1;33m:\u001b[0m\u001b[1;33m\u001b[0m\u001b[1;33m\u001b[0m\u001b[0m\n\u001b[1;32m---> 70\u001b[1;33m             \u001b[1;32mraise\u001b[0m \u001b[0mException\u001b[0m\u001b[1;33m(\u001b[0m\u001b[1;34mf\"Resources file not found at: {resources_filepath}. Try to download the model again.\"\u001b[0m\u001b[1;33m)\u001b[0m\u001b[1;33m\u001b[0m\u001b[1;33m\u001b[0m\u001b[0m\n\u001b[0m\u001b[0;32m     71\u001b[0m         \u001b[1;32mwith\u001b[0m \u001b[0mopen\u001b[0m\u001b[1;33m(\u001b[0m\u001b[0mresources_filepath\u001b[0m\u001b[1;33m)\u001b[0m \u001b[1;32mas\u001b[0m \u001b[0minfile\u001b[0m\u001b[1;33m:\u001b[0m\u001b[1;33m\u001b[0m\u001b[1;33m\u001b[0m\u001b[0m\n\u001b[0;32m     72\u001b[0m             \u001b[0mresources\u001b[0m \u001b[1;33m=\u001b[0m \u001b[0mjson\u001b[0m\u001b[1;33m.\u001b[0m\u001b[0mload\u001b[0m\u001b[1;33m(\u001b[0m\u001b[0minfile\u001b[0m\u001b[1;33m)\u001b[0m\u001b[1;33m\u001b[0m\u001b[1;33m\u001b[0m\u001b[0m\n",
      "\u001b[1;31mException\u001b[0m: Resources file not found at: C:\\Users\\desid\\stanza_resources\\resources.json. Try to download the model again."
     ]
    }
   ],
   "source": [
    "# Load English neural pipeline\n",
    "!pip install stanza\n",
    "import stanza\n",
    "nlp = stanza.Pipeline('en', processors=\"tokenize, pos, lemma, ner, depparse\") \n",
    "print(\"CoreNLP loaded.\")"
   ]
  },
  {
   "cell_type": "code",
   "execution_count": 11,
   "metadata": {
    "id": "WV_Vl1DTQCsE"
   },
   "outputs": [],
   "source": [
    "def parse_doc(doc):\n",
    "    \n",
    "    # Extract document information\n",
    "    doc_id = doc[\"id\"]\n",
    "    text = doc[\"text\"]\n",
    "    title = doc[\"title\"]\n",
    "    url = doc[\"url\"]\n",
    "    decade = doc[\"decade\"]\n",
    "    date = doc[\"date\"]\n",
    "    president = doc[\"website\"]\n",
    "\n",
    "    # Only keep the first 1,600 words\n",
    "    words_to_keep = 1600\n",
    "    if doc[\"num_words\"] > words_to_keep:\n",
    "        print(\"\\tTruncating document\")\n",
    "        matches = [i.start() for i in re.finditer(' ', text)]\n",
    "        text = text[:matches[words_to_keep - 1]]\n",
    "\n",
    "    try:\n",
    "        # Parse document text\n",
    "        parsed = nlp(text)\n",
    "        \n",
    "        # Isolate sentence results and dependency strings\n",
    "        parse_results = [sentence.to_dict() for sentence in parsed.sentences]\n",
    "        dep_strs = [sentence.dependencies_string() for sentence in parsed.sentences]\n",
    "    \n",
    "    \n",
    "        # Construct message\n",
    "        message = {\n",
    "            \"id\": doc_id,\n",
    "            \"text\": text,\n",
    "            \"title\": title,\n",
    "            \"url\": url,\n",
    "            \"date\": date,\n",
    "            \"website\": president,\n",
    "            \n",
    "            \"parse_results\": json.dumps(parse_results),\n",
    "            \"dependency_strings\": json.dumps(dep_strs),\n",
    "        }\n",
    "\n",
    "        # Create S3 key\n",
    "        key = \"parsed/{}/{}/{}.json\".format(president, decade, doc_id)\n",
    "        \n",
    "        return message, key\n",
    "        \n",
    "    # Handle any exceptions thrown during processing\n",
    "    except:\n",
    "        return 'error', None\n",
    "\n",
    "\n",
    "\n",
    "\n",
    "def handler(event, context):\n",
    "    start_time = time.time()\n",
    "    print(\"Enter handler.\")\n",
    "\n",
    "    # Initialize progress counters\n",
    "    successes = 0\n",
    "    errors = 0\n",
    "\n",
    "    # Keep parsing documents one at a time for 1 minutes\n",
    "    counter = 0\n",
    "    while time.time() - start_time < 1800:\n",
    "        counter += 1\n",
    "        \n",
    "        try:\n",
    "            # Fetch document from SQS\n",
    "            resp = sqs.receive_message(QueueUrl=queue_url, AttributeNames=['All'])\n",
    "            doc = json.loads(resp[\"Messages\"][0][\"Body\"])\n",
    "            msg_receipt = resp[\"Messages\"][0][\"ReceiptHandle\"]\n",
    "            print(\"Parsing doc {} ({} words, id = {})\".format(counter, doc[\"num_words\"], doc[\"url\"]))\n",
    "        except:\n",
    "            print(\"Empty message recevied.\")\n",
    "            continue\n",
    "        \n",
    "        # Parse document and get JSON output\n",
    "        doc_start = time.time()\n",
    "        message, key = parse_doc(doc)\n",
    "        print(\"\\tParsed in {:.1f} seconds.\".format(time.time() - doc_start))\n",
    "    \n",
    "        # If no error was thrown\n",
    "        if key:\n",
    "            # Save output to s3\n",
    "            s3_resp = s3.put_object(\n",
    "                Body=json.dumps(message),\n",
    "                Bucket=bucket,\n",
    "                Key=key\n",
    "                )\n",
    "\n",
    "            # Check that results were saved to s3 successfully\n",
    "            if s3_resp[\"ResponseMetadata\"][\"HTTPStatusCode\"] != 200:\n",
    "                print(s3_resp)\n",
    "                errors += 1\n",
    "                del message\n",
    "                del resp\n",
    "                del doc\n",
    "                del msg_receipt\n",
    "                continue\n",
    "\n",
    "            # Delete document from SQS\n",
    "            del_resp = sqs.delete_message(\n",
    "                QueueUrl = queue_url,\n",
    "                ReceiptHandle = msg_receipt\n",
    "            )\n",
    "            \n",
    "            # Check that document was deleted from SQS successfully\n",
    "            if del_resp[\"ResponseMetadata\"][\"HTTPStatusCode\"] != 200:\n",
    "                print(del_resp)\n",
    "                errors += 1\n",
    "                del message\n",
    "                del resp\n",
    "                del doc\n",
    "                del msg_receipt\n",
    "                continue\n",
    "            \n",
    "            successes += 1\n",
    "        else: \n",
    "            print(key)\n",
    "            print(message)\n",
    "            errors += 1\n",
    "            del message\n",
    "            del resp\n",
    "            del doc\n",
    "            del msg_receipt\n",
    "            continue\n",
    "        \n",
    "        # print(\"{:.2f} MB available\".format(psutil.virtual_memory().available * 1e-6))\n",
    "        # Delete message from memory to cut costs\n",
    "        del message\n",
    "        del resp\n",
    "        del doc\n",
    "        del msg_receipt\n",
    "\n",
    "    return {\n",
    "        \"message\": \"{:,} documents were processed.\\n{:,} were parsed successfuly and {:,} threw errors.\".format(successes + errors, successes, errors)\n",
    "    }"
   ]
  },
  {
   "cell_type": "code",
   "execution_count": 12,
   "metadata": {
    "colab": {
     "base_uri": "https://localhost:8080/"
    },
    "id": "8o0daNY0QCpx",
    "outputId": "f2013486-1fb4-415e-d7c1-2eaeab0b7865"
   },
   "outputs": [
    {
     "name": "stdout",
     "output_type": "stream",
     "text": [
      "Enter handler.\n",
      "Parsing doc 1 (1814 words, id = 921810)\n",
      "\tTruncating document\n",
      "\tParsed in 16.1 seconds.\n",
      "Parsing doc 2 (1840 words, id = 152006)\n",
      "\tTruncating document\n",
      "\tParsed in 20.3 seconds.\n",
      "Parsing doc 3 (1860 words, id = 85498)\n",
      "\tTruncating document\n",
      "\tParsed in 19.5 seconds.\n",
      "Parsing doc 4 (1719 words, id = 397316)\n",
      "\tTruncating document\n",
      "\tParsed in 16.6 seconds.\n",
      "Parsing doc 5 (1879 words, id = 87787)\n",
      "\tTruncating document\n",
      "\tParsed in 22.8 seconds.\n",
      "Parsing doc 6 (1820 words, id = 102088)\n",
      "\tTruncating document\n",
      "\tParsed in 16.0 seconds.\n",
      "Parsing doc 7 (1712 words, id = 105239)\n",
      "\tTruncating document\n",
      "\tParsed in 16.2 seconds.\n",
      "Parsing doc 8 (1865 words, id = 95940)\n",
      "\tTruncating document\n",
      "\tParsed in 15.7 seconds.\n",
      "Parsing doc 9 (1726 words, id = 157897)\n",
      "\tTruncating document\n",
      "\tParsed in 21.4 seconds.\n",
      "Parsing doc 10 (1865 words, id = 114029)\n",
      "\tTruncating document\n",
      "\tParsed in 16.7 seconds.\n",
      "Parsing doc 11 (1856 words, id = 700717)\n",
      "\tTruncating document\n",
      "\tParsed in 31.3 seconds.\n",
      "Parsing doc 12 (1874 words, id = 596819)\n",
      "\tTruncating document\n",
      "\tParsed in 16.5 seconds.\n",
      "Parsing doc 13 (1834 words, id = 223127)\n",
      "\tTruncating document\n",
      "\tParsed in 32.1 seconds.\n",
      "Parsing doc 14 (1718 words, id = 735712)\n",
      "\tTruncating document\n",
      "\tParsed in 17.8 seconds.\n",
      "Parsing doc 15 (1748 words, id = 450109)\n",
      "\tTruncating document\n",
      "\tParsed in 16.4 seconds.\n",
      "Parsing doc 16 (1857 words, id = 1031212)\n",
      "\tTruncating document\n",
      "\tParsed in 16.4 seconds.\n",
      "Parsing doc 17 (1820 words, id = 167293)\n",
      "\tTruncating document\n",
      "\tParsed in 27.3 seconds.\n",
      "Parsing doc 18 (1717 words, id = 87208)\n",
      "\tTruncating document\n",
      "\tParsed in 19.4 seconds.\n",
      "Parsing doc 19 (1887 words, id = 122754)\n",
      "\tTruncating document\n",
      "\tParsed in 20.9 seconds.\n",
      "Parsing doc 20 (1852 words, id = 101539)\n",
      "\tTruncating document\n",
      "\tParsed in 16.9 seconds.\n",
      "Parsing doc 21 (1951 words, id = 252127)\n",
      "\tTruncating document\n",
      "\tParsed in 22.1 seconds.\n",
      "Parsing doc 22 (1720 words, id = 310124)\n",
      "\tTruncating document\n",
      "\tParsed in 21.2 seconds.\n",
      "Parsing doc 23 (1818 words, id = 113955)\n",
      "\tTruncating document\n",
      "\tParsed in 25.2 seconds.\n",
      "Parsing doc 24 (1825 words, id = 313118)\n",
      "\tTruncating document\n",
      "\tParsed in 18.3 seconds.\n",
      "Parsing doc 25 (1843 words, id = 507317)\n",
      "\tTruncating document\n",
      "\tParsed in 18.3 seconds.\n",
      "Parsing doc 26 (1717 words, id = 140136)\n",
      "\tTruncating document\n",
      "\tParsed in 16.6 seconds.\n",
      "Parsing doc 27 (1872 words, id = 100979)\n",
      "\tTruncating document\n",
      "\tParsed in 17.2 seconds.\n",
      "Parsing doc 28 (1833 words, id = 564519)\n",
      "\tTruncating document\n",
      "\tParsed in 21.1 seconds.\n",
      "Parsing doc 29 (1830 words, id = 895510)\n",
      "\tTruncating document\n",
      "\tParsed in 17.0 seconds.\n",
      "Parsing doc 30 (1832 words, id = 211425)\n",
      "\tTruncating document\n",
      "\tParsed in 17.6 seconds.\n",
      "Parsing doc 31 (1882 words, id = 989114)\n",
      "\tTruncating document\n",
      "\tParsed in 22.2 seconds.\n",
      "Parsing doc 32 (1883 words, id = 1107211)\n",
      "\tTruncating document\n",
      "\tParsed in 18.0 seconds.\n",
      "Parsing doc 33 (1882 words, id = 149836)\n",
      "\tTruncating document\n",
      "\tParsed in 17.4 seconds.\n",
      "Parsing doc 34 (1829 words, id = 482916)\n",
      "\tTruncating document\n",
      "\tParsed in 16.8 seconds.\n",
      "Parsing doc 35 (1884 words, id = 658109)\n",
      "\tTruncating document\n",
      "\tParsed in 16.8 seconds.\n",
      "Parsing doc 36 (1851 words, id = 87557)\n",
      "\tTruncating document\n",
      "\tParsed in 16.8 seconds.\n",
      "Parsing doc 37 (1905 words, id = 217626)\n",
      "\tTruncating document\n",
      "\tParsed in 21.5 seconds.\n",
      "Parsing doc 38 (1824 words, id = 89459)\n",
      "\tTruncating document\n",
      "\tParsed in 16.6 seconds.\n",
      "Parsing doc 39 (1893 words, id = 84069)\n",
      "\tTruncating document\n",
      "\tParsed in 16.9 seconds.\n",
      "Parsing doc 40 (1829 words, id = 565219)\n",
      "\tTruncating document\n",
      "\tParsed in 16.8 seconds.\n",
      "Parsing doc 41 (1872 words, id = 119828)\n",
      "\tTruncating document\n",
      "\tParsed in 19.0 seconds.\n",
      "Parsing doc 42 (1899 words, id = 83889)\n",
      "\tTruncating document\n",
      "\tParsed in 18.0 seconds.\n",
      "Parsing doc 43 (1839 words, id = 120145)\n",
      "\tTruncating document\n",
      "\tParsed in 29.5 seconds.\n",
      "Parsing doc 44 (1833 words, id = 290517)\n",
      "\tTruncating document\n",
      "\tParsed in 22.7 seconds.\n",
      "Parsing doc 45 (1838 words, id = 114835)\n",
      "\tTruncating document\n",
      "\tParsed in 15.8 seconds.\n",
      "Parsing doc 46 (1843 words, id = 112636)\n",
      "\tTruncating document\n",
      "\tParsed in 16.4 seconds.\n",
      "Parsing doc 47 (1861 words, id = 604125)\n",
      "\tTruncating document\n",
      "\tParsed in 20.1 seconds.\n",
      "Parsing doc 48 (1899 words, id = 784912)\n",
      "\tTruncating document\n",
      "\tParsed in 17.6 seconds.\n",
      "Parsing doc 49 (1842 words, id = 101258)\n",
      "\tTruncating document\n",
      "\tParsed in 16.4 seconds.\n",
      "Parsing doc 50 (1823 words, id = 124635)\n",
      "\tTruncating document\n",
      "\tParsed in 20.0 seconds.\n",
      "Parsing doc 51 (1717 words, id = 338318)\n",
      "\tTruncating document\n",
      "\tParsed in 16.7 seconds.\n",
      "Parsing doc 52 (1843 words, id = 165126)\n",
      "\tTruncating document\n",
      "\tParsed in 19.6 seconds.\n",
      "Parsing doc 53 (1833 words, id = 743412)\n",
      "\tTruncating document\n",
      "\tParsed in 17.6 seconds.\n",
      "Parsing doc 54 (1893 words, id = 1047113)\n",
      "\tTruncating document\n",
      "\tParsed in 15.3 seconds.\n",
      "Parsing doc 55 (1721 words, id = 111196)\n",
      "\tTruncating document\n",
      "\tParsed in 17.8 seconds.\n",
      "Parsing doc 56 (1834 words, id = 1626110)\n",
      "\tTruncating document\n",
      "\tParsed in 16.5 seconds.\n",
      "Parsing doc 57 (1904 words, id = 782215)\n",
      "\tTruncating document\n",
      "\tParsed in 19.9 seconds.\n",
      "Parsing doc 58 (1880 words, id = 1097410)\n",
      "\tTruncating document\n",
      "\tParsed in 18.1 seconds.\n",
      "Parsing doc 59 (1890 words, id = 301220)\n",
      "\tTruncating document\n",
      "\tParsed in 18.5 seconds.\n",
      "Parsing doc 60 (1863 words, id = 945811)\n",
      "\tTruncating document\n",
      "\tParsed in 18.4 seconds.\n",
      "Parsing doc 61 (1871 words, id = 538319)\n",
      "\tTruncating document\n",
      "\tParsed in 16.1 seconds.\n",
      "Parsing doc 62 (1737 words, id = 171656)\n",
      "\tTruncating document\n",
      "\tParsed in 19.1 seconds.\n",
      "Parsing doc 63 (1831 words, id = 119137)\n",
      "\tTruncating document\n",
      "\tParsed in 16.7 seconds.\n",
      "Parsing doc 64 (1838 words, id = 305320)\n",
      "\tTruncating document\n",
      "\tParsed in 16.9 seconds.\n",
      "Parsing doc 65 (1870 words, id = 120476)\n",
      "\tTruncating document\n",
      "\tParsed in 19.6 seconds.\n",
      "Parsing doc 66 (1841 words, id = 1114210)\n",
      "\tTruncating document\n",
      "\tParsed in 19.5 seconds.\n",
      "Parsing doc 67 (1899 words, id = 661317)\n",
      "\tTruncating document\n",
      "\tParsed in 18.4 seconds.\n",
      "Parsing doc 68 (1838 words, id = 538618)\n",
      "\tTruncating document\n",
      "\tParsed in 17.6 seconds.\n",
      "Parsing doc 69 (1838 words, id = 619419)\n",
      "\tTruncating document\n",
      "\tParsed in 16.5 seconds.\n",
      "Parsing doc 70 (1868 words, id = 783116)\n",
      "\tTruncating document\n",
      "\tParsed in 16.8 seconds.\n",
      "Parsing doc 71 (1830 words, id = 905311)\n",
      "\tTruncating document\n",
      "\tParsed in 20.4 seconds.\n",
      "Parsing doc 72 (1859 words, id = 189827)\n",
      "\tTruncating document\n",
      "\tParsed in 20.0 seconds.\n",
      "Parsing doc 73 (1874 words, id = 1465114)\n",
      "\tTruncating document\n",
      "\tParsed in 17.1 seconds.\n",
      "Parsing doc 74 (1933 words, id = 445016)\n",
      "\tTruncating document\n",
      "\tParsed in 17.1 seconds.\n",
      "Parsing doc 75 (1880 words, id = 444517)\n",
      "\tTruncating document\n",
      "\tParsed in 20.0 seconds.\n",
      "Parsing doc 76 (1830 words, id = 150429)\n",
      "\tTruncating document\n",
      "\tParsed in 18.6 seconds.\n",
      "Parsing doc 77 (1846 words, id = 189727)\n",
      "\tTruncating document\n",
      "\tParsed in 17.1 seconds.\n",
      "Parsing doc 78 (1854 words, id = 435017)\n",
      "\tTruncating document\n",
      "\tParsed in 19.4 seconds.\n",
      "Parsing doc 79 (1860 words, id = 457818)\n",
      "\tTruncating document\n",
      "\tParsed in 22.5 seconds.\n",
      "Parsing doc 80 (1722 words, id = 134864)\n",
      "\tTruncating document\n",
      "\tParsed in 16.4 seconds.\n",
      "Parsing doc 81 (1899 words, id = 107739)\n",
      "\tTruncating document\n",
      "\tParsed in 16.9 seconds.\n",
      "Parsing doc 82 (1941 words, id = 168726)\n",
      "\tTruncating document\n",
      "\tParsed in 20.8 seconds.\n",
      "Parsing doc 83 (1730 words, id = 114175)\n",
      "\tTruncating document\n",
      "\tParsed in 15.8 seconds.\n",
      "Parsing doc 84 (1844 words, id = 719416)\n",
      "\tTruncating document\n",
      "\tParsed in 17.2 seconds.\n",
      "Parsing doc 85 (1842 words, id = 112236)\n",
      "\tTruncating document\n",
      "\tParsed in 16.0 seconds.\n",
      "Parsing doc 86 (1832 words, id = 116954)\n",
      "\tTruncating document\n",
      "\tParsed in 16.8 seconds.\n",
      "Parsing doc 87 (1888 words, id = 907115)\n",
      "\tTruncating document\n",
      "\tParsed in 15.7 seconds.\n",
      "Parsing doc 88 (1925 words, id = 742116)\n",
      "\tTruncating document\n",
      "\tParsed in 20.0 seconds.\n",
      "Parsing doc 89 (1860 words, id = 676516)\n",
      "\tTruncating document\n",
      "\tParsed in 16.1 seconds.\n",
      "Parsing doc 90 (1963 words, id = 626219)\n",
      "\tTruncating document\n",
      "\tParsed in 16.7 seconds.\n",
      "Parsing doc 91 (1840 words, id = 684715)\n",
      "\tTruncating document\n",
      "\tParsed in 15.2 seconds.\n",
      "Parsing doc 92 (1858 words, id = 531318)\n",
      "\tTruncating document\n",
      "\tParsed in 18.4 seconds.\n",
      "Parsing doc 93 (1907 words, id = 1063210)\n",
      "\tTruncating document\n",
      "\tParsed in 20.7 seconds.\n",
      "Parsing doc 94 (1722 words, id = 1715210)\n",
      "\tTruncating document\n",
      "\tParsed in 22.8 seconds.\n",
      "Parsing doc 95 (1900 words, id = 781003)\n",
      "\tTruncating document\n",
      "\tParsed in 18.2 seconds.\n"
     ]
    },
    {
     "data": {
      "text/plain": [
       "{'message': '95 documents were processed.\\n95 were parsed successfuly and 0 threw errors.'}"
      ]
     },
     "execution_count": 12,
     "metadata": {
      "tags": []
     },
     "output_type": "execute_result"
    }
   ],
   "source": [
    "event, context = {}, {}\n",
    "handler(event, context)"
   ]
  },
  {
   "cell_type": "code",
   "execution_count": null,
   "metadata": {
    "id": "wqprrabRQCmN"
   },
   "outputs": [],
   "source": []
  }
 ],
 "metadata": {
  "colab": {
   "collapsed_sections": [
    "tVca79nO3-qG"
   ],
   "name": "MongoDB Setup.ipynb",
   "provenance": [],
   "toc_visible": true
  },
  "kernelspec": {
   "display_name": "Python 3",
   "language": "python",
   "name": "python3"
  },
  "language_info": {
   "codemirror_mode": {
    "name": "ipython",
    "version": 3
   },
   "file_extension": ".py",
   "mimetype": "text/x-python",
   "name": "python",
   "nbconvert_exporter": "python",
   "pygments_lexer": "ipython3",
   "version": "3.8.3"
  }
 },
 "nbformat": 4,
 "nbformat_minor": 1
}

{
  "nbformat": 4,
  "nbformat_minor": 0,
  "metadata": {
    "colab": {
      "name": "MongoDB Setup.ipynb",
      "provenance": [],
      "collapsed_sections": [],
      "mount_file_id": "1FBrl2wSvwKsnVBtEaYkAxUHjV6ZrgKKG",
      "authorship_tag": "ABX9TyNqm3qi76nOfjXnoKtf5qSl",
      "include_colab_link": true
    },
    "kernelspec": {
      "name": "python3",
      "display_name": "Python 3"
    }
  },
  "cells": [
    {
      "cell_type": "markdown",
      "metadata": {
        "id": "view-in-github",
        "colab_type": "text"
      },
      "source": [
        "<a href=\"https://colab.research.google.com/github/DesiPilla/frus-event-exctraction/blob/master/MongoDB_Setup.ipynb\" target=\"_parent\"><img src=\"https://colab.research.google.com/assets/colab-badge.svg\" alt=\"Open In Colab\"/></a>"
      ]
    },
    {
      "cell_type": "code",
      "metadata": {
        "id": "S66Mayq2HO_X",
        "colab_type": "code",
        "colab": {}
      },
      "source": [
        "import os\n",
        "import json\n",
        "import pandas as pd\n",
        "from pymongo import MongoClient"
      ],
      "execution_count": 1,
      "outputs": []
    },
    {
      "cell_type": "code",
      "metadata": {
        "id": "HaQA7s8RHTp8",
        "colab_type": "code",
        "colab": {
          "base_uri": "https://localhost:8080/",
          "height": 35
        },
        "outputId": "a197c4f1-3679-4915-ae88-9463dacdc883"
      },
      "source": [
        "cd '/content/drive/My Drive/FRUS/Raw Data/Combined Data'"
      ],
      "execution_count": 13,
      "outputs": [
        {
          "output_type": "stream",
          "text": [
            "/content/drive/.shortcut-targets-by-id/119/FRUS/Raw Data\n"
          ],
          "name": "stdout"
        }
      ]
    },
    {
      "cell_type": "markdown",
      "metadata": {
        "id": "udfTsNljMH8O",
        "colab_type": "text"
      },
      "source": [
        "**SSH into the MongoDB located on the EC2 instance**"
      ]
    },
    {
      "cell_type": "code",
      "metadata": {
        "id": "su5whgpZBu7v",
        "colab_type": "code",
        "colab": {
          "base_uri": "https://localhost:8080/",
          "height": 35
        },
        "outputId": "61ca5518-f420-4cd5-db0c-f91cc655f4d7"
      },
      "source": [
        "client = MongoClient('mongodb://52.71.228.156:27017/')\n",
        "client.list_database_names()"
      ],
      "execution_count": 24,
      "outputs": [
        {
          "output_type": "execute_result",
          "data": {
            "text/plain": [
              "['admin', 'config', 'local']"
            ]
          },
          "metadata": {
            "tags": []
          },
          "execution_count": 24
        }
      ]
    },
    {
      "cell_type": "markdown",
      "metadata": {
        "id": "-Wgu8yvFMOsn",
        "colab_type": "text"
      },
      "source": [
        "**Select or create a database named `FRUS`**"
      ]
    },
    {
      "cell_type": "code",
      "metadata": {
        "id": "kLKk4VL9FY7E",
        "colab_type": "code",
        "colab": {
          "base_uri": "https://localhost:8080/",
          "height": 35
        },
        "outputId": "5039c686-390f-44b3-9b56-7037ade782a1"
      },
      "source": [
        "db = client.FRUS\n",
        "db.list_collection_names()"
      ],
      "execution_count": 28,
      "outputs": [
        {
          "output_type": "execute_result",
          "data": {
            "text/plain": [
              "[]"
            ]
          },
          "metadata": {
            "tags": []
          },
          "execution_count": 28
        }
      ]
    },
    {
      "cell_type": "markdown",
      "metadata": {
        "id": "21ACQ_A5MfAZ",
        "colab_type": "text"
      },
      "source": [
        "**Take the preprared data and convert it to a JSON file**"
      ]
    },
    {
      "cell_type": "code",
      "metadata": {
        "id": "GHs8A_VMHSv_",
        "colab_type": "code",
        "colab": {}
      },
      "source": [
        "def prepare_collection(path):\n",
        "    df = pd.read_csv(path).rename(columns={'website':'source', 'text':'context'})\n",
        "    df['stanford'] = 0\n",
        "    return df.to_dict('records')"
      ],
      "execution_count": 2,
      "outputs": []
    },
    {
      "cell_type": "code",
      "metadata": {
        "id": "XASbjdk3CqfJ",
        "colab_type": "code",
        "colab": {
          "base_uri": "https://localhost:8080/",
          "height": 453
        },
        "outputId": "2e26c30e-d713-4239-b35c-12b26e969de1"
      },
      "source": [
        "taft_collection = prepare_collection('taft_df.csv')\n",
        "taft_collection[:2]"
      ],
      "execution_count": 18,
      "outputs": [
        {
          "output_type": "execute_result",
          "data": {
            "text/plain": [
              "[{'Unnamed: 0': 106432,\n",
              "  'context': 'The Ambassador in France ( Herrick ) to the Secretary of State American Embassy , Paris , July 28, 1914, 4 p.m. [ Received 7:30 p.m. ] [Telegram] To be communicated to the President: Situation in Europe is regarded here as the gravest in history. It is apprehended that civilization is threatened by demoralization which would follow a general conflagration. Demonstrations made against war here last night by laboring classes; it is said to be the first instance of its kind in France. It is felt that if Germany once mobilizes no backward step will be taken. France has strong reliance on her army but it is not giving way to undue excitement. There is faith and reliance on our high ideals and purposes, so that I believe expression from our nation would have great weight in this crisis. My opinion is encouraged at reception given utterances of British Minister for Foreign Affairs. I believe that a strong plea for delay and moderation from the President of the United States would meet with the respect and approval of Europe and [Page 19] urge the prompt consideration of this question. This suggestion is consistent with our plea for arbitration treaties and attitude toward world affairs generally. I would not appear officious but deem it my duty to make this expression to you. Herrick',\n",
              "  'date': '1914-07-28',\n",
              "  'decade': 1910,\n",
              "  'language': 'English',\n",
              "  'num_capitalized_words': 26,\n",
              "  'num_words': 222,\n",
              "  'perc_capitalized_words': 0.11711711711711713,\n",
              "  'source': 'Taft',\n",
              "  'stanford': 0,\n",
              "  'title': '[33] The Ambassador in France ( Herrick ) to the Secretary of State',\n",
              "  'url': 12314},\n",
              " {'Unnamed: 0': 106433,\n",
              "  'context': 'The Secretary of State to the Ambassador in Great Britain ( Page ) Department of State , Washington , July 28, 1914, 11:44 p.m. [Telegram] Is there in your opinion any likelihood that the good offices of the United States if offered under Article 3 of the Hague convention would be acceptable or serve any high purpose in the present crisis? Bryan',\n",
              "  'date': '1914-07-28',\n",
              "  'decade': 1910,\n",
              "  'language': 'English',\n",
              "  'num_capitalized_words': 17,\n",
              "  'num_words': 62,\n",
              "  'perc_capitalized_words': 0.27419354838709675,\n",
              "  'source': 'Taft',\n",
              "  'stanford': 0,\n",
              "  'title': '[34] The Secretary of State to the Ambassador in Great Britain ( Page )',\n",
              "  'url': 210044}]"
            ]
          },
          "metadata": {
            "tags": []
          },
          "execution_count": 18
        }
      ]
    },
    {
      "cell_type": "markdown",
      "metadata": {
        "id": "MgSTCdaSMoQm",
        "colab_type": "text"
      },
      "source": [
        "**Add the JSON file to the MongoDB as a collection**"
      ]
    },
    {
      "cell_type": "code",
      "metadata": {
        "id": "dq6HAqd5DW-P",
        "colab_type": "code",
        "colab": {
          "base_uri": "https://localhost:8080/",
          "height": 35
        },
        "outputId": "cc6a085f-f4fd-44f0-882d-f0f50090513f"
      },
      "source": [
        "db.Taft.insert_many(taft_collection, ordered=False)\n",
        "print(\"Data has been exported to MongoDB server.\")"
      ],
      "execution_count": 21,
      "outputs": [
        {
          "output_type": "stream",
          "text": [
            "Data has been exported to MongoDB server.\n"
          ],
          "name": "stdout"
        }
      ]
    },
    {
      "cell_type": "code",
      "metadata": {
        "id": "1N7ESNe-DzS6",
        "colab_type": "code",
        "colab": {
          "base_uri": "https://localhost:8080/",
          "height": 35
        },
        "outputId": "af439950-deaf-497a-ea24-13606993663d"
      },
      "source": [
        "db.list_collection_names()"
      ],
      "execution_count": 20,
      "outputs": [
        {
          "output_type": "execute_result",
          "data": {
            "text/plain": [
              "['taft']"
            ]
          },
          "metadata": {
            "tags": []
          },
          "execution_count": 20
        }
      ]
    }
  ]
}
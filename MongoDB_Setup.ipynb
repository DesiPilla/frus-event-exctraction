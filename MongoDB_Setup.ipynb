{
  "nbformat": 4,
  "nbformat_minor": 0,
  "metadata": {
    "colab": {
      "name": "MongoDB Setup.ipynb",
      "provenance": [],
      "collapsed_sections": [],
      "mount_file_id": "1FBrl2wSvwKsnVBtEaYkAxUHjV6ZrgKKG",
      "authorship_tag": "ABX9TyOJH5LdrYpGnYhEnYnBoawh",
      "include_colab_link": true
    },
    "kernelspec": {
      "name": "python3",
      "display_name": "Python 3"
    }
  },
  "cells": [
    {
      "cell_type": "markdown",
      "metadata": {
        "id": "view-in-github",
        "colab_type": "text"
      },
      "source": [
        "<a href=\"https://colab.research.google.com/github/DesiPilla/frus-event-exctraction/blob/master/MongoDB_Setup.ipynb\" target=\"_parent\"><img src=\"https://colab.research.google.com/assets/colab-badge.svg\" alt=\"Open In Colab\"/></a>"
      ]
    },
    {
      "cell_type": "code",
      "metadata": {
        "id": "S66Mayq2HO_X",
        "colab_type": "code",
        "colab": {}
      },
      "source": [
        "import os\n",
        "import json\n",
        "import time\n",
        "import boto3\n",
        "import pprint\n",
        "import pandas as pd\n",
        "from pymongo import MongoClient"
      ],
      "execution_count": 1,
      "outputs": []
    },
    {
      "cell_type": "code",
      "metadata": {
        "id": "HaQA7s8RHTp8",
        "colab_type": "code",
        "colab": {
          "base_uri": "https://localhost:8080/",
          "height": 35
        },
        "outputId": "d4c611d8-d88a-4c6c-b426-408cdba4c66f"
      },
      "source": [
        "cd '/content/drive/My Drive/FRUS/Raw Data/Combined Data'"
      ],
      "execution_count": 2,
      "outputs": [
        {
          "output_type": "stream",
          "text": [
            "/content/drive/.shortcut-targets-by-id/119/FRUS/Raw Data/Combined Data\n"
          ],
          "name": "stdout"
        }
      ]
    },
    {
      "cell_type": "markdown",
      "metadata": {
        "id": "AvPvHTsmCDKZ",
        "colab_type": "text"
      },
      "source": [
        "# Set up environment"
      ]
    },
    {
      "cell_type": "markdown",
      "metadata": {
        "id": "bpgnXETE_q1s",
        "colab_type": "text"
      },
      "source": [
        "**Locate AWS credentials and start EC2 instance**"
      ]
    },
    {
      "cell_type": "code",
      "metadata": {
        "id": "ufnJEm9wAupg",
        "colab_type": "code",
        "colab": {}
      },
      "source": [
        "aws_id, aws_secret_key = pd.read_csv('../../Code/DesiPilla_accessKeys.csv').values[0]"
      ],
      "execution_count": 9,
      "outputs": []
    },
    {
      "cell_type": "code",
      "metadata": {
        "id": "-7kMRixq_tv9",
        "colab_type": "code",
        "colab": {
          "base_uri": "https://localhost:8080/",
          "height": 35
        },
        "outputId": "4650fa23-b769-4ee3-9a37-1c6059a81052"
      },
      "source": [
        "instance_id = 'i-0d78025aafddfd00f'\n",
        "ec2 = boto3.resource('ec2', \n",
        "                     'us-east-1',\n",
        "                     aws_access_key_id=aws_id, \n",
        "                     aws_secret_access_key=aws_secret_key)\n",
        "\n",
        "instance = ec2.Instance(instance_id)\n",
        "instance.state"
      ],
      "execution_count": 10,
      "outputs": [
        {
          "output_type": "execute_result",
          "data": {
            "text/plain": [
              "{'Code': 80, 'Name': 'stopped'}"
            ]
          },
          "metadata": {
            "tags": []
          },
          "execution_count": 10
        }
      ]
    },
    {
      "cell_type": "code",
      "metadata": {
        "id": "MqRgcfDfACUZ",
        "colab_type": "code",
        "colab": {
          "base_uri": "https://localhost:8080/",
          "height": 35
        },
        "outputId": "eb561a9a-f054-440f-edf4-18684c6c43c8"
      },
      "source": [
        "instance.start()\n",
        "print('Initializing...')\n",
        "i = 0\n",
        "while instance.state['Name'] != 'running':\n",
        "    time.sleep(5)\n",
        "    i += 5\n",
        "    print(f'\\t{i} seconds elapsed... ({instance.state['Name']})')\n",
        "print('The EC2 instance is now running.')"
      ],
      "execution_count": 26,
      "outputs": [
        {
          "output_type": "execute_result",
          "data": {
            "text/plain": [
              "{'Code': 64, 'Name': 'stopping'}"
            ]
          },
          "metadata": {
            "tags": []
          },
          "execution_count": 26
        }
      ]
    },
    {
      "cell_type": "markdown",
      "metadata": {
        "id": "udfTsNljMH8O",
        "colab_type": "text"
      },
      "source": [
        "**SSH into the MongoDB located on the EC2 instance**"
      ]
    },
    {
      "cell_type": "code",
      "metadata": {
        "id": "su5whgpZBu7v",
        "colab_type": "code",
        "colab": {
          "base_uri": "https://localhost:8080/",
          "height": 35
        },
        "outputId": "461ad881-f49d-4653-8b82-cdbb05ff4f87"
      },
      "source": [
        "client = MongoClient('mongodb://52.71.228.156:27017/')\n",
        "client.list_database_names()"
      ],
      "execution_count": 3,
      "outputs": [
        {
          "output_type": "execute_result",
          "data": {
            "text/plain": [
              "['FRUS', 'admin', 'config', 'local']"
            ]
          },
          "metadata": {
            "tags": []
          },
          "execution_count": 3
        }
      ]
    },
    {
      "cell_type": "markdown",
      "metadata": {
        "id": "-Wgu8yvFMOsn",
        "colab_type": "text"
      },
      "source": [
        "**Select or create a database named `FRUS`**"
      ]
    },
    {
      "cell_type": "code",
      "metadata": {
        "id": "kLKk4VL9FY7E",
        "colab_type": "code",
        "colab": {
          "base_uri": "https://localhost:8080/",
          "height": 35
        },
        "outputId": "87662005-15ae-4340-84aa-4feae30308fd"
      },
      "source": [
        "db = client.FRUS\n",
        "db.list_collection_names()"
      ],
      "execution_count": 4,
      "outputs": [
        {
          "output_type": "execute_result",
          "data": {
            "text/plain": [
              "['Taft', 'AllPresidents']"
            ]
          },
          "metadata": {
            "tags": []
          },
          "execution_count": 4
        }
      ]
    },
    {
      "cell_type": "markdown",
      "metadata": {
        "id": "ii1c7SVAyffg",
        "colab_type": "text"
      },
      "source": [
        "# Taft Collection"
      ]
    },
    {
      "cell_type": "markdown",
      "metadata": {
        "id": "21ACQ_A5MfAZ",
        "colab_type": "text"
      },
      "source": [
        "**Take the preprared data and convert it to a JSON file**"
      ]
    },
    {
      "cell_type": "code",
      "metadata": {
        "id": "GHs8A_VMHSv_",
        "colab_type": "code",
        "colab": {}
      },
      "source": [
        "def prepare_collection(path):\n",
        "    df = pd.read_csv(path).rename(columns={'website':'source', 'text':'context'})\n",
        "    df['stanford'] = 0\n",
        "    return df.to_dict('records')"
      ],
      "execution_count": 6,
      "outputs": []
    },
    {
      "cell_type": "code",
      "metadata": {
        "id": "XASbjdk3CqfJ",
        "colab_type": "code",
        "colab": {
          "base_uri": "https://localhost:8080/",
          "height": 453
        },
        "outputId": "b38d00c6-70f9-41b1-add1-6b7346a60866"
      },
      "source": [
        "taft_collection = prepare_collection('taft_df.csv')\n",
        "taft_collection[:2]"
      ],
      "execution_count": 8,
      "outputs": [
        {
          "output_type": "execute_result",
          "data": {
            "text/plain": [
              "[{'Unnamed: 0': 106432,\n",
              "  'context': 'The Ambassador in France ( Herrick ) to the Secretary of State American Embassy , Paris , July 28, 1914, 4 p.m. [ Received 7:30 p.m. ] [Telegram] To be communicated to the President: Situation in Europe is regarded here as the gravest in history. It is apprehended that civilization is threatened by demoralization which would follow a general conflagration. Demonstrations made against war here last night by laboring classes; it is said to be the first instance of its kind in France. It is felt that if Germany once mobilizes no backward step will be taken. France has strong reliance on her army but it is not giving way to undue excitement. There is faith and reliance on our high ideals and purposes, so that I believe expression from our nation would have great weight in this crisis. My opinion is encouraged at reception given utterances of British Minister for Foreign Affairs. I believe that a strong plea for delay and moderation from the President of the United States would meet with the respect and approval of Europe and  urge the prompt consideration of this question. This suggestion is consistent with our plea for arbitration treaties and attitude toward world affairs generally. I would not appear officious but deem it my duty to make this expression to you. Herrick',\n",
              "  'date': '1914-07-28',\n",
              "  'decade': 1910,\n",
              "  'language': 'English',\n",
              "  'num_capitalized_words': 25,\n",
              "  'num_words': 221,\n",
              "  'perc_capitalized_words': 0.11312217194570134,\n",
              "  'source': 'Taft',\n",
              "  'stanford': 0,\n",
              "  'title': '[33] The Ambassador in France ( Herrick ) to the Secretary of State',\n",
              "  'url': 12314},\n",
              " {'Unnamed: 0': 106433,\n",
              "  'context': 'The Secretary of State to the Ambassador in Great Britain ( Page ) Department of State , Washington , July 28, 1914, 11:44 p.m. [Telegram] Is there in your opinion any likelihood that the good offices of the United States if offered under Article 3 of the Hague convention would be acceptable or serve any high purpose in the present crisis? Bryan',\n",
              "  'date': '1914-07-28',\n",
              "  'decade': 1910,\n",
              "  'language': 'English',\n",
              "  'num_capitalized_words': 17,\n",
              "  'num_words': 62,\n",
              "  'perc_capitalized_words': 0.27419354838709675,\n",
              "  'source': 'Taft',\n",
              "  'stanford': 0,\n",
              "  'title': '[34] The Secretary of State to the Ambassador in Great Britain ( Page )',\n",
              "  'url': 210044}]"
            ]
          },
          "metadata": {
            "tags": []
          },
          "execution_count": 8
        }
      ]
    },
    {
      "cell_type": "markdown",
      "metadata": {
        "id": "MgSTCdaSMoQm",
        "colab_type": "text"
      },
      "source": [
        "**Add the JSON file to the MongoDB as a collection**"
      ]
    },
    {
      "cell_type": "code",
      "metadata": {
        "id": "dq6HAqd5DW-P",
        "colab_type": "code",
        "colab": {
          "base_uri": "https://localhost:8080/",
          "height": 35
        },
        "outputId": "bee96e37-cbbe-490d-a8b4-087ca0cf4202"
      },
      "source": [
        "db.Taft.insert_many(taft_collection, ordered=False)\n",
        "print(\"Data has been exported to MongoDB server.\")"
      ],
      "execution_count": 9,
      "outputs": [
        {
          "output_type": "stream",
          "text": [
            "Data has been exported to MongoDB server.\n"
          ],
          "name": "stdout"
        }
      ]
    },
    {
      "cell_type": "code",
      "metadata": {
        "id": "1N7ESNe-DzS6",
        "colab_type": "code",
        "colab": {
          "base_uri": "https://localhost:8080/",
          "height": 35
        },
        "outputId": "3379b0a2-119c-405c-9516-02b56b119e5b"
      },
      "source": [
        "db.list_collection_names()"
      ],
      "execution_count": 10,
      "outputs": [
        {
          "output_type": "execute_result",
          "data": {
            "text/plain": [
              "['Taft']"
            ]
          },
          "metadata": {
            "tags": []
          },
          "execution_count": 10
        }
      ]
    },
    {
      "cell_type": "markdown",
      "metadata": {
        "id": "rgfUAClEyh14",
        "colab_type": "text"
      },
      "source": [
        "# All Presidents"
      ]
    },
    {
      "cell_type": "markdown",
      "metadata": {
        "id": "eO4B0eKPyxQ0",
        "colab_type": "text"
      },
      "source": [
        "**Take the preprared data and convert it to a JSON file**"
      ]
    },
    {
      "cell_type": "code",
      "metadata": {
        "id": "BlFlylC1ym_O",
        "colab_type": "code",
        "colab": {
          "base_uri": "https://localhost:8080/",
          "height": 453
        },
        "outputId": "c1893865-3052-43bf-8260-7bc8f390d6a9"
      },
      "source": [
        "all_presidents_collection = prepare_collection('all_presidents_df.csv')\n",
        "all_presidents_collection[:2]"
      ],
      "execution_count": 11,
      "outputs": [
        {
          "output_type": "execute_result",
          "data": {
            "text/plain": [
              "[{'Unnamed: 0': 0,\n",
              "  'context': 'Memorandum of Conversation, by the Officer in Charge of West, Central, and East Africa Affairs ( Feld ) [ Washington ,] February 20, 1952 . Participants: Ford Foundation—Mr. Carl B. Spaeth Mr. John Howard Mr. Howard Tolley AF —Mr. Bourgerie Mr. Feld Mr. Meier DRN —Mr. Brown NEA/P —Mr. Fisk Mrs. Sloan Messrs. Spaeth , Howard and Tolley of the Ford Foundation came to the Department on Wednesday, February 20, 1952, to discuss in general terms the Foundation’s interest in extending its overseas activities to Africa. Mr. Bourgerie began the discussion by pointing out that, due to political considerations and suspicion of American motives, it appeared unlikely that much could be done in Portuguese possessions, and perhaps to a somewhat lesser extent, in Belgian and French possessions, although in each case for slightly different reasons. Broadly the Portuguese have not favored our sending American government or private experts to Angola and Mozambique for fear of the effect of their presence on the native populations, and it was for this reason that the Portuguese were not particularly interested in technical assistance programs. The French have also been suspicious of Point 4, and although they have accepted a considerable amount of ECA assistance in their African territories, they have been extremely  reluctant to give the United States credit publicly in these territories for this assistance. The political situation in French North Africa is such that American technical assistance programs are not particularly desired. The Belgians feel they do not need American technical assistance for the Congo and have already done more than almost any other government in Africa to provide vocational training, public health facilities, etc. in the Congo. They have, however, requested ECA aid and World Bank loans . This leaves only the independent countries, namely, Libya (which has virtually no resources and needs every kind of help, public and private), Ethiopia, Liberia, the Internat’l. Zone of Tangier, where the French cannot interfere with outside efforts, and the British territories, particularly British West Africa (the Gold Coast and Nigeria) and, to a lesser extent, British Central Africa (the Rhodesias and Nyasaland), and East Africa (Kenya, Uganda and Tanganyika). In Ethiopia, Liberia and Libya we have Point 4 programs but there are many opportunities for further assistance from private sources. Mr. Bourgerie then specified certain general fields of activity which the Departmental officers concerned believed the Foundation should consider if it decided to extend assistance to the more promising and receptive African countries. Among these, Mr. Bourgerie mentioned vocational training, especially at the lower level, community programs for urban and rural populations, the great need for elementary and secondary schools throughout Africa, the need to support research institutions, especially in the British territories and Liberia, where research institutions exist but in most cases are completely inadequate in staff and funds to do the important work required. In response to Mr. Bourgerie ’s suggestion Mr. Spaeth then proceeded to outline the type of activities in which the Ford Foundation has been engaged in South Asia (India, Pakistan, Afghanistan) and gave some indications of the Foundation’s general policies in these areas. He stated that the Foundation was supporting in India a wide scale program of agricultural extension at the village level, a woman’s college in Pakistan, a community project for untouchables at Delhi, a project to train industrial workers in Pakistan, etc. The Foundation is also generally interested in community development work in South Asia, as well as in the Students’ Exchange Program everywhere, especially in technical and vocational fields. The Foundation is now on the point of sending a team to the Middle East to survey the countries in that area with the idea of undertaking projects similar to those in South Asia, but, looking ahead, it also wants to find out what it can do in Africa. It is convinced of the urgency of getting started in all these areas as soon as possible in view of the political and social tensions which recent events clearly indicate  have been building up against the West, and which are spreading in Africa, having already erupted in French North Africa. Mr. Spaeth mentioned in this connection that whenever the Foundation’s officials discussed programs in various parts of the world they were constantly asked, “What do you have in mind for Africa?” Mr. Spaeth also indicated the relationship of the Foundation’s activities to governmental programs, such as Point 4, MSA , etc. He stated that generally the Foundation does not normally wish to duplicate or to be too closely involved in the work already being undertaken by these programs in such areas as South Asia, the Near East and Africa; however, it judges individual projects on their merits. In certain instances in India the Foundation has provided assistance to projects in which the American and Indian Governments are also participating. Mr. Spaeth explained that although the Foundation normally does not provide funds for the purchase of capital equipment, the construction of buildings to house projects, etc., it will do so if necessary to assist in bringing worthwhile projects to fruition. He cited instances in India where the Foundation has in fact assisted by providing funds for capital expenditure. In response to a question from Mr. Howard regarding the work of the Educational Exchange Program, Mrs. Sloan outlined in considerable detail the system now in effect with regard to West African students in the United States and indicated that these students are now being carefully selected to receive a certain type of education in the United States with certain definite job requirements in mind in their home territories after they have finished their studies abroad. The jobs are usually connected with the development schemes of the countries concerned, namely, the Gold Coast, Nigeria, and, to a lesser extent, Liberia and Sierra Leone. Mrs. Sloan defended the procedure of bringing West African students to the United States for advanced technical training on the grounds that the countries from which these students come are desperate for specialists and that these specialists, once trained, will be able to assist greatly in the development of technicians at a somewhat lower level when they return to their home countries. In the discussion that followed, the Departmental officers present described to the Foundation representatives the special needs and requirements of various African territories, it being generally agreed that the approach that the Foundation was taking in other areas, such as South Asia and the Near East, was a sound one for Africa as well. The Departmental officers indicated that developments in Africa were such that persons trained in vocational and in technical fields and in community development in its broader aspects could be fully utilized throughout Africa and would be in a position to make an important contribution to the development of their respective territories. However,  it was pointed out that the contribution the Foundation could make in these particular fields would probably be limited in certain of the African territories because of sensitivities involving political and other considerations. At the conclusion of the meeting it was agreed that the Department would supply the Foundation with a statement which would outline in somewhat greater detail the types of activity and the countries of Africa in which the Foundation could make the most suitable contribution. 2 A statement of the sort described here has not been found in Department of State files. <U+21A9>',\n",
              "  'date': '1952-02-20',\n",
              "  'decade': 1950,\n",
              "  'language': 'English',\n",
              "  'num_capitalized_words': 186,\n",
              "  'num_words': 1232,\n",
              "  'perc_capitalized_words': 0.15097402597402598,\n",
              "  'source': 'Truman',\n",
              "  'stanford': 0,\n",
              "  'title': '[1] Memorandum of Conversation, by the Officer in Charge of West, Central, and East Africa Affairs ( Feld )',\n",
              "  'url': 1},\n",
              " {'Unnamed: 0': 1,\n",
              "  'context': 'The Ambassador in the Union of South Africa ( Gallman ) to the Department of State Capetown , March 14, 1952—4 p.m. secret 32. Part one. I feel that three-day conf held Capetown eleventh, twelfth, thirteenth ( Deptel 191, March 3 1 ), with participation diplomatic and consular officers from Union, Salisbury and Lourenco Marques was highly constructive and threw much light on principal problems confronting this area. All participants contributed ably with candor and keen sense appreciation situation southern Africa. 2 I opened conf stressing need for perfecting plan for maximum interchange info and coordination work. I referred to importance attached to mission here as stressed in Dept discussions preliminary to my departure last Sept and that our needs for funds, personnel and  facilities cld only be appreciated in Wash on basis of our giving Dept full picture of conditions under which we are working. All participating officers ably presented problems confronting Amer interests in their respective fields and outlined manner in which others cld assist. Cols Davis and Bland portrayed scope and effects political intrusion into South Africa armed forces. Parsons emphasized need for additional courier services, more frequent visits of officers between consular establishments, respects in which reporting from subordinate consulates cld support and strengthen reporting supervisory consulate general, effect of delayed assignment personnel on operating efficiency his office and steps taken for guidance to subordinate consulates. Sims covered underlying forces supporting opposing federation, complexity Rhodesian racial problems, need for assignment roving regional officer primarily concerned with native problem south of Sahara, need for econ officer commensurate with importance US Attaches to Rhodesian strategic minerals and area receptivity to constructive USIE program. Lamm stressed need for periodic visit mineral’s officer Johannesburg, complexity Mozambique racial and transport problems. Stone dealt with difficulties lack Amer secretary and funds for maintenance custody govt-owned properties, and need for more central location USIE library accessible Cape coloreds. Seddicum pictured Indian conflict with natives and Europeans, Communism in Indian organizations and European-Indian opposition implementation group areas act in natal. Robison dealt with port congestion and important Amer capital investment, particularly in motor industry, Port Elizabeth. Session on admin and consular questions approved centralization three protectorates in Johannesburg district, survey US leased facilities Capetown by Cairo security officer, and guard detail for Chancery security, in absence suitable quarters Pretoria and Capetown. Sweeney penetratingly analyzed conflict between Afrikaner and Black African nationalism with impact on Africa south of Sahara and susceptibility resulting tensions to Commie intrusion. He elaborated need for collating info previously submitted on native problem from entire area south of Sahara through research project, assignment specially qualified roving officer on native problem within this area and policy planning staff guidance to meet potential eventualities, stressing lack contact with native and non-European leaders throughout area. Birch analyzed major aspects South Africa industrialization and limitations posed by inadequacies of water, transport, skilled labor, capital, and emphasized Union’s efforts achieve greater national self-sufficiency.  He praised consular contributions to requirements and econ reports. Chartrand reviewed scope, targets, effectiveness USIE exchange persons and info programs and needs for USIE program Durban mobile unit, suitable office Johannesburg and support for USIE program Salisbury. Frisbie described utilization individual strategic materials in war effort and impact thereon if South Africa sources not available, and need for potential mineral survey Rhodesias and additional personnel and funds to cover extensive area assigned. Full report fols by air. 3 Part two. Fol constitutes summary conf recommendations: 1. Assignment qualified officer with [apparent garble] experience cover native affairs with special attention devoted rising nationalism throughout area south Sahara. Such officer wld coordinate present loose coverage this all-important subj. He wld have roving assignment and headquarters shld be centrally located. Preparatory such assignment Dept undertake basic research study African nationalism this area as guide. Furthermore, that policy planning staff provide field guidance this subj. 2. More adequate funds, deputy and Amer clerk be provided enable mineral’s officer discharge increased responsibilities in adjacent areas and Union in view growing importance strategic minerals these areas. 3. Assignment labor attaché and additional junior econ officers for Emb and Salisbury in view increased activity and importance to US of labor and econ fields. 4. Strengthening security Chancery premises Pretoria and Capetown, including assignment security guard detail. Security ConGen Capetown requires assignment Amer clerk. 5. Improvements to USIE physical facilities Johannesburg, Capetown and Durban and appointment librarian Capetown. Extension USIE facilities to Rhodesias. 6. Adequate courier service requires establishment courier based Johannesburg to service Union, Lourenco Marques and Salisbury plus increased service from Paris and Cairo to three trips monthly on which couriers wld proceed only to Johannesburg. Also provision for more frequent travel for Emb and Consular officers within area to supplement regular courier service. 7. Deterioration govt owned properties requires sending FBO rep to Union soonest for purposes survey and rehabilitation properties. 8. Authorizing central fiscal office Johannesburg make suballotments fiscal year basis of funds for operating expenses consular establishments. 9. Reapportionment consular districts to include all high commission territories under ConGen Johannesburg.  As Dept will see from full report of conf, sometime wld be needed adequately to analyze and evaluate wealth of info made available and to formulate suggestions based on it. Because of nature of much that was brought out in this conf, I strongly favor holding another conf within six or seven months. Breadth of discussions accentuated need expanding scope future confs to representation from all offices south Sahara. We all regretted no one from Dept able to attend and hope Dept will be represented next conf. Gallman Not printed; in it the Department approved the dates and agenda for the proposed consular conference at Capetown and suggested a few additional points for discussion at the conference. (120.4345A/2–1152) <U+21A9> The conference was formally designated the Consular and Administrative Conference at Capetown, Union of South Africa, Mar. 11–13, 1952. The following officers participated in the conference: Waldemar J. Gallman , Ambassador to the Union of South Africa Col. John J. Davis , Military Attaché at the Embassy in the Union of South Africa (Pretoria) Col. E. A. Bland , Jr., Air Attaché at the Embassy in the Union of South Africa (Pretoria) Marselis C. Parsons , Jr., Supervisory Consul General, Johannesburg Harold Sims , Consul General, Salisbury Donald W. Lamm , Consul, Lourenco Marques John F. Stone , Consul General, Capetown Paul C. Seddicum , Consul, Durban Harold D. Robison , Consul, Port Elizabeth Joseph Sweeney , Attaché at the Embassy in the Union of South Africa (Capetown) John A. Birch , Commercial Attaché at the Embassy in the Union of South Africa (Capetown) Chester R. Chartrand , Public Affairs Officer, Pretoria Bryan R. Frisbie , Minerals Officer, Johannesburg David A. Robertson , First Secretary of Embassy, Pretoria <U+21A9> The full report of the Capetown conference was transmitted to the Department as despatch 90, Apr. 18, 1952, from Capetown. The report comprised 106 pages. (120.4345A/4–1852) <U+21A9>',\n",
              "  'date': '1952-03-14',\n",
              "  'decade': 1950,\n",
              "  'language': 'English',\n",
              "  'num_capitalized_words': 202,\n",
              "  'num_words': 1152,\n",
              "  'perc_capitalized_words': 0.1753472222222222,\n",
              "  'source': 'Truman',\n",
              "  'stanford': 0,\n",
              "  'title': '[2] The Ambassador in the Union of South Africa ( Gallman ) to the Department of State',\n",
              "  'url': 2}]"
            ]
          },
          "metadata": {
            "tags": []
          },
          "execution_count": 11
        }
      ]
    },
    {
      "cell_type": "markdown",
      "metadata": {
        "id": "wo6mG037y02y",
        "colab_type": "text"
      },
      "source": [
        "**Add the JSON file to the MongoDB as a collection**"
      ]
    },
    {
      "cell_type": "code",
      "metadata": {
        "id": "iFLJri5YynaN",
        "colab_type": "code",
        "colab": {
          "base_uri": "https://localhost:8080/",
          "height": 35
        },
        "outputId": "acf5f40c-68e5-4d96-c22e-9787e2cf4a8a"
      },
      "source": [
        "db.AllPresidents.insert_many(all_presidents_collection, ordered=False)\n",
        "print(\"Data has been exported to MongoDB server.\")"
      ],
      "execution_count": 12,
      "outputs": [
        {
          "output_type": "stream",
          "text": [
            "Data has been exported to MongoDB server.\n"
          ],
          "name": "stdout"
        }
      ]
    },
    {
      "cell_type": "code",
      "metadata": {
        "id": "ixD6fLPsynQ9",
        "colab_type": "code",
        "colab": {
          "base_uri": "https://localhost:8080/",
          "height": 35
        },
        "outputId": "c7eedc45-cebc-4530-ea43-ab56963a9cff"
      },
      "source": [
        "db.list_collection_names()"
      ],
      "execution_count": 13,
      "outputs": [
        {
          "output_type": "execute_result",
          "data": {
            "text/plain": [
              "['Taft', 'AllPresidents']"
            ]
          },
          "metadata": {
            "tags": []
          },
          "execution_count": 13
        }
      ]
    },
    {
      "cell_type": "markdown",
      "metadata": {
        "id": "tVca79nO3-qG",
        "colab_type": "text"
      },
      "source": [
        "# Run Query"
      ]
    },
    {
      "cell_type": "code",
      "metadata": {
        "id": "sNG7BmEQym5V",
        "colab_type": "code",
        "colab": {
          "base_uri": "https://localhost:8080/",
          "height": 641
        },
        "outputId": "1feb5905-043d-4ab3-c1a3-9c6f1ae03d5b"
      },
      "source": [
        "collection = db.AllPresidents\n",
        "query = {'source':'Taft'}\n",
        "found = collection.find(query)\n",
        "\n",
        "for doc in found[:1]:\n",
        "    pprint.pprint(doc)\n",
        "\n",
        "print(\"\\n\\n{:,} total documents found.\".format(collection.count_documents(query)))"
      ],
      "execution_count": 5,
      "outputs": [
        {
          "output_type": "stream",
          "text": [
            "{'Unnamed: 0': 106432,\n",
            " '_id': ObjectId('5f5fb109ac046fc569f21257'),\n",
            " 'context': 'The Ambassador in France ( Herrick ) to the Secretary of State '\n",
            "            'American Embassy , Paris , July 28, 1914, 4 p.m. [ Received 7:30 '\n",
            "            'p.m. ] [Telegram] To be communicated to the President: Situation '\n",
            "            'in Europe is regarded here as the gravest in history. It is '\n",
            "            'apprehended that civilization is threatened by demoralization '\n",
            "            'which would follow a general conflagration. Demonstrations made '\n",
            "            'against war here last night by laboring classes; it is said to be '\n",
            "            'the first instance of its kind in France. It is felt that if '\n",
            "            'Germany once mobilizes no backward step will be taken. France has '\n",
            "            'strong reliance on her army but it is not giving way to undue '\n",
            "            'excitement. There is faith and reliance on our high ideals and '\n",
            "            'purposes, so that I believe expression from our nation would have '\n",
            "            'great weight in this crisis. My opinion is encouraged at '\n",
            "            'reception given utterances of British Minister for Foreign '\n",
            "            'Affairs. I believe that a strong plea for delay and moderation '\n",
            "            'from the President of the United States would meet with the '\n",
            "            'respect and approval of Europe and  urge the prompt consideration '\n",
            "            'of this question. This suggestion is consistent with our plea for '\n",
            "            'arbitration treaties and attitude toward world affairs generally. '\n",
            "            'I would not appear officious but deem it my duty to make this '\n",
            "            'expression to you. Herrick',\n",
            " 'date': '1914-07-28',\n",
            " 'decade': 1910,\n",
            " 'language': 'English',\n",
            " 'num_capitalized_words': 25,\n",
            " 'num_words': 221,\n",
            " 'perc_capitalized_words': 0.11312217194570134,\n",
            " 'source': 'Taft',\n",
            " 'stanford': 0,\n",
            " 'title': '[33] The Ambassador in France ( Herrick ) to the Secretary of State',\n",
            " 'url': 12314}\n",
            "\n",
            "\n",
            "6,209 total documents found.\n"
          ],
          "name": "stdout"
        }
      ]
    },
    {
      "cell_type": "markdown",
      "metadata": {
        "id": "YmXUOKkXB8LU",
        "colab_type": "text"
      },
      "source": [
        "# Shut down EC2 instance"
      ]
    },
    {
      "cell_type": "code",
      "metadata": {
        "id": "a0vbzNot_IM3",
        "colab_type": "code",
        "colab": {
          "base_uri": "https://localhost:8080/",
          "height": 208
        },
        "outputId": "f279ceca-919a-4901-b8f8-74f8b2306fc4"
      },
      "source": [
        "instance.stop()\n",
        "print('Stopping...')\n",
        "i = 0\n",
        "while instance.state['Name'] != 'stopped':\n",
        "    time.sleep(5)\n",
        "    i += 5\n",
        "    print(f'\\t{i} seconds elapsed... ({instance.state['Name']})')\n",
        "print('The EC2 instance has been stopped.')"
      ],
      "execution_count": 20,
      "outputs": [
        {
          "output_type": "execute_result",
          "data": {
            "text/plain": [
              "{'ResponseMetadata': {'HTTPHeaders': {'content-length': '579',\n",
              "   'content-type': 'text/xml;charset=UTF-8',\n",
              "   'date': 'Tue, 15 Sep 2020 18:17:37 GMT',\n",
              "   'server': 'AmazonEC2',\n",
              "   'x-amzn-requestid': '92ef0581-54ba-4375-82d9-ede9756dcf61'},\n",
              "  'HTTPStatusCode': 200,\n",
              "  'RequestId': '92ef0581-54ba-4375-82d9-ede9756dcf61',\n",
              "  'RetryAttempts': 0},\n",
              " 'StoppingInstances': [{'CurrentState': {'Code': 64, 'Name': 'stopping'},\n",
              "   'InstanceId': 'i-0d78025aafddfd00f',\n",
              "   'PreviousState': {'Code': 16, 'Name': 'running'}}]}"
            ]
          },
          "metadata": {
            "tags": []
          },
          "execution_count": 20
        }
      ]
    }
  ]
}